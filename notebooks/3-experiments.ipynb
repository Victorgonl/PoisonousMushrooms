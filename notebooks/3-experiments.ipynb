{
 "cells": [
  {
   "cell_type": "markdown",
   "id": "9d2dacee",
   "metadata": {},
   "source": [
    "# Poisonous Mushrooms: Experimentos\n",
    "\n",
    "<!-- TODO\n",
    "[x] Preprocess dataset\n",
    "[x] Divide dataset into 10-fold\n",
    "[x] Create train/val/test\n",
    "[x] Select model\n",
    "[x] Train k-fold cross validation\n",
    "[x] Train hold-out\n",
    "[x] Submission on Kaggle\n",
    "-->"
   ]
  },
  {
   "cell_type": "markdown",
   "id": "bc6ea340",
   "metadata": {},
   "source": [
    "**Universidade Federal de Ouro Preto**\n",
    "\n",
    "**PCC142 - Mineração de Dados - 2025/1**\n",
    "\n",
    "**Prof. Anderson Almeida Ferreira**\n",
    "\n",
    "**Victor G. Lima**"
   ]
  },
  {
   "cell_type": "markdown",
   "id": "3acd3bec",
   "metadata": {},
   "source": [
    "**Conteúdo:**    \n",
    "\n",
    "- Importações e ambiente   \n",
    " \n",
    "- Dataset    \n",
    "\n",
    "- Particionamento do dataset em 10 partes (folds)    \n",
    "\n",
    "- Criação de partições de treino, validação e teste com os 10 folds    \n",
    "\n",
    "- Pré-processamento    \n",
    "\n",
    "-  Função objetivo para busca de melhor combinação de hiper-parâmetros   \n",
    "\n",
    "- Experimento em hold-out    \n",
    "\n",
    "- Experimento em validação cruzada    \n",
    "\n",
    "- Predição da partição de teste para submissão no Kaggle   \n",
    "\n",
    "  - Treinando com todos os dados da partição original de treino  \n",
    "\n",
    "  - Criando um classificador por votação com os modelos da validação cruzada   \n",
    "\n",
    "    - Hard    \n",
    "\t\n",
    "    - Soft  \n",
    "\n",
    "<!-- vscode-jupyter-toc-config\n",
    "\tnumbering=false\n",
    "\tanchor=false\n",
    "\tflat=false\n",
    "\tminLevel=2\n",
    "\tmaxLevel=6\n",
    "\t/vscode-jupyter-toc-config -->\n",
    "<!-- THIS CELL WILL BE REPLACED ON TOC UPDATE. DO NOT WRITE YOUR TEXT IN THIS CELL -->"
   ]
  },
  {
   "cell_type": "markdown",
   "id": "8a0ce3d8",
   "metadata": {},
   "source": [
    "---\n",
    "\n",
    "**Este notebook apenas sumariza e executa os experimentos que são descritos e comentados no <a href=\"../docs/article.pdf\">artigo</a>.**\n",
    "\n",
    "---"
   ]
  },
  {
   "cell_type": "markdown",
   "id": "a8e1d2ce",
   "metadata": {},
   "source": [
    "## Importações e ambiente"
   ]
  },
  {
   "cell_type": "code",
   "execution_count": null,
   "id": "c6d1edaa",
   "metadata": {},
   "outputs": [],
   "source": [
    "import random\n",
    "import warnings\n",
    "import os\n",
    "import time\n",
    "import pickle\n",
    "from collections import Counter\n",
    "\n",
    "warnings.simplefilter(action=\"ignore\", category=Warning)\n",
    "\n",
    "%pip install numpy pandas optuna tqdm catboost scikit-learn\n",
    "\n",
    "import numpy as np\n",
    "import pandas as pd\n",
    "import optuna\n",
    "from optuna.visualization import plot_optimization_history\n",
    "from tqdm import tqdm\n",
    "from catboost import CatBoostClassifier\n",
    "from sklearn.metrics import accuracy_score, f1_score, precision_score, recall_score, matthews_corrcoef\n",
    "from IPython.display import clear_output\n",
    "\n",
    "from src.preprocessing import MushroomPreprocessor\n",
    "\n",
    "\n",
    "DEVICE = \"GPU\"\n",
    "open(\"./results/device.txt\", \"w\").write(str(DEVICE))\n",
    "\n",
    "SEED = 27\n",
    "open(\"./results/seed.txt\", \"w\").write(str(SEED))\n",
    "random.seed(SEED)\n",
    "\n",
    "clear_output()"
   ]
  },
  {
   "cell_type": "markdown",
   "id": "b990cdb7",
   "metadata": {},
   "source": [
    "## Dataset"
   ]
  },
  {
   "cell_type": "code",
   "execution_count": null,
   "id": "6b9ca3af",
   "metadata": {},
   "outputs": [
    {
     "name": "stdout",
     "output_type": "stream",
     "text": [
      "Number of samples: 3116945\n"
     ]
    },
    {
     "data": {
      "text/html": [
       "<div>\n",
       "<style scoped>\n",
       "    .dataframe tbody tr th:only-of-type {\n",
       "        vertical-align: middle;\n",
       "    }\n",
       "\n",
       "    .dataframe tbody tr th {\n",
       "        vertical-align: top;\n",
       "    }\n",
       "\n",
       "    .dataframe thead th {\n",
       "        text-align: right;\n",
       "    }\n",
       "</style>\n",
       "<table border=\"1\" class=\"dataframe\">\n",
       "  <thead>\n",
       "    <tr style=\"text-align: right;\">\n",
       "      <th></th>\n",
       "      <th>id</th>\n",
       "      <th>class</th>\n",
       "      <th>cap-diameter</th>\n",
       "      <th>cap-shape</th>\n",
       "      <th>cap-surface</th>\n",
       "      <th>cap-color</th>\n",
       "      <th>does-bruise-or-bleed</th>\n",
       "      <th>gill-attachment</th>\n",
       "      <th>gill-spacing</th>\n",
       "      <th>gill-color</th>\n",
       "      <th>...</th>\n",
       "      <th>stem-root</th>\n",
       "      <th>stem-surface</th>\n",
       "      <th>stem-color</th>\n",
       "      <th>veil-type</th>\n",
       "      <th>veil-color</th>\n",
       "      <th>has-ring</th>\n",
       "      <th>ring-type</th>\n",
       "      <th>spore-print-color</th>\n",
       "      <th>habitat</th>\n",
       "      <th>season</th>\n",
       "    </tr>\n",
       "  </thead>\n",
       "  <tbody>\n",
       "    <tr>\n",
       "      <th>0</th>\n",
       "      <td>0</td>\n",
       "      <td>e</td>\n",
       "      <td>8.80</td>\n",
       "      <td>f</td>\n",
       "      <td>s</td>\n",
       "      <td>u</td>\n",
       "      <td>f</td>\n",
       "      <td>a</td>\n",
       "      <td>c</td>\n",
       "      <td>w</td>\n",
       "      <td>...</td>\n",
       "      <td>NaN</td>\n",
       "      <td>NaN</td>\n",
       "      <td>w</td>\n",
       "      <td>NaN</td>\n",
       "      <td>NaN</td>\n",
       "      <td>f</td>\n",
       "      <td>f</td>\n",
       "      <td>NaN</td>\n",
       "      <td>d</td>\n",
       "      <td>a</td>\n",
       "    </tr>\n",
       "    <tr>\n",
       "      <th>1</th>\n",
       "      <td>1</td>\n",
       "      <td>p</td>\n",
       "      <td>4.51</td>\n",
       "      <td>x</td>\n",
       "      <td>h</td>\n",
       "      <td>o</td>\n",
       "      <td>f</td>\n",
       "      <td>a</td>\n",
       "      <td>c</td>\n",
       "      <td>n</td>\n",
       "      <td>...</td>\n",
       "      <td>NaN</td>\n",
       "      <td>y</td>\n",
       "      <td>o</td>\n",
       "      <td>NaN</td>\n",
       "      <td>NaN</td>\n",
       "      <td>t</td>\n",
       "      <td>z</td>\n",
       "      <td>NaN</td>\n",
       "      <td>d</td>\n",
       "      <td>w</td>\n",
       "    </tr>\n",
       "    <tr>\n",
       "      <th>2</th>\n",
       "      <td>2</td>\n",
       "      <td>e</td>\n",
       "      <td>6.94</td>\n",
       "      <td>f</td>\n",
       "      <td>s</td>\n",
       "      <td>b</td>\n",
       "      <td>f</td>\n",
       "      <td>x</td>\n",
       "      <td>c</td>\n",
       "      <td>w</td>\n",
       "      <td>...</td>\n",
       "      <td>NaN</td>\n",
       "      <td>s</td>\n",
       "      <td>n</td>\n",
       "      <td>NaN</td>\n",
       "      <td>NaN</td>\n",
       "      <td>f</td>\n",
       "      <td>f</td>\n",
       "      <td>NaN</td>\n",
       "      <td>l</td>\n",
       "      <td>w</td>\n",
       "    </tr>\n",
       "    <tr>\n",
       "      <th>3</th>\n",
       "      <td>3</td>\n",
       "      <td>e</td>\n",
       "      <td>3.88</td>\n",
       "      <td>f</td>\n",
       "      <td>y</td>\n",
       "      <td>g</td>\n",
       "      <td>f</td>\n",
       "      <td>s</td>\n",
       "      <td>NaN</td>\n",
       "      <td>g</td>\n",
       "      <td>...</td>\n",
       "      <td>NaN</td>\n",
       "      <td>NaN</td>\n",
       "      <td>w</td>\n",
       "      <td>NaN</td>\n",
       "      <td>NaN</td>\n",
       "      <td>f</td>\n",
       "      <td>f</td>\n",
       "      <td>NaN</td>\n",
       "      <td>d</td>\n",
       "      <td>u</td>\n",
       "    </tr>\n",
       "    <tr>\n",
       "      <th>4</th>\n",
       "      <td>4</td>\n",
       "      <td>e</td>\n",
       "      <td>5.85</td>\n",
       "      <td>x</td>\n",
       "      <td>l</td>\n",
       "      <td>w</td>\n",
       "      <td>f</td>\n",
       "      <td>d</td>\n",
       "      <td>NaN</td>\n",
       "      <td>w</td>\n",
       "      <td>...</td>\n",
       "      <td>NaN</td>\n",
       "      <td>NaN</td>\n",
       "      <td>w</td>\n",
       "      <td>NaN</td>\n",
       "      <td>NaN</td>\n",
       "      <td>f</td>\n",
       "      <td>f</td>\n",
       "      <td>NaN</td>\n",
       "      <td>g</td>\n",
       "      <td>a</td>\n",
       "    </tr>\n",
       "  </tbody>\n",
       "</table>\n",
       "<p>5 rows × 22 columns</p>\n",
       "</div>"
      ],
      "text/plain": [
       "   id class  cap-diameter cap-shape cap-surface cap-color  \\\n",
       "0   0     e          8.80         f           s         u   \n",
       "1   1     p          4.51         x           h         o   \n",
       "2   2     e          6.94         f           s         b   \n",
       "3   3     e          3.88         f           y         g   \n",
       "4   4     e          5.85         x           l         w   \n",
       "\n",
       "  does-bruise-or-bleed gill-attachment gill-spacing gill-color  ...  \\\n",
       "0                    f               a            c          w  ...   \n",
       "1                    f               a            c          n  ...   \n",
       "2                    f               x            c          w  ...   \n",
       "3                    f               s          NaN          g  ...   \n",
       "4                    f               d          NaN          w  ...   \n",
       "\n",
       "   stem-root  stem-surface stem-color veil-type veil-color has-ring ring-type  \\\n",
       "0        NaN           NaN          w       NaN        NaN        f         f   \n",
       "1        NaN             y          o       NaN        NaN        t         z   \n",
       "2        NaN             s          n       NaN        NaN        f         f   \n",
       "3        NaN           NaN          w       NaN        NaN        f         f   \n",
       "4        NaN           NaN          w       NaN        NaN        f         f   \n",
       "\n",
       "  spore-print-color habitat season  \n",
       "0               NaN       d      a  \n",
       "1               NaN       d      w  \n",
       "2               NaN       l      w  \n",
       "3               NaN       d      u  \n",
       "4               NaN       g      a  \n",
       "\n",
       "[5 rows x 22 columns]"
      ]
     },
     "execution_count": 2,
     "metadata": {},
     "output_type": "execute_result"
    }
   ],
   "source": [
    "data = pd.read_csv(\"./data/kaggle_mushroom/train.csv\")\n",
    "secondary_mushroom = pd.read_csv(\"./data/secondary_mushroom/secondary_data.csv\", sep=\";\")\n",
    "n_samples = len(data)\n",
    "\n",
    "print(\"Number of samples:\", n_samples)\n",
    "data.head()"
   ]
  },
  {
   "cell_type": "markdown",
   "id": "c9b63387",
   "metadata": {},
   "source": [
    "## Particionamento do dataset em 10 partes (folds)"
   ]
  },
  {
   "cell_type": "code",
   "execution_count": null,
   "id": "7051c030",
   "metadata": {},
   "outputs": [
    {
     "data": {
      "text/html": [
       "<div>\n",
       "<style scoped>\n",
       "    .dataframe tbody tr th:only-of-type {\n",
       "        vertical-align: middle;\n",
       "    }\n",
       "\n",
       "    .dataframe tbody tr th {\n",
       "        vertical-align: top;\n",
       "    }\n",
       "\n",
       "    .dataframe thead th {\n",
       "        text-align: right;\n",
       "    }\n",
       "</style>\n",
       "<table border=\"1\" class=\"dataframe\">\n",
       "  <thead>\n",
       "    <tr style=\"text-align: right;\">\n",
       "      <th></th>\n",
       "      <th>Fold</th>\n",
       "      <th>Instances</th>\n",
       "      <th>Percentage (%)</th>\n",
       "    </tr>\n",
       "  </thead>\n",
       "  <tbody>\n",
       "    <tr>\n",
       "      <th>0</th>\n",
       "      <td>0</td>\n",
       "      <td>311695</td>\n",
       "      <td>10.000016</td>\n",
       "    </tr>\n",
       "    <tr>\n",
       "      <th>1</th>\n",
       "      <td>1</td>\n",
       "      <td>311695</td>\n",
       "      <td>10.000016</td>\n",
       "    </tr>\n",
       "    <tr>\n",
       "      <th>2</th>\n",
       "      <td>2</td>\n",
       "      <td>311695</td>\n",
       "      <td>10.000016</td>\n",
       "    </tr>\n",
       "    <tr>\n",
       "      <th>3</th>\n",
       "      <td>3</td>\n",
       "      <td>311695</td>\n",
       "      <td>10.000016</td>\n",
       "    </tr>\n",
       "    <tr>\n",
       "      <th>4</th>\n",
       "      <td>4</td>\n",
       "      <td>311695</td>\n",
       "      <td>10.000016</td>\n",
       "    </tr>\n",
       "    <tr>\n",
       "      <th>5</th>\n",
       "      <td>5</td>\n",
       "      <td>311694</td>\n",
       "      <td>9.999984</td>\n",
       "    </tr>\n",
       "    <tr>\n",
       "      <th>6</th>\n",
       "      <td>6</td>\n",
       "      <td>311694</td>\n",
       "      <td>9.999984</td>\n",
       "    </tr>\n",
       "    <tr>\n",
       "      <th>7</th>\n",
       "      <td>7</td>\n",
       "      <td>311694</td>\n",
       "      <td>9.999984</td>\n",
       "    </tr>\n",
       "    <tr>\n",
       "      <th>8</th>\n",
       "      <td>8</td>\n",
       "      <td>311694</td>\n",
       "      <td>9.999984</td>\n",
       "    </tr>\n",
       "    <tr>\n",
       "      <th>9</th>\n",
       "      <td>9</td>\n",
       "      <td>311694</td>\n",
       "      <td>9.999984</td>\n",
       "    </tr>\n",
       "  </tbody>\n",
       "</table>\n",
       "</div>"
      ],
      "text/plain": [
       "   Fold  Instances  Percentage (%)\n",
       "0     0     311695       10.000016\n",
       "1     1     311695       10.000016\n",
       "2     2     311695       10.000016\n",
       "3     3     311695       10.000016\n",
       "4     4     311695       10.000016\n",
       "5     5     311694        9.999984\n",
       "6     6     311694        9.999984\n",
       "7     7     311694        9.999984\n",
       "8     8     311694        9.999984\n",
       "9     9     311694        9.999984"
      ]
     },
     "execution_count": 3,
     "metadata": {},
     "output_type": "execute_result"
    }
   ],
   "source": [
    "# suffle dataset\n",
    "data = data.sample(frac=1).reset_index(drop=True)\n",
    "\n",
    "# 10-folds\n",
    "folds = [data.iloc[i::10].reset_index(drop=True) for i in range(10)]\n",
    "\n",
    "pd.DataFrame(\n",
    "    {\n",
    "        \"Fold\": [i for i in range(10)],\n",
    "        \"Instances\": [len(fold) for fold in folds],\n",
    "        \"Percentage (%)\": [len(fold) / n_samples * 100 for fold in folds],\n",
    "    }\n",
    ")"
   ]
  },
  {
   "cell_type": "markdown",
   "id": "2852fab9",
   "metadata": {},
   "source": [
    "## Criação de partições de treino, validação e teste com os 10 folds"
   ]
  },
  {
   "cell_type": "code",
   "execution_count": null,
   "id": "fa1fd5e2",
   "metadata": {},
   "outputs": [
    {
     "data": {
      "text/html": [
       "<div>\n",
       "<style scoped>\n",
       "    .dataframe tbody tr th:only-of-type {\n",
       "        vertical-align: middle;\n",
       "    }\n",
       "\n",
       "    .dataframe tbody tr th {\n",
       "        vertical-align: top;\n",
       "    }\n",
       "\n",
       "    .dataframe thead th {\n",
       "        text-align: right;\n",
       "    }\n",
       "</style>\n",
       "<table border=\"1\" class=\"dataframe\">\n",
       "  <thead>\n",
       "    <tr style=\"text-align: right;\">\n",
       "      <th></th>\n",
       "      <th>Partition</th>\n",
       "      <th>Instances</th>\n",
       "      <th>Percentage (%)</th>\n",
       "    </tr>\n",
       "  </thead>\n",
       "  <tbody>\n",
       "    <tr>\n",
       "      <th>0</th>\n",
       "      <td>Train</td>\n",
       "      <td>2181863</td>\n",
       "      <td>70.000048</td>\n",
       "    </tr>\n",
       "    <tr>\n",
       "      <th>1</th>\n",
       "      <td>Validation</td>\n",
       "      <td>311694</td>\n",
       "      <td>9.999984</td>\n",
       "    </tr>\n",
       "    <tr>\n",
       "      <th>2</th>\n",
       "      <td>Test</td>\n",
       "      <td>623388</td>\n",
       "      <td>19.999968</td>\n",
       "    </tr>\n",
       "  </tbody>\n",
       "</table>\n",
       "</div>"
      ],
      "text/plain": [
       "    Partition  Instances  Percentage (%)\n",
       "0       Train    2181863       70.000048\n",
       "1  Validation     311694        9.999984\n",
       "2        Test     623388       19.999968"
      ]
     },
     "execution_count": 4,
     "metadata": {},
     "output_type": "execute_result"
    }
   ],
   "source": [
    "# train, val and test\n",
    "train_data = pd.concat([folds[i] for i in [0, 1, 2, 3, 4, 5, 6]], ignore_index=True)\n",
    "val_data = pd.concat([folds[i] for i in [7]], ignore_index=True)\n",
    "test_data = pd.concat([folds[i] for i in [8, 9]], ignore_index=True)\n",
    "\n",
    "pd.DataFrame(\n",
    "    {\n",
    "        \"Partition\": [\"Train\", \"Validation\", \"Test\"],\n",
    "        \"Instances\": [\n",
    "            len(train_data),\n",
    "            len(val_data),\n",
    "            len(test_data),\n",
    "        ],\n",
    "        \"Percentage (%)\": [\n",
    "            len(train_data) / n_samples * 100,\n",
    "            len(val_data) / n_samples * 100,\n",
    "            len(test_data) / n_samples * 100,\n",
    "        ],\n",
    "    }\n",
    ")"
   ]
  },
  {
   "cell_type": "markdown",
   "id": "9d0a7639",
   "metadata": {},
   "source": [
    "## Pré-processamento"
   ]
  },
  {
   "cell_type": "markdown",
   "id": "6fb2cb29",
   "metadata": {},
   "source": [
    "O mesmo realizado anteriormene."
   ]
  },
  {
   "cell_type": "code",
   "execution_count": null,
   "id": "59c8e6b1",
   "metadata": {},
   "outputs": [
    {
     "name": "stdout",
     "output_type": "stream",
     "text": [
      "train (2181863, 15) (2181863,)\n",
      "val (311694, 15) (311694,)\n",
      "test (623388, 15) (623388,)\n"
     ]
    }
   ],
   "source": [
    "preprocessor = MushroomPreprocessor(secondary_mushroom)\n",
    "pickle.dump(preprocessor, open(\"./results/hold_out_preprocessor.pkl\", \"wb\"))\n",
    "\n",
    "X_train, y_train = preprocessor.fit_transform(train_data)\n",
    "X_val, y_val = preprocessor.transform(val_data)\n",
    "X_test, y_test = preprocessor.transform(test_data)\n",
    "\n",
    "clear_output()\n",
    "print(\"train\", X_train.shape, y_train.shape)\n",
    "print(\"val\", X_val.shape, y_val.shape)\n",
    "print(\"test\", X_test.shape, y_test.shape)"
   ]
  },
  {
   "cell_type": "markdown",
   "id": "5590d953",
   "metadata": {},
   "source": [
    "##  Função objetivo para busca de melhor combinação de hiper-parâmetros"
   ]
  },
  {
   "cell_type": "code",
   "execution_count": null,
   "id": "e4d98ea3",
   "metadata": {},
   "outputs": [],
   "source": [
    "def create_objective(X_train, y_train, X_val, y_val, device=\"CPU\"):\n",
    "    def objective(trial: optuna.Trial):\n",
    "        params = {\n",
    "            \"iterations\": trial.suggest_categorical(\"iterations\", [250, 500, 750, 1000]),\n",
    "            \"learning_rate\": trial.suggest_float(\"learning_rate\", 0.001, 0.1, log=True),\n",
    "            \"depth\": int(trial.suggest_int(\"depth\", low=4, high=12)),\n",
    "            \"l2_leaf_reg\": int(trial.suggest_int(\"l2_leaf_reg\", low=2, high=10)),\n",
    "            \"border_count\": trial.suggest_categorical(\"border_count\", [64, 128, 254]),\n",
    "            \"loss_function\": \"Logloss\",\n",
    "            \"feature_border_type\": \"GreedyLogSum\",\n",
    "            \"early_stopping_rounds\": 50,\n",
    "        }\n",
    "\n",
    "        model = CatBoostClassifier(verbose=0, use_best_model=True, task_type=device, **params)\n",
    "\n",
    "        model.fit(X_train, y_train, eval_set=(X_val, y_val), verbose=False)\n",
    "        y_pred = model.predict(X_val)\n",
    "        mcc = matthews_corrcoef(y_val, y_pred)\n",
    "        return mcc\n",
    "\n",
    "    return objective"
   ]
  },
  {
   "cell_type": "markdown",
   "id": "6da2e8be",
   "metadata": {},
   "source": [
    "## Experimento em hold-out"
   ]
  },
  {
   "cell_type": "code",
   "execution_count": null,
   "id": "8e85d0b4",
   "metadata": {},
   "outputs": [
    {
     "name": "stdout",
     "output_type": "stream",
     "text": [
      "Best trial: 76\n",
      "- MCC: 0.9823813757931498\n",
      "- Params: {'iterations': 1000, 'learning_rate': 0.0731971947212699, 'depth': 12, 'l2_leaf_reg': 7, 'border_count': 64}\n"
     ]
    }
   ],
   "source": [
    "n_trials = 100\n",
    "\n",
    "study = optuna.create_study(\n",
    "    direction=\"maximize\",\n",
    "    study_name=\"train_val_test\",\n",
    "    storage=\"sqlite:///results/optuna.sqlite3\",\n",
    "    load_if_exists=True,\n",
    ")\n",
    "\n",
    "objective = create_objective(X_train, y_train, X_val, y_val, device=DEVICE)\n",
    "study.optimize(objective, n_trials=n_trials - len(study.get_trials()), show_progress_bar=True)\n",
    "\n",
    "clear_output()\n",
    "print(\"Best trial:\", study.best_trial.number)\n",
    "print(f\"- MCC: {study.best_value}\")\n",
    "print(f\"- Params: {study.best_params}\")"
   ]
  },
  {
   "cell_type": "code",
   "execution_count": null,
   "id": "7cf2df94",
   "metadata": {},
   "outputs": [
    {
     "data": {
      "application/vnd.plotly.v1+json": {
       "config": {
        "plotlyServerURL": "https://plot.ly"
       },
       "data": [
        {
         "mode": "markers",
         "name": "Objective Value",
         "type": "scatter",
         "x": [
          0,
          1,
          2,
          3,
          4,
          5,
          6,
          7,
          8,
          9,
          10,
          11,
          12,
          13,
          14,
          15,
          16,
          17,
          18,
          19,
          20,
          21,
          22,
          23,
          24,
          25,
          26,
          27,
          28,
          29,
          30,
          31,
          32,
          33,
          34,
          35,
          36,
          37,
          38,
          39,
          40,
          41,
          42,
          43,
          44,
          45,
          46,
          47,
          48,
          49,
          50,
          51,
          52,
          53,
          54,
          55,
          56,
          57,
          58,
          59,
          60,
          61,
          62,
          63,
          64,
          65,
          66,
          67,
          68,
          69,
          70,
          71,
          72,
          73,
          74,
          75,
          76,
          77,
          78,
          79,
          80,
          81,
          82,
          83,
          84,
          85,
          86,
          87,
          88,
          89,
          90,
          91,
          92,
          93,
          94,
          95,
          96,
          97,
          98,
          99
         ],
         "y": [
          0.93166754904134,
          0.7826919304618402,
          0.9592768222100695,
          0.9689402577011776,
          0.8961688328419662,
          0.8971014192025712,
          0.9802214088689128,
          0.9755506472790102,
          0.9717891087305718,
          0.9719225198025325,
          0.9712577920208858,
          0.9754796182765973,
          0.9821295564434591,
          0.9821749422929468,
          0.980814822768847,
          0.9810416553363507,
          0.970595317040924,
          0.9814298155820939,
          0.9785505209467824,
          0.9716236184299979,
          0.981825436495378,
          0.9820513982619222,
          0.9814366000864071,
          0.9819860656495196,
          0.9815851761193752,
          0.9810937858722556,
          0.9818056506114085,
          0.9788163909528598,
          0.9797479750389159,
          0.9816700293241598,
          0.9733147687718944,
          0.9818182169252974,
          0.981605198188814,
          0.9819479673264878,
          0.9816048579037193,
          0.9815726120416072,
          0.9743594608585207,
          0.9708519950402666,
          0.980633616998183,
          0.9809961727284614,
          0.9818184533631796,
          0.9822780824566322,
          0.9818963732479126,
          0.9820704241307363,
          0.9796499678383246,
          0.977522835796257,
          0.981146597942002,
          0.9812295519499875,
          0.9820255995036674,
          0.8493806491836019,
          0.9758708088255232,
          0.9820324820205946,
          0.9823101457560981,
          0.9821618017247502,
          0.9821547850323541,
          0.9820776733267892,
          0.9821938585767469,
          0.9821298017061166,
          0.9817402577967443,
          0.9822587811637998,
          0.9730689223840348,
          0.9822458823383969,
          0.982226295952562,
          0.9821939057428137,
          0.9821810539655814,
          0.9822458823383969,
          0.9822198937737776,
          0.9819607716080582,
          0.9812811922532805,
          0.9821103080126258,
          0.981398103428195,
          0.9823044071567383,
          0.9821740899246387,
          0.9823233250698269,
          0.9821875034950215,
          0.9822396747248425,
          0.9823813757931498,
          0.9822071387334066,
          0.9759928182612226,
          0.9816183926198921,
          0.98035682500192,
          0.9822719196608757,
          0.9821808180576157,
          0.9822521420261712,
          0.9823039757086672,
          0.9777931894255091,
          0.9821944845628331,
          0.9808076705813668,
          0.9821034700497795,
          0.9818965192699425,
          0.9779742712328438,
          0.9822065719402688,
          0.9821753884571593,
          0.9821935330191385,
          0.9822261081014226,
          0.982285060665238,
          0.9822786610534016,
          0.9822974317712109,
          0.9802646603756302,
          0.9820383110197793
         ]
        },
        {
         "mode": "lines",
         "name": "Best Value",
         "type": "scatter",
         "x": [
          0,
          1,
          2,
          3,
          4,
          5,
          6,
          7,
          8,
          9,
          10,
          11,
          12,
          13,
          14,
          15,
          16,
          17,
          18,
          19,
          20,
          21,
          22,
          23,
          24,
          25,
          26,
          27,
          28,
          29,
          30,
          31,
          32,
          33,
          34,
          35,
          36,
          37,
          38,
          39,
          40,
          41,
          42,
          43,
          44,
          45,
          46,
          47,
          48,
          49,
          50,
          51,
          52,
          53,
          54,
          55,
          56,
          57,
          58,
          59,
          60,
          61,
          62,
          63,
          64,
          65,
          66,
          67,
          68,
          69,
          70,
          71,
          72,
          73,
          74,
          75,
          76,
          77,
          78,
          79,
          80,
          81,
          82,
          83,
          84,
          85,
          86,
          87,
          88,
          89,
          90,
          91,
          92,
          93,
          94,
          95,
          96,
          97,
          98,
          99
         ],
         "y": [
          0.93166754904134,
          0.93166754904134,
          0.9592768222100695,
          0.9689402577011776,
          0.9689402577011776,
          0.9689402577011776,
          0.9802214088689128,
          0.9802214088689128,
          0.9802214088689128,
          0.9802214088689128,
          0.9802214088689128,
          0.9802214088689128,
          0.9821295564434591,
          0.9821749422929468,
          0.9821749422929468,
          0.9821749422929468,
          0.9821749422929468,
          0.9821749422929468,
          0.9821749422929468,
          0.9821749422929468,
          0.9821749422929468,
          0.9821749422929468,
          0.9821749422929468,
          0.9821749422929468,
          0.9821749422929468,
          0.9821749422929468,
          0.9821749422929468,
          0.9821749422929468,
          0.9821749422929468,
          0.9821749422929468,
          0.9821749422929468,
          0.9821749422929468,
          0.9821749422929468,
          0.9821749422929468,
          0.9821749422929468,
          0.9821749422929468,
          0.9821749422929468,
          0.9821749422929468,
          0.9821749422929468,
          0.9821749422929468,
          0.9821749422929468,
          0.9822780824566322,
          0.9822780824566322,
          0.9822780824566322,
          0.9822780824566322,
          0.9822780824566322,
          0.9822780824566322,
          0.9822780824566322,
          0.9822780824566322,
          0.9822780824566322,
          0.9822780824566322,
          0.9822780824566322,
          0.9823101457560981,
          0.9823101457560981,
          0.9823101457560981,
          0.9823101457560981,
          0.9823101457560981,
          0.9823101457560981,
          0.9823101457560981,
          0.9823101457560981,
          0.9823101457560981,
          0.9823101457560981,
          0.9823101457560981,
          0.9823101457560981,
          0.9823101457560981,
          0.9823101457560981,
          0.9823101457560981,
          0.9823101457560981,
          0.9823101457560981,
          0.9823101457560981,
          0.9823101457560981,
          0.9823101457560981,
          0.9823101457560981,
          0.9823233250698269,
          0.9823233250698269,
          0.9823233250698269,
          0.9823813757931498,
          0.9823813757931498,
          0.9823813757931498,
          0.9823813757931498,
          0.9823813757931498,
          0.9823813757931498,
          0.9823813757931498,
          0.9823813757931498,
          0.9823813757931498,
          0.9823813757931498,
          0.9823813757931498,
          0.9823813757931498,
          0.9823813757931498,
          0.9823813757931498,
          0.9823813757931498,
          0.9823813757931498,
          0.9823813757931498,
          0.9823813757931498,
          0.9823813757931498,
          0.9823813757931498,
          0.9823813757931498,
          0.9823813757931498,
          0.9823813757931498,
          0.9823813757931498
         ]
        },
        {
         "marker": {
          "color": "#cccccc"
         },
         "mode": "markers",
         "name": "Infeasible Trial",
         "showlegend": false,
         "type": "scatter",
         "x": [],
         "y": []
        }
       ],
       "layout": {
        "height": 600,
        "template": {
         "data": {
          "bar": [
           {
            "error_x": {
             "color": "#2a3f5f"
            },
            "error_y": {
             "color": "#2a3f5f"
            },
            "marker": {
             "line": {
              "color": "#E5ECF6",
              "width": 0.5
             },
             "pattern": {
              "fillmode": "overlay",
              "size": 10,
              "solidity": 0.2
             }
            },
            "type": "bar"
           }
          ],
          "barpolar": [
           {
            "marker": {
             "line": {
              "color": "#E5ECF6",
              "width": 0.5
             },
             "pattern": {
              "fillmode": "overlay",
              "size": 10,
              "solidity": 0.2
             }
            },
            "type": "barpolar"
           }
          ],
          "carpet": [
           {
            "aaxis": {
             "endlinecolor": "#2a3f5f",
             "gridcolor": "white",
             "linecolor": "white",
             "minorgridcolor": "white",
             "startlinecolor": "#2a3f5f"
            },
            "baxis": {
             "endlinecolor": "#2a3f5f",
             "gridcolor": "white",
             "linecolor": "white",
             "minorgridcolor": "white",
             "startlinecolor": "#2a3f5f"
            },
            "type": "carpet"
           }
          ],
          "choropleth": [
           {
            "colorbar": {
             "outlinewidth": 0,
             "ticks": ""
            },
            "type": "choropleth"
           }
          ],
          "contour": [
           {
            "colorbar": {
             "outlinewidth": 0,
             "ticks": ""
            },
            "colorscale": [
             [
              0,
              "#0d0887"
             ],
             [
              0.1111111111111111,
              "#46039f"
             ],
             [
              0.2222222222222222,
              "#7201a8"
             ],
             [
              0.3333333333333333,
              "#9c179e"
             ],
             [
              0.4444444444444444,
              "#bd3786"
             ],
             [
              0.5555555555555556,
              "#d8576b"
             ],
             [
              0.6666666666666666,
              "#ed7953"
             ],
             [
              0.7777777777777778,
              "#fb9f3a"
             ],
             [
              0.8888888888888888,
              "#fdca26"
             ],
             [
              1,
              "#f0f921"
             ]
            ],
            "type": "contour"
           }
          ],
          "contourcarpet": [
           {
            "colorbar": {
             "outlinewidth": 0,
             "ticks": ""
            },
            "type": "contourcarpet"
           }
          ],
          "heatmap": [
           {
            "colorbar": {
             "outlinewidth": 0,
             "ticks": ""
            },
            "colorscale": [
             [
              0,
              "#0d0887"
             ],
             [
              0.1111111111111111,
              "#46039f"
             ],
             [
              0.2222222222222222,
              "#7201a8"
             ],
             [
              0.3333333333333333,
              "#9c179e"
             ],
             [
              0.4444444444444444,
              "#bd3786"
             ],
             [
              0.5555555555555556,
              "#d8576b"
             ],
             [
              0.6666666666666666,
              "#ed7953"
             ],
             [
              0.7777777777777778,
              "#fb9f3a"
             ],
             [
              0.8888888888888888,
              "#fdca26"
             ],
             [
              1,
              "#f0f921"
             ]
            ],
            "type": "heatmap"
           }
          ],
          "histogram": [
           {
            "marker": {
             "pattern": {
              "fillmode": "overlay",
              "size": 10,
              "solidity": 0.2
             }
            },
            "type": "histogram"
           }
          ],
          "histogram2d": [
           {
            "colorbar": {
             "outlinewidth": 0,
             "ticks": ""
            },
            "colorscale": [
             [
              0,
              "#0d0887"
             ],
             [
              0.1111111111111111,
              "#46039f"
             ],
             [
              0.2222222222222222,
              "#7201a8"
             ],
             [
              0.3333333333333333,
              "#9c179e"
             ],
             [
              0.4444444444444444,
              "#bd3786"
             ],
             [
              0.5555555555555556,
              "#d8576b"
             ],
             [
              0.6666666666666666,
              "#ed7953"
             ],
             [
              0.7777777777777778,
              "#fb9f3a"
             ],
             [
              0.8888888888888888,
              "#fdca26"
             ],
             [
              1,
              "#f0f921"
             ]
            ],
            "type": "histogram2d"
           }
          ],
          "histogram2dcontour": [
           {
            "colorbar": {
             "outlinewidth": 0,
             "ticks": ""
            },
            "colorscale": [
             [
              0,
              "#0d0887"
             ],
             [
              0.1111111111111111,
              "#46039f"
             ],
             [
              0.2222222222222222,
              "#7201a8"
             ],
             [
              0.3333333333333333,
              "#9c179e"
             ],
             [
              0.4444444444444444,
              "#bd3786"
             ],
             [
              0.5555555555555556,
              "#d8576b"
             ],
             [
              0.6666666666666666,
              "#ed7953"
             ],
             [
              0.7777777777777778,
              "#fb9f3a"
             ],
             [
              0.8888888888888888,
              "#fdca26"
             ],
             [
              1,
              "#f0f921"
             ]
            ],
            "type": "histogram2dcontour"
           }
          ],
          "mesh3d": [
           {
            "colorbar": {
             "outlinewidth": 0,
             "ticks": ""
            },
            "type": "mesh3d"
           }
          ],
          "parcoords": [
           {
            "line": {
             "colorbar": {
              "outlinewidth": 0,
              "ticks": ""
             }
            },
            "type": "parcoords"
           }
          ],
          "pie": [
           {
            "automargin": true,
            "type": "pie"
           }
          ],
          "scatter": [
           {
            "fillpattern": {
             "fillmode": "overlay",
             "size": 10,
             "solidity": 0.2
            },
            "type": "scatter"
           }
          ],
          "scatter3d": [
           {
            "line": {
             "colorbar": {
              "outlinewidth": 0,
              "ticks": ""
             }
            },
            "marker": {
             "colorbar": {
              "outlinewidth": 0,
              "ticks": ""
             }
            },
            "type": "scatter3d"
           }
          ],
          "scattercarpet": [
           {
            "marker": {
             "colorbar": {
              "outlinewidth": 0,
              "ticks": ""
             }
            },
            "type": "scattercarpet"
           }
          ],
          "scattergeo": [
           {
            "marker": {
             "colorbar": {
              "outlinewidth": 0,
              "ticks": ""
             }
            },
            "type": "scattergeo"
           }
          ],
          "scattergl": [
           {
            "marker": {
             "colorbar": {
              "outlinewidth": 0,
              "ticks": ""
             }
            },
            "type": "scattergl"
           }
          ],
          "scattermap": [
           {
            "marker": {
             "colorbar": {
              "outlinewidth": 0,
              "ticks": ""
             }
            },
            "type": "scattermap"
           }
          ],
          "scattermapbox": [
           {
            "marker": {
             "colorbar": {
              "outlinewidth": 0,
              "ticks": ""
             }
            },
            "type": "scattermapbox"
           }
          ],
          "scatterpolar": [
           {
            "marker": {
             "colorbar": {
              "outlinewidth": 0,
              "ticks": ""
             }
            },
            "type": "scatterpolar"
           }
          ],
          "scatterpolargl": [
           {
            "marker": {
             "colorbar": {
              "outlinewidth": 0,
              "ticks": ""
             }
            },
            "type": "scatterpolargl"
           }
          ],
          "scatterternary": [
           {
            "marker": {
             "colorbar": {
              "outlinewidth": 0,
              "ticks": ""
             }
            },
            "type": "scatterternary"
           }
          ],
          "surface": [
           {
            "colorbar": {
             "outlinewidth": 0,
             "ticks": ""
            },
            "colorscale": [
             [
              0,
              "#0d0887"
             ],
             [
              0.1111111111111111,
              "#46039f"
             ],
             [
              0.2222222222222222,
              "#7201a8"
             ],
             [
              0.3333333333333333,
              "#9c179e"
             ],
             [
              0.4444444444444444,
              "#bd3786"
             ],
             [
              0.5555555555555556,
              "#d8576b"
             ],
             [
              0.6666666666666666,
              "#ed7953"
             ],
             [
              0.7777777777777778,
              "#fb9f3a"
             ],
             [
              0.8888888888888888,
              "#fdca26"
             ],
             [
              1,
              "#f0f921"
             ]
            ],
            "type": "surface"
           }
          ],
          "table": [
           {
            "cells": {
             "fill": {
              "color": "#EBF0F8"
             },
             "line": {
              "color": "white"
             }
            },
            "header": {
             "fill": {
              "color": "#C8D4E3"
             },
             "line": {
              "color": "white"
             }
            },
            "type": "table"
           }
          ]
         },
         "layout": {
          "annotationdefaults": {
           "arrowcolor": "#2a3f5f",
           "arrowhead": 0,
           "arrowwidth": 1
          },
          "autotypenumbers": "strict",
          "coloraxis": {
           "colorbar": {
            "outlinewidth": 0,
            "ticks": ""
           }
          },
          "colorscale": {
           "diverging": [
            [
             0,
             "#8e0152"
            ],
            [
             0.1,
             "#c51b7d"
            ],
            [
             0.2,
             "#de77ae"
            ],
            [
             0.3,
             "#f1b6da"
            ],
            [
             0.4,
             "#fde0ef"
            ],
            [
             0.5,
             "#f7f7f7"
            ],
            [
             0.6,
             "#e6f5d0"
            ],
            [
             0.7,
             "#b8e186"
            ],
            [
             0.8,
             "#7fbc41"
            ],
            [
             0.9,
             "#4d9221"
            ],
            [
             1,
             "#276419"
            ]
           ],
           "sequential": [
            [
             0,
             "#0d0887"
            ],
            [
             0.1111111111111111,
             "#46039f"
            ],
            [
             0.2222222222222222,
             "#7201a8"
            ],
            [
             0.3333333333333333,
             "#9c179e"
            ],
            [
             0.4444444444444444,
             "#bd3786"
            ],
            [
             0.5555555555555556,
             "#d8576b"
            ],
            [
             0.6666666666666666,
             "#ed7953"
            ],
            [
             0.7777777777777778,
             "#fb9f3a"
            ],
            [
             0.8888888888888888,
             "#fdca26"
            ],
            [
             1,
             "#f0f921"
            ]
           ],
           "sequentialminus": [
            [
             0,
             "#0d0887"
            ],
            [
             0.1111111111111111,
             "#46039f"
            ],
            [
             0.2222222222222222,
             "#7201a8"
            ],
            [
             0.3333333333333333,
             "#9c179e"
            ],
            [
             0.4444444444444444,
             "#bd3786"
            ],
            [
             0.5555555555555556,
             "#d8576b"
            ],
            [
             0.6666666666666666,
             "#ed7953"
            ],
            [
             0.7777777777777778,
             "#fb9f3a"
            ],
            [
             0.8888888888888888,
             "#fdca26"
            ],
            [
             1,
             "#f0f921"
            ]
           ]
          },
          "colorway": [
           "#636efa",
           "#EF553B",
           "#00cc96",
           "#ab63fa",
           "#FFA15A",
           "#19d3f3",
           "#FF6692",
           "#B6E880",
           "#FF97FF",
           "#FECB52"
          ],
          "font": {
           "color": "#2a3f5f"
          },
          "geo": {
           "bgcolor": "white",
           "lakecolor": "white",
           "landcolor": "#E5ECF6",
           "showlakes": true,
           "showland": true,
           "subunitcolor": "white"
          },
          "hoverlabel": {
           "align": "left"
          },
          "hovermode": "closest",
          "mapbox": {
           "style": "light"
          },
          "paper_bgcolor": "white",
          "plot_bgcolor": "#E5ECF6",
          "polar": {
           "angularaxis": {
            "gridcolor": "white",
            "linecolor": "white",
            "ticks": ""
           },
           "bgcolor": "#E5ECF6",
           "radialaxis": {
            "gridcolor": "white",
            "linecolor": "white",
            "ticks": ""
           }
          },
          "scene": {
           "xaxis": {
            "backgroundcolor": "#E5ECF6",
            "gridcolor": "white",
            "gridwidth": 2,
            "linecolor": "white",
            "showbackground": true,
            "ticks": "",
            "zerolinecolor": "white"
           },
           "yaxis": {
            "backgroundcolor": "#E5ECF6",
            "gridcolor": "white",
            "gridwidth": 2,
            "linecolor": "white",
            "showbackground": true,
            "ticks": "",
            "zerolinecolor": "white"
           },
           "zaxis": {
            "backgroundcolor": "#E5ECF6",
            "gridcolor": "white",
            "gridwidth": 2,
            "linecolor": "white",
            "showbackground": true,
            "ticks": "",
            "zerolinecolor": "white"
           }
          },
          "shapedefaults": {
           "line": {
            "color": "#2a3f5f"
           }
          },
          "ternary": {
           "aaxis": {
            "gridcolor": "white",
            "linecolor": "white",
            "ticks": ""
           },
           "baxis": {
            "gridcolor": "white",
            "linecolor": "white",
            "ticks": ""
           },
           "bgcolor": "#E5ECF6",
           "caxis": {
            "gridcolor": "white",
            "linecolor": "white",
            "ticks": ""
           }
          },
          "title": {
           "x": 0.05
          },
          "xaxis": {
           "automargin": true,
           "gridcolor": "white",
           "linecolor": "white",
           "ticks": "",
           "title": {
            "standoff": 15
           },
           "zerolinecolor": "white",
           "zerolinewidth": 2
          },
          "yaxis": {
           "automargin": true,
           "gridcolor": "white",
           "linecolor": "white",
           "ticks": "",
           "title": {
            "standoff": 15
           },
           "zerolinecolor": "white",
           "zerolinewidth": 2
          }
         }
        },
        "title": {
         "text": "Optimization History Plot"
        },
        "width": 1000,
        "xaxis": {
         "title": {
          "text": "Trial"
         }
        },
        "yaxis": {
         "title": {
          "text": "Objective Value"
         }
        }
       }
      }
     },
     "metadata": {},
     "output_type": "display_data"
    }
   ],
   "source": [
    "study = optuna.load_study(\n",
    "    study_name=\"train_val_test\",\n",
    "    storage=\"sqlite:///results/optuna.sqlite3\",\n",
    ")\n",
    "fig = plot_optimization_history(study)\n",
    "fig.update_layout(width=1000, height=600)\n",
    "fig.show()"
   ]
  },
  {
   "cell_type": "code",
   "execution_count": null,
   "id": "901d3461",
   "metadata": {},
   "outputs": [
    {
     "data": {
      "text/html": [
       "<div>\n",
       "<style scoped>\n",
       "    .dataframe tbody tr th:only-of-type {\n",
       "        vertical-align: middle;\n",
       "    }\n",
       "\n",
       "    .dataframe tbody tr th {\n",
       "        vertical-align: top;\n",
       "    }\n",
       "\n",
       "    .dataframe thead th {\n",
       "        text-align: right;\n",
       "    }\n",
       "</style>\n",
       "<table border=\"1\" class=\"dataframe\">\n",
       "  <thead>\n",
       "    <tr style=\"text-align: right;\">\n",
       "      <th></th>\n",
       "      <th>accuracy</th>\n",
       "      <th>precision</th>\n",
       "      <th>recall</th>\n",
       "      <th>f1</th>\n",
       "      <th>mcc</th>\n",
       "      <th>training_time</th>\n",
       "      <th>testing_time</th>\n",
       "      <th>hyperparameters</th>\n",
       "    </tr>\n",
       "  </thead>\n",
       "  <tbody>\n",
       "    <tr>\n",
       "      <th>Hold-Out Experiment</th>\n",
       "      <td>0.991073</td>\n",
       "      <td>0.990906</td>\n",
       "      <td>0.991087</td>\n",
       "      <td>0.990996</td>\n",
       "      <td>0.981993</td>\n",
       "      <td>219.858307</td>\n",
       "      <td>1.46149</td>\n",
       "      <td>{'iterations': 1000, 'learning_rate': 0.073197...</td>\n",
       "    </tr>\n",
       "  </tbody>\n",
       "</table>\n",
       "</div>"
      ],
      "text/plain": [
       "                     accuracy  precision    recall        f1       mcc  \\\n",
       "Hold-Out Experiment  0.991073   0.990906  0.991087  0.990996  0.981993   \n",
       "\n",
       "                     training_time  testing_time  \\\n",
       "Hold-Out Experiment     219.858307       1.46149   \n",
       "\n",
       "                                                       hyperparameters  \n",
       "Hold-Out Experiment  {'iterations': 1000, 'learning_rate': 0.073197...  "
      ]
     },
     "execution_count": 8,
     "metadata": {},
     "output_type": "execute_result"
    }
   ],
   "source": [
    "training_time = time.time()\n",
    "model = CatBoostClassifier(verbose=100, task_type=DEVICE, **study.best_params)\n",
    "model.fit(X_train, y_train)\n",
    "training_time = time.time() - training_time\n",
    "pickle.dump(model, open(\"./results/hold_out_model.pkl\", \"wb\"))\n",
    "\n",
    "testing_time = time.time()\n",
    "y_pred = model.predict(X_test)\n",
    "testing_time = time.time() - testing_time\n",
    "acc = accuracy_score(y_test, y_pred)\n",
    "precision = precision_score(y_test, y_pred, average=\"macro\")\n",
    "recall = recall_score(y_test, y_pred, average=\"macro\")\n",
    "f1 = f1_score(y_test, y_pred, average=\"macro\")\n",
    "mcc = matthews_corrcoef(y_test, y_pred)\n",
    "\n",
    "hold_out_results = pd.DataFrame(\n",
    "    {\n",
    "        \"accuracy\": acc,\n",
    "        \"precision\": precision,\n",
    "        \"recall\": recall,\n",
    "        \"f1\": f1,\n",
    "        \"mcc\": mcc,\n",
    "        \"training_time\": training_time,\n",
    "        \"testing_time\": testing_time,\n",
    "        \"hyperparameters\": str(study.best_params),\n",
    "    },\n",
    "    index=[\"Hold-Out Experiment\"],\n",
    ")\n",
    "hold_out_results.to_csv(\n",
    "    \"./results/hold_out_results.csv\",\n",
    ")\n",
    "\n",
    "clear_output()\n",
    "hold_out_results"
   ]
  },
  {
   "cell_type": "markdown",
   "id": "73ad2028",
   "metadata": {},
   "source": [
    "## Experimento em validação cruzada"
   ]
  },
  {
   "cell_type": "code",
   "execution_count": null,
   "id": "044a326d",
   "metadata": {},
   "outputs": [
    {
     "data": {
      "text/html": [
       "<div>\n",
       "<style scoped>\n",
       "    .dataframe tbody tr th:only-of-type {\n",
       "        vertical-align: middle;\n",
       "    }\n",
       "\n",
       "    .dataframe tbody tr th {\n",
       "        vertical-align: top;\n",
       "    }\n",
       "\n",
       "    .dataframe thead th {\n",
       "        text-align: right;\n",
       "    }\n",
       "</style>\n",
       "<table border=\"1\" class=\"dataframe\">\n",
       "  <thead>\n",
       "    <tr style=\"text-align: right;\">\n",
       "      <th></th>\n",
       "      <th>accuracy</th>\n",
       "      <th>precision</th>\n",
       "      <th>recall</th>\n",
       "      <th>f1</th>\n",
       "      <th>mcc</th>\n",
       "      <th>training_time</th>\n",
       "      <th>testing_time</th>\n",
       "      <th>hyperparameters</th>\n",
       "    </tr>\n",
       "  </thead>\n",
       "  <tbody>\n",
       "    <tr>\n",
       "      <th>10-Fold</th>\n",
       "      <td>(0.990923484367636, 0.00017775370332674957)</td>\n",
       "      <td>(0.9926272239768709, 0.0002466145347177362)</td>\n",
       "      <td>(0.9907697090487352, 0.0002587625741835391)</td>\n",
       "      <td>(0.991697560739215, 0.00016804781688462914)</td>\n",
       "      <td>(0.98168992179833, 0.0003563422180865093)</td>\n",
       "      <td>1860.814378</td>\n",
       "      <td>6.825309</td>\n",
       "      <td>-</td>\n",
       "    </tr>\n",
       "    <tr>\n",
       "      <th>0</th>\n",
       "      <td>0.990815</td>\n",
       "      <td>0.992118</td>\n",
       "      <td>0.991089</td>\n",
       "      <td>0.991603</td>\n",
       "      <td>0.981467</td>\n",
       "      <td>243.413909</td>\n",
       "      <td>0.791862</td>\n",
       "      <td>{'iterations': 1000, 'learning_rate': 0.098606...</td>\n",
       "    </tr>\n",
       "    <tr>\n",
       "      <th>1</th>\n",
       "      <td>0.99085</td>\n",
       "      <td>0.992861</td>\n",
       "      <td>0.990391</td>\n",
       "      <td>0.991624</td>\n",
       "      <td>0.981546</td>\n",
       "      <td>182.513112</td>\n",
       "      <td>0.596778</td>\n",
       "      <td>{'iterations': 750, 'learning_rate': 0.0555347...</td>\n",
       "    </tr>\n",
       "    <tr>\n",
       "      <th>2</th>\n",
       "      <td>0.990658</td>\n",
       "      <td>0.992315</td>\n",
       "      <td>0.990541</td>\n",
       "      <td>0.991427</td>\n",
       "      <td>0.981165</td>\n",
       "      <td>166.033108</td>\n",
       "      <td>0.598139</td>\n",
       "      <td>{'iterations': 1000, 'learning_rate': 0.096886...</td>\n",
       "    </tr>\n",
       "    <tr>\n",
       "      <th>3</th>\n",
       "      <td>0.991145</td>\n",
       "      <td>0.992679</td>\n",
       "      <td>0.99117</td>\n",
       "      <td>0.991924</td>\n",
       "      <td>0.982126</td>\n",
       "      <td>198.919532</td>\n",
       "      <td>0.723571</td>\n",
       "      <td>{'iterations': 1000, 'learning_rate': 0.066999...</td>\n",
       "    </tr>\n",
       "    <tr>\n",
       "      <th>4</th>\n",
       "      <td>0.991168</td>\n",
       "      <td>0.992917</td>\n",
       "      <td>0.990919</td>\n",
       "      <td>0.991917</td>\n",
       "      <td>0.982184</td>\n",
       "      <td>198.676279</td>\n",
       "      <td>0.756084</td>\n",
       "      <td>{'iterations': 1000, 'learning_rate': 0.099684...</td>\n",
       "    </tr>\n",
       "    <tr>\n",
       "      <th>5</th>\n",
       "      <td>0.99077</td>\n",
       "      <td>0.992707</td>\n",
       "      <td>0.990408</td>\n",
       "      <td>0.991556</td>\n",
       "      <td>0.981381</td>\n",
       "      <td>145.307872</td>\n",
       "      <td>0.615124</td>\n",
       "      <td>{'iterations': 1000, 'learning_rate': 0.094257...</td>\n",
       "    </tr>\n",
       "    <tr>\n",
       "      <th>6</th>\n",
       "      <td>0.990715</td>\n",
       "      <td>0.99241</td>\n",
       "      <td>0.990619</td>\n",
       "      <td>0.991514</td>\n",
       "      <td>0.981267</td>\n",
       "      <td>166.056314</td>\n",
       "      <td>0.673215</td>\n",
       "      <td>{'iterations': 1000, 'learning_rate': 0.095079...</td>\n",
       "    </tr>\n",
       "    <tr>\n",
       "      <th>7</th>\n",
       "      <td>0.990946</td>\n",
       "      <td>0.992695</td>\n",
       "      <td>0.990765</td>\n",
       "      <td>0.991729</td>\n",
       "      <td>0.981731</td>\n",
       "      <td>181.432734</td>\n",
       "      <td>0.662414</td>\n",
       "      <td>{'iterations': 750, 'learning_rate': 0.0971849...</td>\n",
       "    </tr>\n",
       "    <tr>\n",
       "      <th>8</th>\n",
       "      <td>0.991091</td>\n",
       "      <td>0.992822</td>\n",
       "      <td>0.990857</td>\n",
       "      <td>0.991839</td>\n",
       "      <td>0.982033</td>\n",
       "      <td>196.253646</td>\n",
       "      <td>0.707156</td>\n",
       "      <td>{'iterations': 1000, 'learning_rate': 0.073602...</td>\n",
       "    </tr>\n",
       "    <tr>\n",
       "      <th>9</th>\n",
       "      <td>0.991078</td>\n",
       "      <td>0.992748</td>\n",
       "      <td>0.990939</td>\n",
       "      <td>0.991843</td>\n",
       "      <td>0.981999</td>\n",
       "      <td>182.207872</td>\n",
       "      <td>0.700967</td>\n",
       "      <td>{'iterations': 750, 'learning_rate': 0.0672312...</td>\n",
       "    </tr>\n",
       "  </tbody>\n",
       "</table>\n",
       "</div>"
      ],
      "text/plain": [
       "                                            accuracy  \\\n",
       "10-Fold  (0.990923484367636, 0.00017775370332674957)   \n",
       "0                                           0.990815   \n",
       "1                                            0.99085   \n",
       "2                                           0.990658   \n",
       "3                                           0.991145   \n",
       "4                                           0.991168   \n",
       "5                                            0.99077   \n",
       "6                                           0.990715   \n",
       "7                                           0.990946   \n",
       "8                                           0.991091   \n",
       "9                                           0.991078   \n",
       "\n",
       "                                           precision  \\\n",
       "10-Fold  (0.9926272239768709, 0.0002466145347177362)   \n",
       "0                                           0.992118   \n",
       "1                                           0.992861   \n",
       "2                                           0.992315   \n",
       "3                                           0.992679   \n",
       "4                                           0.992917   \n",
       "5                                           0.992707   \n",
       "6                                            0.99241   \n",
       "7                                           0.992695   \n",
       "8                                           0.992822   \n",
       "9                                           0.992748   \n",
       "\n",
       "                                              recall  \\\n",
       "10-Fold  (0.9907697090487352, 0.0002587625741835391)   \n",
       "0                                           0.991089   \n",
       "1                                           0.990391   \n",
       "2                                           0.990541   \n",
       "3                                            0.99117   \n",
       "4                                           0.990919   \n",
       "5                                           0.990408   \n",
       "6                                           0.990619   \n",
       "7                                           0.990765   \n",
       "8                                           0.990857   \n",
       "9                                           0.990939   \n",
       "\n",
       "                                                  f1  \\\n",
       "10-Fold  (0.991697560739215, 0.00016804781688462914)   \n",
       "0                                           0.991603   \n",
       "1                                           0.991624   \n",
       "2                                           0.991427   \n",
       "3                                           0.991924   \n",
       "4                                           0.991917   \n",
       "5                                           0.991556   \n",
       "6                                           0.991514   \n",
       "7                                           0.991729   \n",
       "8                                           0.991839   \n",
       "9                                           0.991843   \n",
       "\n",
       "                                               mcc  training_time  \\\n",
       "10-Fold  (0.98168992179833, 0.0003563422180865093)    1860.814378   \n",
       "0                                         0.981467     243.413909   \n",
       "1                                         0.981546     182.513112   \n",
       "2                                         0.981165     166.033108   \n",
       "3                                         0.982126     198.919532   \n",
       "4                                         0.982184     198.676279   \n",
       "5                                         0.981381     145.307872   \n",
       "6                                         0.981267     166.056314   \n",
       "7                                         0.981731     181.432734   \n",
       "8                                         0.982033     196.253646   \n",
       "9                                         0.981999     182.207872   \n",
       "\n",
       "         testing_time                                    hyperparameters  \n",
       "10-Fold      6.825309                                                  -  \n",
       "0            0.791862  {'iterations': 1000, 'learning_rate': 0.098606...  \n",
       "1            0.596778  {'iterations': 750, 'learning_rate': 0.0555347...  \n",
       "2            0.598139  {'iterations': 1000, 'learning_rate': 0.096886...  \n",
       "3            0.723571  {'iterations': 1000, 'learning_rate': 0.066999...  \n",
       "4            0.756084  {'iterations': 1000, 'learning_rate': 0.099684...  \n",
       "5            0.615124  {'iterations': 1000, 'learning_rate': 0.094257...  \n",
       "6            0.673215  {'iterations': 1000, 'learning_rate': 0.095079...  \n",
       "7            0.662414  {'iterations': 750, 'learning_rate': 0.0971849...  \n",
       "8            0.707156  {'iterations': 1000, 'learning_rate': 0.073602...  \n",
       "9            0.700967  {'iterations': 750, 'learning_rate': 0.0672312...  "
      ]
     },
     "execution_count": 9,
     "metadata": {},
     "output_type": "execute_result"
    }
   ],
   "source": [
    "n_trials = 25\n",
    "os.makedirs(\"./results/10_fold_models/\", exist_ok=True)\n",
    "\n",
    "if os.path.exists(\"./results/10_fold_results.csv\"):\n",
    "    df = pd.read_csv(\"./results/10_fold_results.csv\", index_col=0)\n",
    "    results = {\n",
    "        \"accuracy\": [(-1, -1)] + list(df[\"accuracy\"][1:].astype(float)),\n",
    "        \"precision\": [(-1, -1)] + list(df[\"precision\"][1:].astype(float)),\n",
    "        \"recall\": [(-1, -1)] + list(df[\"recall\"][1:].astype(float)),\n",
    "        \"f1\": [(-1, -1)] + list(df[\"f1\"][1:].astype(float)),\n",
    "        \"mcc\": [(-1, -1)] + list(df[\"mcc\"][1:].astype(float)),\n",
    "        \"training_time\": [-1] + list(df[\"training_time\"][1:].astype(float)),\n",
    "        \"testing_time\": [-1] + list(df[\"testing_time\"][1:].astype(float)),\n",
    "        \"hyperparameters\": [\"-\"] + list(df[\"hyperparameters\"][1:].astype(str)),\n",
    "    }\n",
    "else:\n",
    "    results = {\n",
    "        \"accuracy\": [(-1, -1)],\n",
    "        \"precision\": [(-1, -1)],\n",
    "        \"recall\": [(-1, -1)],\n",
    "        \"f1\": [(-1, -1)],\n",
    "        \"mcc\": [(-1, -1)],\n",
    "        \"training_time\": [-1],\n",
    "        \"testing_time\": [-1],\n",
    "        \"hyperparameters\": [\"-\"],\n",
    "    }\n",
    "\n",
    "for i in tqdm(range(10)):\n",
    "\n",
    "    if i < len(results[\"accuracy\"]) - 1:\n",
    "        continue\n",
    "\n",
    "    j = (i + 1) % 10\n",
    "    k_test = folds[i]\n",
    "    k_val = folds[j]\n",
    "    k_train = pd.concat([folds[k] for k in range(10) if k not in (i, j)], ignore_index=True)\n",
    "\n",
    "    k_preprocessor = MushroomPreprocessor(secondary_mushroom)\n",
    "    k_X_train, k_y_train = k_preprocessor.fit_transform(k_train)\n",
    "    k_X_val, k_y_val = k_preprocessor.transform(k_val)\n",
    "    k_X_test, k_y_test = k_preprocessor.transform(k_test)\n",
    "\n",
    "    try:\n",
    "        optuna.delete_study(study_name=f\"10_fold-{i}\", storage=\"sqlite:///results/optuna.sqlite3\")\n",
    "    except KeyError:\n",
    "        pass\n",
    "\n",
    "    k_study = optuna.create_study(\n",
    "        direction=\"maximize\",\n",
    "        study_name=f\"10_fold-{i}\",\n",
    "        storage=\"sqlite:///results/optuna.sqlite3\",\n",
    "        load_if_exists=False,\n",
    "    )\n",
    "\n",
    "    objective = create_objective(k_X_train, k_y_train, k_X_val, k_y_val, device=DEVICE)\n",
    "    k_study.optimize(objective, n_trials=n_trials - len(k_study.get_trials()), show_progress_bar=True)\n",
    "\n",
    "    training_time = time.time()\n",
    "    k_model = CatBoostClassifier(verbose=0, task_type=DEVICE, **k_study.best_params)\n",
    "    k_model.fit(k_X_train, k_y_train)\n",
    "    training_time = time.time() - training_time\n",
    "    pickle.dump(k_model, open(f\"./results/10_fold_models/{i}.pkl\", \"wb\"))\n",
    "\n",
    "    testing_time = time.time()\n",
    "    y_pred = k_model.predict(k_X_test)\n",
    "    testing_time = time.time() - testing_time\n",
    "    results[\"accuracy\"].append(accuracy_score(k_y_test, y_pred))\n",
    "    results[\"precision\"].append(precision_score(k_y_test, y_pred))\n",
    "    results[\"recall\"].append(recall_score(k_y_test, y_pred))\n",
    "    results[\"f1\"].append(f1_score(k_y_test, y_pred))\n",
    "    results[\"mcc\"].append(matthews_corrcoef(k_y_test, y_pred))\n",
    "    results[\"training_time\"].append(training_time)\n",
    "    results[\"testing_time\"].append(testing_time)\n",
    "    results[\"hyperparameters\"].append(str(k_study.best_params))\n",
    "\n",
    "    pd.DataFrame(results, index=[\"10-Fold\"] + list(range(i + 1))).to_csv(\"./results/10_fold_results.csv\")\n",
    "    clear_output()\n",
    "\n",
    "results[\"accuracy\"][0] = (\n",
    "    float(np.mean([float(x) for x in results[\"accuracy\"][1:]])),\n",
    "    float(np.std([float(x) for x in results[\"accuracy\"][1:]])),\n",
    ")\n",
    "results[\"precision\"][0] = (\n",
    "    float(np.mean([float(x) for x in results[\"precision\"][1:]])),\n",
    "    float(np.std([float(x) for x in results[\"precision\"][1:]])),\n",
    ")\n",
    "results[\"recall\"][0] = (\n",
    "    float(np.mean([float(x) for x in results[\"recall\"][1:]])),\n",
    "    float(np.std([float(x) for x in results[\"recall\"][1:]])),\n",
    ")\n",
    "results[\"f1\"][0] = (float(np.mean([float(x) for x in results[\"f1\"][1:]])), float(np.std([float(x) for x in results[\"f1\"][1:]])))\n",
    "results[\"mcc\"][0] = (\n",
    "    float(np.mean([float(x) for x in results[\"mcc\"][1:]])),\n",
    "    float(np.std([float(x) for x in results[\"mcc\"][1:]])),\n",
    ")\n",
    "results[\"training_time\"][0] = float(np.sum([float(x) for x in results[\"training_time\"][1:]]))\n",
    "results[\"testing_time\"][0] = float(np.sum([float(x) for x in results[\"testing_time\"][1:]]))\n",
    "results = pd.DataFrame(results, index=[\"10-Fold\"] + list(range(10)))\n",
    "results.to_csv(\"./results/10_fold_results.csv\")\n",
    "\n",
    "clear_output()\n",
    "results"
   ]
  },
  {
   "cell_type": "markdown",
   "id": "2acbdaed",
   "metadata": {},
   "source": [
    "## Predição da partição de teste para submissão no Kaggle"
   ]
  },
  {
   "cell_type": "markdown",
   "id": "a7a01359",
   "metadata": {},
   "source": [
    "### Treinando com todos os dados da partição original de treino"
   ]
  },
  {
   "cell_type": "code",
   "execution_count": null,
   "id": "275a1f98",
   "metadata": {},
   "outputs": [
    {
     "data": {
      "text/html": [
       "<div>\n",
       "<style scoped>\n",
       "    .dataframe tbody tr th:only-of-type {\n",
       "        vertical-align: middle;\n",
       "    }\n",
       "\n",
       "    .dataframe tbody tr th {\n",
       "        vertical-align: top;\n",
       "    }\n",
       "\n",
       "    .dataframe thead th {\n",
       "        text-align: right;\n",
       "    }\n",
       "</style>\n",
       "<table border=\"1\" class=\"dataframe\">\n",
       "  <thead>\n",
       "    <tr style=\"text-align: right;\">\n",
       "      <th></th>\n",
       "      <th>id</th>\n",
       "      <th>class</th>\n",
       "    </tr>\n",
       "  </thead>\n",
       "  <tbody>\n",
       "    <tr>\n",
       "      <th>0</th>\n",
       "      <td>3116945</td>\n",
       "      <td>e</td>\n",
       "    </tr>\n",
       "    <tr>\n",
       "      <th>1</th>\n",
       "      <td>3116946</td>\n",
       "      <td>p</td>\n",
       "    </tr>\n",
       "    <tr>\n",
       "      <th>2</th>\n",
       "      <td>3116947</td>\n",
       "      <td>p</td>\n",
       "    </tr>\n",
       "    <tr>\n",
       "      <th>3</th>\n",
       "      <td>3116948</td>\n",
       "      <td>p</td>\n",
       "    </tr>\n",
       "    <tr>\n",
       "      <th>4</th>\n",
       "      <td>3116949</td>\n",
       "      <td>e</td>\n",
       "    </tr>\n",
       "  </tbody>\n",
       "</table>\n",
       "</div>"
      ],
      "text/plain": [
       "        id class\n",
       "0  3116945     e\n",
       "1  3116946     p\n",
       "2  3116947     p\n",
       "3  3116948     p\n",
       "4  3116949     e"
      ]
     },
     "execution_count": 7,
     "metadata": {},
     "output_type": "execute_result"
    }
   ],
   "source": [
    "kaggle_X_train = np.concatenate([X_train, X_val, X_test])\n",
    "kaggle_y_train = np.concatenate([y_train, y_val, y_test])\n",
    "\n",
    "study = optuna.load_study(\n",
    "    study_name=\"train_val_test\",\n",
    "    storage=\"sqlite:///results/optuna.sqlite3\",\n",
    ")\n",
    "kaggle_model = CatBoostClassifier(verbose=50, task_type=DEVICE, **study.best_params)\n",
    "kaggle_model.fit(kaggle_X_train, kaggle_y_train, verbose=False)\n",
    "\n",
    "test_data = pd.read_csv(\"data/kaggle_mushroom/test.csv\")\n",
    "X_test, y_test, ids_test = preprocessor.transform(test_data, return_ids=True)\n",
    "\n",
    "sorted_indices = np.argsort(ids_test)\n",
    "X_test = X_test[sorted_indices]\n",
    "ids_test = ids_test[sorted_indices]\n",
    "y_pred = kaggle_model.predict(X_test)\n",
    "\n",
    "solution = pd.DataFrame({\"id\": ids_test, \"class\": y_pred})\n",
    "solution[\"class\"] = solution[\"class\"].map({0: \"e\", 1: \"p\"})\n",
    "solution.to_csv(\"results/submission.csv\", index=False)\n",
    "\n",
    "clear_output()\n",
    "solution.head()"
   ]
  },
  {
   "cell_type": "markdown",
   "id": "83fc4101",
   "metadata": {},
   "source": [
    "### Criando um classificador por votação com os modelos da validação cruzada"
   ]
  },
  {
   "cell_type": "markdown",
   "id": "b64b8ee5",
   "metadata": {},
   "source": [
    "#### Hard"
   ]
  },
  {
   "cell_type": "code",
   "execution_count": null,
   "id": "ab1dec3f",
   "metadata": {},
   "outputs": [
    {
     "data": {
      "text/html": [
       "<div>\n",
       "<style scoped>\n",
       "    .dataframe tbody tr th:only-of-type {\n",
       "        vertical-align: middle;\n",
       "    }\n",
       "\n",
       "    .dataframe tbody tr th {\n",
       "        vertical-align: top;\n",
       "    }\n",
       "\n",
       "    .dataframe thead th {\n",
       "        text-align: right;\n",
       "    }\n",
       "</style>\n",
       "<table border=\"1\" class=\"dataframe\">\n",
       "  <thead>\n",
       "    <tr style=\"text-align: right;\">\n",
       "      <th></th>\n",
       "      <th>id</th>\n",
       "      <th>class</th>\n",
       "    </tr>\n",
       "  </thead>\n",
       "  <tbody>\n",
       "    <tr>\n",
       "      <th>0</th>\n",
       "      <td>3116945</td>\n",
       "      <td>e</td>\n",
       "    </tr>\n",
       "    <tr>\n",
       "      <th>1</th>\n",
       "      <td>3116946</td>\n",
       "      <td>p</td>\n",
       "    </tr>\n",
       "    <tr>\n",
       "      <th>2</th>\n",
       "      <td>3116947</td>\n",
       "      <td>p</td>\n",
       "    </tr>\n",
       "    <tr>\n",
       "      <th>3</th>\n",
       "      <td>3116948</td>\n",
       "      <td>p</td>\n",
       "    </tr>\n",
       "    <tr>\n",
       "      <th>4</th>\n",
       "      <td>3116949</td>\n",
       "      <td>e</td>\n",
       "    </tr>\n",
       "  </tbody>\n",
       "</table>\n",
       "</div>"
      ],
      "text/plain": [
       "        id class\n",
       "0  3116945     e\n",
       "1  3116946     p\n",
       "2  3116947     p\n",
       "3  3116948     p\n",
       "4  3116949     e"
      ]
     },
     "execution_count": 28,
     "metadata": {},
     "output_type": "execute_result"
    }
   ],
   "source": [
    "models = []\n",
    "for i in range(10):\n",
    "    with open(f\"results/10_fold_models/{i}.pkl\", \"rb\") as f:\n",
    "        model = pickle.load(f)\n",
    "        models.append(model)\n",
    "\n",
    "all_predictions = []\n",
    "for model in models:\n",
    "    preds = model.predict(X_test)\n",
    "    all_predictions.append(preds)\n",
    "\n",
    "all_predictions = np.array(all_predictions).T  # para formato (n_samples, n_models)\n",
    "\n",
    "# hard voting\n",
    "y_pred_voting_hard = []\n",
    "for preds in all_predictions:\n",
    "    counts = Counter(preds)\n",
    "    max_count = max(counts.values())\n",
    "    candidates = [label for label, count in counts.items() if count == max_count]\n",
    "    majority_vote = max(candidates)  # resolve empate com a classe mais alta (1: venenoso)\n",
    "    y_pred_voting_hard.append(majority_vote)\n",
    "\n",
    "\n",
    "solution_voting_hard = pd.DataFrame({\"id\": ids_test, \"class\": y_pred_voting_hard})\n",
    "solution_voting_hard[\"class\"] = solution_voting_hard[\"class\"].map({0: \"e\", 1: \"p\"})\n",
    "solution_voting_hard.to_csv(\"results/solution_voting_hard.csv\", index=False)\n",
    "\n",
    "clear_output()\n",
    "solution_voting_hard.head()"
   ]
  },
  {
   "cell_type": "markdown",
   "id": "29139a50",
   "metadata": {},
   "source": [
    "#### Soft"
   ]
  },
  {
   "cell_type": "code",
   "execution_count": null,
   "id": "dfaf9ee6",
   "metadata": {},
   "outputs": [
    {
     "data": {
      "text/html": [
       "<div>\n",
       "<style scoped>\n",
       "    .dataframe tbody tr th:only-of-type {\n",
       "        vertical-align: middle;\n",
       "    }\n",
       "\n",
       "    .dataframe tbody tr th {\n",
       "        vertical-align: top;\n",
       "    }\n",
       "\n",
       "    .dataframe thead th {\n",
       "        text-align: right;\n",
       "    }\n",
       "</style>\n",
       "<table border=\"1\" class=\"dataframe\">\n",
       "  <thead>\n",
       "    <tr style=\"text-align: right;\">\n",
       "      <th></th>\n",
       "      <th>id</th>\n",
       "      <th>class</th>\n",
       "    </tr>\n",
       "  </thead>\n",
       "  <tbody>\n",
       "    <tr>\n",
       "      <th>0</th>\n",
       "      <td>3116945</td>\n",
       "      <td>e</td>\n",
       "    </tr>\n",
       "    <tr>\n",
       "      <th>1</th>\n",
       "      <td>3116946</td>\n",
       "      <td>p</td>\n",
       "    </tr>\n",
       "    <tr>\n",
       "      <th>2</th>\n",
       "      <td>3116947</td>\n",
       "      <td>p</td>\n",
       "    </tr>\n",
       "    <tr>\n",
       "      <th>3</th>\n",
       "      <td>3116948</td>\n",
       "      <td>p</td>\n",
       "    </tr>\n",
       "    <tr>\n",
       "      <th>4</th>\n",
       "      <td>3116949</td>\n",
       "      <td>e</td>\n",
       "    </tr>\n",
       "  </tbody>\n",
       "</table>\n",
       "</div>"
      ],
      "text/plain": [
       "        id class\n",
       "0  3116945     e\n",
       "1  3116946     p\n",
       "2  3116947     p\n",
       "3  3116948     p\n",
       "4  3116949     e"
      ]
     },
     "execution_count": 12,
     "metadata": {},
     "output_type": "execute_result"
    }
   ],
   "source": [
    "models = []\n",
    "for i in range(10):\n",
    "    with open(f\"results/10_fold_models/{i}.pkl\", \"rb\") as f:\n",
    "        model = pickle.load(f)\n",
    "        models.append(model)\n",
    "\n",
    "all_probabilities = []\n",
    "for model in models:\n",
    "    probs = model.predict_proba(X_test)\n",
    "    all_probabilities.append(probs)\n",
    "\n",
    "# soft voting\n",
    "avg_probs = np.mean(np.array(all_probabilities), axis=0)\n",
    "y_pred_voting_soft = np.argmax(avg_probs, axis=1)\n",
    "\n",
    "solution_voting_soft = pd.DataFrame({\"id\": ids_test, \"class\": y_pred_voting_soft})\n",
    "solution_voting_soft[\"class\"] = solution_voting_soft[\"class\"].map({0: \"e\", 1: \"p\"})\n",
    "solution_voting_soft.to_csv(\"results/solution_voting_soft.csv\", index=False)\n",
    "\n",
    "clear_output()\n",
    "solution_voting_soft.head()"
   ]
  }
 ],
 "metadata": {
  "kernelspec": {
   "display_name": "Python 3",
   "language": "python",
   "name": "python3"
  },
  "language_info": {
   "codemirror_mode": {
    "name": "ipython",
    "version": 3
   },
   "file_extension": ".py",
   "mimetype": "text/x-python",
   "name": "python",
   "nbconvert_exporter": "python",
   "pygments_lexer": "ipython3",
   "version": "3.13.5"
  }
 },
 "nbformat": 4,
 "nbformat_minor": 5
}
