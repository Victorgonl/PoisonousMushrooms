{
 "cells": [
  {
   "cell_type": "markdown",
   "id": "03949b6f",
   "metadata": {},
   "source": [
    "# Poisonous Mushrooms: Padrões Frequentes"
   ]
  },
  {
   "cell_type": "markdown",
   "id": "5c760723",
   "metadata": {},
   "source": [
    "**Universidade Federal de Ouro Preto**\n",
    "\n",
    "**PCC142 - Mineração de Dados - 2025/1**\n",
    "\n",
    "**Prof. Anderson Almeida Ferreira**\n",
    "\n",
    "**Victor G. Lima**"
   ]
  },
  {
   "cell_type": "markdown",
   "id": "bea4cf75",
   "metadata": {},
   "source": [
    "**Conteúdo**    \n",
    "- Ambiente    \n",
    "  - Pacotes e importações    \n",
    "  - Funções auxiliares    \n",
    "- Dataset pré-processado    \n",
    "  - Carregamento do dataset    \n",
    "- Regras de associação    \n",
    "  - Discretização de atributos numéricos    \n",
    "  - Versão binária do dataset    \n",
    "  - Minerando regras    \n",
    "  - Regras relacionadas ao objetivo    \n",
    "    - Cogumelos venenosos    \n",
    "    - Cogumelos comestíveis    \n",
    "- Padrões Sequenciais    \n",
    "  - Estimativa do volume    \n",
    "  - Definição das sequências    \n",
    "  - Mineração de padrões sequenciais    \n",
    "- Referências    \n",
    "\n",
    "<!-- vscode-jupyter-toc-config\n",
    "\tnumbering=false\n",
    "\tanchor=false\n",
    "\tflat=false\n",
    "\tminLevel=2\n",
    "\tmaxLevel=6\n",
    "\t/vscode-jupyter-toc-config -->\n",
    "<!-- THIS CELL WILL BE REPLACED ON TOC UPDATE. DO NOT WRITE YOUR TEXT IN THIS CELL -->"
   ]
  },
  {
   "cell_type": "markdown",
   "id": "b1619cfe",
   "metadata": {},
   "source": [
    "## Ambiente"
   ]
  },
  {
   "cell_type": "markdown",
   "id": "de846176",
   "metadata": {},
   "source": [
    "### Pacotes e importações"
   ]
  },
  {
   "cell_type": "code",
   "execution_count": null,
   "id": "3a1510fa",
   "metadata": {},
   "outputs": [],
   "source": [
    "from IPython.display import clear_output\n",
    "\n",
    "%pip install numpy pandas matplotlib seaborn scikit-learn scipy tqdm mlxtend plotly prefixspan\n",
    "\n",
    "import os\n",
    "import warnings\n",
    "import json\n",
    "import pickle\n",
    "import random\n",
    "\n",
    "import numpy as np\n",
    "import pandas as pd\n",
    "import matplotlib.pyplot as plt\n",
    "import seaborn as sns\n",
    "from sklearn.preprocessing import LabelEncoder, StandardScaler\n",
    "from tqdm import tqdm\n",
    "import plotly.graph_objects as go\n",
    "from mlxtend.frequent_patterns import apriori, association_rules\n",
    "from prefixspan import PrefixSpan\n",
    "\n",
    "random.seed(20250601)\n",
    "\n",
    "warnings.simplefilter(action='ignore', category=FutureWarning)\n",
    "warnings.simplefilter(\"ignore\", category=DeprecationWarning) \n",
    "\n",
    "pd.set_option('display.max_rows', None)\n",
    "pd.set_option('display.max_columns', None)\n",
    "pd.set_option('display.max_colwidth', None)\n",
    "pd.set_option(\"display.precision\", 3)\n",
    "\n",
    "sns.color_palette(\"dark\")\n",
    "sns.set_style(\"dark\")\n",
    "\n",
    "clear_output()"
   ]
  },
  {
   "cell_type": "markdown",
   "id": "057956ec",
   "metadata": {},
   "source": [
    "### Funções auxiliares"
   ]
  },
  {
   "cell_type": "markdown",
   "id": "9961a432",
   "metadata": {},
   "source": [
    "Funções de plotagem para visualização da distriuição dos dados por atributo no dataset."
   ]
  },
  {
   "cell_type": "code",
   "execution_count": 2,
   "id": "2111bb9a",
   "metadata": {},
   "outputs": [],
   "source": [
    "def plot_features(features, df, max_categories=15, show_info_box=True):\n",
    "    if isinstance(features, str):\n",
    "        features = [features]\n",
    "\n",
    "    numerical_features = []\n",
    "    categorical_features = []\n",
    "\n",
    "    for feature in features:\n",
    "        if feature in df.columns:\n",
    "            dtype = df[feature].dropna().dtype\n",
    "            if pd.api.types.is_numeric_dtype(dtype):\n",
    "                numerical_features.append(feature)\n",
    "            else:\n",
    "                categorical_features.append(feature)\n",
    "\n",
    "    total_numerical = len(numerical_features)\n",
    "    total_categorical = len(categorical_features)\n",
    "    total_rows = (1 if total_numerical > 0 else 0) + (1 if total_categorical > 0 else 0)\n",
    "    max_cols = max(total_numerical, total_categorical, 1)\n",
    "\n",
    "    fig, axes = plt.subplots(total_rows, max_cols, figsize=(max_cols * 4, total_rows * 3))\n",
    "    if total_rows == 1 and max_cols == 1:\n",
    "        axes = np.array([[axes]])\n",
    "    elif total_rows == 1:\n",
    "        axes = np.array([axes])\n",
    "    elif max_cols == 1:\n",
    "        axes = np.array([[ax] for ax in axes])\n",
    "    else:\n",
    "        axes = axes.reshape((total_rows, max_cols))\n",
    "\n",
    "    if total_numerical > 0:\n",
    "        global_x_min = float(\"inf\")\n",
    "        global_x_max = -float(\"inf\")\n",
    "        global_y_max = 0\n",
    "        for feature in numerical_features:\n",
    "            data = df[feature].dropna()\n",
    "            hist, bins = np.histogram(data, bins=50)\n",
    "            global_x_min = min(global_x_min, data.min())\n",
    "            global_x_max = max(global_x_max, data.max())\n",
    "            global_y_max = max(global_y_max, hist.max())\n",
    "\n",
    "        for i, feature in enumerate(numerical_features):\n",
    "            ax = axes[0, i]\n",
    "            data = df[feature].dropna()\n",
    "            ax.hist(data, bins=50, alpha=1.0)\n",
    "            ax.set_title(f\"{feature}\")\n",
    "            ax.set_xlim(global_x_min, global_x_max)\n",
    "            ax.set_ylim(0, global_y_max * 1.05)\n",
    "            if i != 0:\n",
    "                ax.set_yticklabels([])\n",
    "                ax.set_ylabel(\"\")\n",
    "            if show_info_box:\n",
    "                ax.text(\n",
    "                    0.6,\n",
    "                    0.85,\n",
    "                    (\n",
    "                        f\"Min: {data.min():.2f}\\n\"\n",
    "                        f\"Max: {data.max():.2f}\\n\"\n",
    "                        f\"Mean: {data.mean():.2f}\\n\"\n",
    "                        f\"Median: {data.median():.2f}\\n\\n\"\n",
    "                        f\"Missing: {df[feature].isna().sum()}\"\n",
    "                    ),\n",
    "                    transform=ax.transAxes,\n",
    "                    fontsize=10,\n",
    "                    verticalalignment=\"top\",\n",
    "                    horizontalalignment=\"left\",\n",
    "                    bbox=dict(\n",
    "                        boxstyle=\"round,pad=1.0\",\n",
    "                        facecolor=\"white\",\n",
    "                        edgecolor=\"black\",\n",
    "                        alpha=0.5,\n",
    "                    ),\n",
    "                )\n",
    "\n",
    "        for j in range(len(numerical_features), max_cols):\n",
    "            axes[0, j].axis(\"off\")\n",
    "\n",
    "    if total_categorical > 0:\n",
    "        row_idx = 1 if total_numerical > 0 else 0\n",
    "        global_y_max = 0\n",
    "        for feature in categorical_features:\n",
    "            value_counts = df[feature].value_counts()\n",
    "            if len(value_counts) > max_categories:\n",
    "                top_values = value_counts.head(max_categories - 1)\n",
    "                other_count = value_counts[max_categories - 1 :].sum()\n",
    "                top_values[\"...\"] = other_count\n",
    "                value_counts = top_values\n",
    "            global_y_max = max(global_y_max, value_counts.max())\n",
    "\n",
    "        for i, feature in enumerate(categorical_features):\n",
    "            ax = axes[row_idx, i]\n",
    "            data = df[feature]\n",
    "            value_counts = data.value_counts()\n",
    "            if len(value_counts) > max_categories:\n",
    "                top_values = value_counts.head(max_categories - 1)\n",
    "                other_count = value_counts[max_categories - 1 :].sum()\n",
    "                top_values[\"...\"] = other_count\n",
    "                value_counts = top_values\n",
    "            value_counts.plot(kind=\"bar\", ax=ax, color=\"tab:red\", alpha=0.8)\n",
    "            ax.set_ylim(0, global_y_max * 1.05)\n",
    "            if i != 0:\n",
    "                ax.set_yticklabels([])\n",
    "                ax.set_ylabel(\"\")\n",
    "            if len(value_counts) > 5:\n",
    "                plt.setp(ax.get_xticklabels(), rotation=45, ha=\"right\")\n",
    "            if show_info_box:\n",
    "                ax.text(\n",
    "                    0.55,\n",
    "                    0.8,\n",
    "                    (\n",
    "                        f\"Classes: {data.nunique()}\\n\"\n",
    "                        f\"Top: {value_counts.index[0]} ({value_counts.values[0]})\\n\"\n",
    "                        f\"Missing: {data.isna().sum()}\"\n",
    "                    ),\n",
    "                    transform=ax.transAxes,\n",
    "                    fontsize=10,\n",
    "                    verticalalignment=\"top\",\n",
    "                    horizontalalignment=\"left\",\n",
    "                    bbox=dict(\n",
    "                        boxstyle=\"round,pad=1.0\",\n",
    "                        facecolor=\"white\",\n",
    "                        edgecolor=\"black\",\n",
    "                        alpha=0.5,\n",
    "                    ),\n",
    "                )\n",
    "\n",
    "        for j in range(len(categorical_features), max_cols):\n",
    "            axes[row_idx, j].axis(\"off\")\n",
    "\n",
    "    plt.tight_layout()\n",
    "    plt.show()"
   ]
  },
  {
   "cell_type": "markdown",
   "id": "57676d1d",
   "metadata": {},
   "source": [
    "## Dataset pré-processado"
   ]
  },
  {
   "cell_type": "markdown",
   "id": "bd62580f",
   "metadata": {},
   "source": [
    "### Carregamento do dataset"
   ]
  },
  {
   "cell_type": "markdown",
   "id": "c027faf9",
   "metadata": {},
   "source": [
    "O dataset é carregado pré-processado de acordo com a etapa de pré-processamento. Os valores são mapeados novamente a suas classes descritivas (revertendo as transformações numéricas) para melhor interpretação das associações."
   ]
  },
  {
   "cell_type": "code",
   "execution_count": 3,
   "id": "e905c330",
   "metadata": {},
   "outputs": [
    {
     "name": "stderr",
     "output_type": "stream",
     "text": [
      "Loading dataset: 100%|██████████| 16/16 [00:15<00:00,  1.04it/s, feature=poisonous]          "
     ]
    },
    {
     "name": "stdout",
     "output_type": "stream",
     "text": [
      "Objtivo: target object\n",
      "Shape: (3116945, 16)\n"
     ]
    },
    {
     "name": "stderr",
     "output_type": "stream",
     "text": [
      "\n"
     ]
    },
    {
     "data": {
      "text/html": [
       "<div>\n",
       "<style scoped>\n",
       "    .dataframe tbody tr th:only-of-type {\n",
       "        vertical-align: middle;\n",
       "    }\n",
       "\n",
       "    .dataframe tbody tr th {\n",
       "        vertical-align: top;\n",
       "    }\n",
       "\n",
       "    .dataframe thead th {\n",
       "        text-align: right;\n",
       "    }\n",
       "</style>\n",
       "<table border=\"1\" class=\"dataframe\">\n",
       "  <thead>\n",
       "    <tr style=\"text-align: right;\">\n",
       "      <th></th>\n",
       "      <th>cap-diameter</th>\n",
       "      <th>cap-shape</th>\n",
       "      <th>cap-surface</th>\n",
       "      <th>cap-color</th>\n",
       "      <th>does-bruise-or-bleed</th>\n",
       "      <th>gill-attachment</th>\n",
       "      <th>gill-spacing</th>\n",
       "      <th>gill-color</th>\n",
       "      <th>stem-height</th>\n",
       "      <th>stem-width</th>\n",
       "      <th>stem-color</th>\n",
       "      <th>ring-type</th>\n",
       "      <th>habitat</th>\n",
       "      <th>season</th>\n",
       "      <th>veil-type</th>\n",
       "      <th>target</th>\n",
       "    </tr>\n",
       "  </thead>\n",
       "  <tbody>\n",
       "    <tr>\n",
       "      <th>0</th>\n",
       "      <td>8.80</td>\n",
       "      <td>flat</td>\n",
       "      <td>smooth</td>\n",
       "      <td>purple</td>\n",
       "      <td>no</td>\n",
       "      <td>adnate</td>\n",
       "      <td>close</td>\n",
       "      <td>white</td>\n",
       "      <td>4.510</td>\n",
       "      <td>15.39</td>\n",
       "      <td>white</td>\n",
       "      <td>none</td>\n",
       "      <td>woods</td>\n",
       "      <td>autumn</td>\n",
       "      <td>partial</td>\n",
       "      <td>edible</td>\n",
       "    </tr>\n",
       "    <tr>\n",
       "      <th>1</th>\n",
       "      <td>4.51</td>\n",
       "      <td>convex</td>\n",
       "      <td>shiny</td>\n",
       "      <td>others</td>\n",
       "      <td>no</td>\n",
       "      <td>adnate</td>\n",
       "      <td>close</td>\n",
       "      <td>brown</td>\n",
       "      <td>4.790</td>\n",
       "      <td>6.48</td>\n",
       "      <td>others</td>\n",
       "      <td>others</td>\n",
       "      <td>woods</td>\n",
       "      <td>winter</td>\n",
       "      <td>partial</td>\n",
       "      <td>poisonous</td>\n",
       "    </tr>\n",
       "    <tr>\n",
       "      <th>2</th>\n",
       "      <td>6.94</td>\n",
       "      <td>flat</td>\n",
       "      <td>smooth</td>\n",
       "      <td>buff</td>\n",
       "      <td>no</td>\n",
       "      <td>adnexed</td>\n",
       "      <td>close</td>\n",
       "      <td>white</td>\n",
       "      <td>6.850</td>\n",
       "      <td>9.93</td>\n",
       "      <td>brown</td>\n",
       "      <td>none</td>\n",
       "      <td>leaves</td>\n",
       "      <td>winter</td>\n",
       "      <td>partial</td>\n",
       "      <td>edible</td>\n",
       "    </tr>\n",
       "    <tr>\n",
       "      <th>3</th>\n",
       "      <td>3.88</td>\n",
       "      <td>flat</td>\n",
       "      <td>scaly</td>\n",
       "      <td>gray</td>\n",
       "      <td>no</td>\n",
       "      <td>sinuate</td>\n",
       "      <td>none</td>\n",
       "      <td>gray</td>\n",
       "      <td>4.160</td>\n",
       "      <td>6.53</td>\n",
       "      <td>white</td>\n",
       "      <td>none</td>\n",
       "      <td>woods</td>\n",
       "      <td>summer</td>\n",
       "      <td>partial</td>\n",
       "      <td>edible</td>\n",
       "    </tr>\n",
       "    <tr>\n",
       "      <th>4</th>\n",
       "      <td>5.85</td>\n",
       "      <td>convex</td>\n",
       "      <td>leathery</td>\n",
       "      <td>white</td>\n",
       "      <td>no</td>\n",
       "      <td>decurrent</td>\n",
       "      <td>none</td>\n",
       "      <td>white</td>\n",
       "      <td>3.370</td>\n",
       "      <td>8.36</td>\n",
       "      <td>white</td>\n",
       "      <td>none</td>\n",
       "      <td>grasses</td>\n",
       "      <td>autumn</td>\n",
       "      <td>partial</td>\n",
       "      <td>edible</td>\n",
       "    </tr>\n",
       "    <tr>\n",
       "      <th>5</th>\n",
       "      <td>4.30</td>\n",
       "      <td>convex</td>\n",
       "      <td>sticky</td>\n",
       "      <td>brown</td>\n",
       "      <td>no</td>\n",
       "      <td>sinuate</td>\n",
       "      <td>close</td>\n",
       "      <td>brown</td>\n",
       "      <td>5.910</td>\n",
       "      <td>8.20</td>\n",
       "      <td>white</td>\n",
       "      <td>others</td>\n",
       "      <td>woods</td>\n",
       "      <td>autumn</td>\n",
       "      <td>partial</td>\n",
       "      <td>poisonous</td>\n",
       "    </tr>\n",
       "    <tr>\n",
       "      <th>6</th>\n",
       "      <td>9.65</td>\n",
       "      <td>spherical</td>\n",
       "      <td>scaly</td>\n",
       "      <td>white</td>\n",
       "      <td>no</td>\n",
       "      <td>free</td>\n",
       "      <td>close</td>\n",
       "      <td>black</td>\n",
       "      <td>7.231</td>\n",
       "      <td>12.69</td>\n",
       "      <td>white</td>\n",
       "      <td>evanescent</td>\n",
       "      <td>grasses</td>\n",
       "      <td>winter</td>\n",
       "      <td>partial</td>\n",
       "      <td>edible</td>\n",
       "    </tr>\n",
       "    <tr>\n",
       "      <th>7</th>\n",
       "      <td>4.55</td>\n",
       "      <td>convex</td>\n",
       "      <td>fleshy</td>\n",
       "      <td>red</td>\n",
       "      <td>no</td>\n",
       "      <td>adnate</td>\n",
       "      <td>none</td>\n",
       "      <td>yellow</td>\n",
       "      <td>8.310</td>\n",
       "      <td>9.77</td>\n",
       "      <td>yellow</td>\n",
       "      <td>others</td>\n",
       "      <td>woods</td>\n",
       "      <td>autumn</td>\n",
       "      <td>partial</td>\n",
       "      <td>poisonous</td>\n",
       "    </tr>\n",
       "    <tr>\n",
       "      <th>8</th>\n",
       "      <td>7.36</td>\n",
       "      <td>flat</td>\n",
       "      <td>shiny</td>\n",
       "      <td>red</td>\n",
       "      <td>no</td>\n",
       "      <td>adnexed</td>\n",
       "      <td>distant</td>\n",
       "      <td>white</td>\n",
       "      <td>5.770</td>\n",
       "      <td>17.13</td>\n",
       "      <td>white</td>\n",
       "      <td>none</td>\n",
       "      <td>woods</td>\n",
       "      <td>autumn</td>\n",
       "      <td>partial</td>\n",
       "      <td>poisonous</td>\n",
       "    </tr>\n",
       "    <tr>\n",
       "      <th>9</th>\n",
       "      <td>6.45</td>\n",
       "      <td>convex</td>\n",
       "      <td>sticky</td>\n",
       "      <td>brown</td>\n",
       "      <td>no</td>\n",
       "      <td>adnate</td>\n",
       "      <td>distant</td>\n",
       "      <td>white</td>\n",
       "      <td>7.130</td>\n",
       "      <td>12.77</td>\n",
       "      <td>red</td>\n",
       "      <td>none</td>\n",
       "      <td>woods</td>\n",
       "      <td>autumn</td>\n",
       "      <td>partial</td>\n",
       "      <td>edible</td>\n",
       "    </tr>\n",
       "  </tbody>\n",
       "</table>\n",
       "</div>"
      ],
      "text/plain": [
       "   cap-diameter  cap-shape cap-surface cap-color does-bruise-or-bleed  \\\n",
       "0          8.80       flat      smooth    purple                   no   \n",
       "1          4.51     convex       shiny    others                   no   \n",
       "2          6.94       flat      smooth      buff                   no   \n",
       "3          3.88       flat       scaly      gray                   no   \n",
       "4          5.85     convex    leathery     white                   no   \n",
       "5          4.30     convex      sticky     brown                   no   \n",
       "6          9.65  spherical       scaly     white                   no   \n",
       "7          4.55     convex      fleshy       red                   no   \n",
       "8          7.36       flat       shiny       red                   no   \n",
       "9          6.45     convex      sticky     brown                   no   \n",
       "\n",
       "  gill-attachment gill-spacing gill-color  stem-height  stem-width stem-color  \\\n",
       "0          adnate        close      white        4.510       15.39      white   \n",
       "1          adnate        close      brown        4.790        6.48     others   \n",
       "2         adnexed        close      white        6.850        9.93      brown   \n",
       "3         sinuate         none       gray        4.160        6.53      white   \n",
       "4       decurrent         none      white        3.370        8.36      white   \n",
       "5         sinuate        close      brown        5.910        8.20      white   \n",
       "6            free        close      black        7.231       12.69      white   \n",
       "7          adnate         none     yellow        8.310        9.77     yellow   \n",
       "8         adnexed      distant      white        5.770       17.13      white   \n",
       "9          adnate      distant      white        7.130       12.77        red   \n",
       "\n",
       "    ring-type  habitat  season veil-type     target  \n",
       "0        none    woods  autumn   partial     edible  \n",
       "1      others    woods  winter   partial  poisonous  \n",
       "2        none   leaves  winter   partial     edible  \n",
       "3        none    woods  summer   partial     edible  \n",
       "4        none  grasses  autumn   partial     edible  \n",
       "5      others    woods  autumn   partial  poisonous  \n",
       "6  evanescent  grasses  winter   partial     edible  \n",
       "7      others    woods  autumn   partial  poisonous  \n",
       "8        none    woods  autumn   partial  poisonous  \n",
       "9        none    woods  autumn   partial     edible  "
      ]
     },
     "execution_count": 3,
     "metadata": {},
     "output_type": "execute_result"
    }
   ],
   "source": [
    "train_df = pd.read_pickle(\"./data_preprocessed/train_data.pkl\")\n",
    "train_target_df = pd.read_pickle(\"./data_preprocessed/train_target.pkl\")\n",
    "\n",
    "encoders_map: dict[str, LabelEncoder] = pickle.load(open(\"./utils/encoders.pkl\", \"rb\"))\n",
    "scalers_map: dict[str, StandardScaler] = pickle.load(open(\"./utils/scalers.pkl\", \"rb\"))\n",
    "feature2class = json.load(open(\"./utils/feature2class.json\"))\n",
    "classes = json.load(open(\"./utils/classes.json\"))\n",
    "\n",
    "target = feature2class[\"poisonous\"]\n",
    "train_df = pd.concat([train_df, train_target_df], axis=1)\n",
    "\n",
    "loop = tqdm(train_df.keys().tolist(), desc=\"Loading dataset\")\n",
    "for feature in loop:\n",
    "    loop.set_postfix(feature=feature)\n",
    "    encoder_name = feature2class[feature]\n",
    "    if encoder_name in encoders_map:\n",
    "        train_df[feature] = pd.Series(encoders_map[encoder_name].inverse_transform(train_df[feature].astype(\"uint64\"))).replace(\n",
    "            classes[encoder_name]\n",
    "        )\n",
    "    elif not pd.api.types.is_numeric_dtype(train_df[feature]):\n",
    "        train_df[feature] = train_df[feature].astype(bool)\n",
    "        f = feature2class[feature]\n",
    "        if f in classes:\n",
    "            train_df[feature] = train_df[feature].replace({False: \"false\", True: \"true\"})\n",
    "            train_df[feature] = train_df[feature].replace(classes[f]).astype(\"object\")\n",
    "            train_df = train_df.rename(columns={feature: f})\n",
    "        else:\n",
    "            train_df[feature] = train_df[feature].replace({False: \"no\", True: \"yes\"}).astype(\"object\")\n",
    "    else:\n",
    "        train_df[feature] = pd.Series(scalers_map[feature].inverse_transform(train_df[[feature]]).squeeze())\n",
    "\n",
    "print(\"Objtivo:\", target, train_df[target].dtype)\n",
    "print(\"Shape:\", train_df.shape)\n",
    "train_df.head(10)"
   ]
  },
  {
   "cell_type": "markdown",
   "id": "415b59c8",
   "metadata": {},
   "source": [
    "## Regras de associação"
   ]
  },
  {
   "cell_type": "markdown",
   "id": "b27dda7d",
   "metadata": {},
   "source": [
    "### Discretização de atributos numéricos"
   ]
  },
  {
   "cell_type": "markdown",
   "id": "d0f9ccce",
   "metadata": {},
   "source": [
    "Como primeiro passo para a extração de regras de associação, discretizamos os atributos númericos do dataset. Utilizamos `cut` para criar $5$ intervalos iguais como categorias para os atributos numéricos.\n",
    "\n",
    "Para facilitar a visualização das regras posteriormente, criamos rótulos para estes $5$ intervalos, em ordem crestente de tamanho: `tiny`, `small`, `medium`, `large` e `huge`."
   ]
  },
  {
   "cell_type": "code",
   "execution_count": 4,
   "id": "44a57eae",
   "metadata": {},
   "outputs": [
    {
     "data": {
      "image/png": "[encoded data removed]",
      "text/plain": [
       "<Figure size 1200x300 with 3 Axes>"
      ]
     },
     "metadata": {},
     "output_type": "display_data"
    }
   ],
   "source": [
    "BINS = 5\n",
    "LABELS = [\"tiny\", \"small\", \"medium\", \"large\", \"huge\"]\n",
    "numerical_feats = train_df.select_dtypes(include=\"number\")\n",
    "\n",
    "train_df_discrete = train_df.copy()\n",
    "\n",
    "for feat in numerical_feats:\n",
    "    train_df_discrete[feat] = pd.cut(train_df_discrete[feat], BINS, labels=LABELS)\n",
    "\n",
    "num_unique_rows = train_df_discrete.drop_duplicates().shape[0]\n",
    "num_duplicate_rows = train_df_discrete.duplicated().sum()\n",
    "\n",
    "# print(f\"Instâncias únicas: {num_unique_rows}\")\n",
    "# print(f\"Instâncias duplicadas: {num_duplicate_rows}\\n\")\n",
    "plot_features(numerical_feats, train_df_discrete, show_info_box=False)"
   ]
  },
  {
   "cell_type": "markdown",
   "id": "af6f3aca",
   "metadata": {},
   "source": [
    "### Versão binária do dataset"
   ]
  },
  {
   "cell_type": "markdown",
   "id": "be2c8889",
   "metadata": {},
   "source": [
    "Criamos uma versão binária do dataset para aplicar o algoritmo de padrões frequentes utilizando `dummies`."
   ]
  },
  {
   "cell_type": "code",
   "execution_count": 5,
   "id": "4a68c535",
   "metadata": {},
   "outputs": [
    {
     "name": "stdout",
     "output_type": "stream",
     "text": [
      "16 atributos categóricos -> 104 atributos binários\n",
      "Target items: ['target: edible', 'target: poisonous']\n"
     ]
    },
    {
     "data": {
      "text/html": [
       "<div>\n",
       "<style scoped>\n",
       "    .dataframe tbody tr th:only-of-type {\n",
       "        vertical-align: middle;\n",
       "    }\n",
       "\n",
       "    .dataframe tbody tr th {\n",
       "        vertical-align: top;\n",
       "    }\n",
       "\n",
       "    .dataframe thead th {\n",
       "        text-align: right;\n",
       "    }\n",
       "</style>\n",
       "<table border=\"1\" class=\"dataframe\">\n",
       "  <thead>\n",
       "    <tr style=\"text-align: right;\">\n",
       "      <th></th>\n",
       "      <th>cap-diameter: tiny</th>\n",
       "      <th>cap-diameter: small</th>\n",
       "      <th>cap-diameter: medium</th>\n",
       "      <th>cap-diameter: large</th>\n",
       "      <th>cap-diameter: huge</th>\n",
       "      <th>cap-shape: bell</th>\n",
       "      <th>cap-shape: conical</th>\n",
       "      <th>cap-shape: convex</th>\n",
       "      <th>cap-shape: flat</th>\n",
       "      <th>cap-shape: others</th>\n",
       "      <th>cap-shape: spherical</th>\n",
       "      <th>cap-shape: sunken</th>\n",
       "      <th>cap-surface: fibrous</th>\n",
       "      <th>cap-surface: fleshy</th>\n",
       "      <th>cap-surface: grooves</th>\n",
       "      <th>cap-surface: leathery</th>\n",
       "      <th>cap-surface: others</th>\n",
       "      <th>cap-surface: scaly</th>\n",
       "      <th>cap-surface: shiny</th>\n",
       "      <th>cap-surface: silky</th>\n",
       "      <th>cap-surface: smooth</th>\n",
       "      <th>cap-surface: sticky</th>\n",
       "      <th>cap-surface: wrinkled</th>\n",
       "      <th>cap-color: black</th>\n",
       "      <th>cap-color: blue</th>\n",
       "      <th>cap-color: brown</th>\n",
       "      <th>cap-color: buff</th>\n",
       "      <th>cap-color: gray</th>\n",
       "      <th>cap-color: green</th>\n",
       "      <th>cap-color: none</th>\n",
       "      <th>cap-color: others</th>\n",
       "      <th>cap-color: pink</th>\n",
       "      <th>cap-color: purple</th>\n",
       "      <th>cap-color: red</th>\n",
       "      <th>cap-color: white</th>\n",
       "      <th>cap-color: yellow</th>\n",
       "      <th>does-bruise-or-bleed: no</th>\n",
       "      <th>does-bruise-or-bleed: yes</th>\n",
       "      <th>gill-attachment: adnate</th>\n",
       "      <th>gill-attachment: adnexed</th>\n",
       "      <th>gill-attachment: decurrent</th>\n",
       "      <th>gill-attachment: free</th>\n",
       "      <th>gill-attachment: none</th>\n",
       "      <th>gill-attachment: pores</th>\n",
       "      <th>gill-attachment: sinuate</th>\n",
       "      <th>gill-spacing: close</th>\n",
       "      <th>gill-spacing: distant</th>\n",
       "      <th>gill-spacing: none</th>\n",
       "      <th>gill-color: black</th>\n",
       "      <th>gill-color: brown</th>\n",
       "      <th>gill-color: buff</th>\n",
       "      <th>gill-color: gray</th>\n",
       "      <th>gill-color: green</th>\n",
       "      <th>gill-color: none</th>\n",
       "      <th>gill-color: others</th>\n",
       "      <th>gill-color: pink</th>\n",
       "      <th>gill-color: purple</th>\n",
       "      <th>gill-color: red</th>\n",
       "      <th>gill-color: white</th>\n",
       "      <th>gill-color: yellow</th>\n",
       "      <th>stem-height: tiny</th>\n",
       "      <th>stem-height: small</th>\n",
       "      <th>stem-height: medium</th>\n",
       "      <th>stem-height: large</th>\n",
       "      <th>stem-height: huge</th>\n",
       "      <th>stem-width: tiny</th>\n",
       "      <th>stem-width: small</th>\n",
       "      <th>stem-width: medium</th>\n",
       "      <th>stem-width: large</th>\n",
       "      <th>stem-width: huge</th>\n",
       "      <th>stem-color: black</th>\n",
       "      <th>stem-color: blue</th>\n",
       "      <th>stem-color: brown</th>\n",
       "      <th>stem-color: buff</th>\n",
       "      <th>stem-color: gray</th>\n",
       "      <th>stem-color: green</th>\n",
       "      <th>stem-color: none</th>\n",
       "      <th>stem-color: others</th>\n",
       "      <th>stem-color: pink</th>\n",
       "      <th>stem-color: purple</th>\n",
       "      <th>stem-color: red</th>\n",
       "      <th>stem-color: white</th>\n",
       "      <th>stem-color: yellow</th>\n",
       "      <th>ring-type: evanescent</th>\n",
       "      <th>ring-type: flaring</th>\n",
       "      <th>ring-type: grooved</th>\n",
       "      <th>ring-type: large</th>\n",
       "      <th>ring-type: none</th>\n",
       "      <th>ring-type: others</th>\n",
       "      <th>ring-type: pendant</th>\n",
       "      <th>habitat: grasses</th>\n",
       "      <th>habitat: heaths</th>\n",
       "      <th>habitat: leaves</th>\n",
       "      <th>habitat: meadows</th>\n",
       "      <th>habitat: others</th>\n",
       "      <th>habitat: woods</th>\n",
       "      <th>season: autumn</th>\n",
       "      <th>season: spring</th>\n",
       "      <th>season: summer</th>\n",
       "      <th>season: winter</th>\n",
       "      <th>veil-type: partial</th>\n",
       "      <th>veil-type: universal</th>\n",
       "      <th>target: edible</th>\n",
       "      <th>target: poisonous</th>\n",
       "    </tr>\n",
       "  </thead>\n",
       "  <tbody>\n",
       "    <tr>\n",
       "      <th>0</th>\n",
       "      <td>False</td>\n",
       "      <td>False</td>\n",
       "      <td>True</td>\n",
       "      <td>False</td>\n",
       "      <td>False</td>\n",
       "      <td>False</td>\n",
       "      <td>False</td>\n",
       "      <td>False</td>\n",
       "      <td>True</td>\n",
       "      <td>False</td>\n",
       "      <td>False</td>\n",
       "      <td>False</td>\n",
       "      <td>False</td>\n",
       "      <td>False</td>\n",
       "      <td>False</td>\n",
       "      <td>False</td>\n",
       "      <td>False</td>\n",
       "      <td>False</td>\n",
       "      <td>False</td>\n",
       "      <td>False</td>\n",
       "      <td>True</td>\n",
       "      <td>False</td>\n",
       "      <td>False</td>\n",
       "      <td>False</td>\n",
       "      <td>False</td>\n",
       "      <td>False</td>\n",
       "      <td>False</td>\n",
       "      <td>False</td>\n",
       "      <td>False</td>\n",
       "      <td>False</td>\n",
       "      <td>False</td>\n",
       "      <td>False</td>\n",
       "      <td>True</td>\n",
       "      <td>False</td>\n",
       "      <td>False</td>\n",
       "      <td>False</td>\n",
       "      <td>True</td>\n",
       "      <td>False</td>\n",
       "      <td>True</td>\n",
       "      <td>False</td>\n",
       "      <td>False</td>\n",
       "      <td>False</td>\n",
       "      <td>False</td>\n",
       "      <td>False</td>\n",
       "      <td>False</td>\n",
       "      <td>True</td>\n",
       "      <td>False</td>\n",
       "      <td>False</td>\n",
       "      <td>False</td>\n",
       "      <td>False</td>\n",
       "      <td>False</td>\n",
       "      <td>False</td>\n",
       "      <td>False</td>\n",
       "      <td>False</td>\n",
       "      <td>False</td>\n",
       "      <td>False</td>\n",
       "      <td>False</td>\n",
       "      <td>False</td>\n",
       "      <td>True</td>\n",
       "      <td>False</td>\n",
       "      <td>False</td>\n",
       "      <td>True</td>\n",
       "      <td>False</td>\n",
       "      <td>False</td>\n",
       "      <td>False</td>\n",
       "      <td>False</td>\n",
       "      <td>False</td>\n",
       "      <td>True</td>\n",
       "      <td>False</td>\n",
       "      <td>False</td>\n",
       "      <td>False</td>\n",
       "      <td>False</td>\n",
       "      <td>False</td>\n",
       "      <td>False</td>\n",
       "      <td>False</td>\n",
       "      <td>False</td>\n",
       "      <td>False</td>\n",
       "      <td>False</td>\n",
       "      <td>False</td>\n",
       "      <td>False</td>\n",
       "      <td>False</td>\n",
       "      <td>True</td>\n",
       "      <td>False</td>\n",
       "      <td>False</td>\n",
       "      <td>False</td>\n",
       "      <td>False</td>\n",
       "      <td>False</td>\n",
       "      <td>True</td>\n",
       "      <td>False</td>\n",
       "      <td>False</td>\n",
       "      <td>False</td>\n",
       "      <td>False</td>\n",
       "      <td>False</td>\n",
       "      <td>False</td>\n",
       "      <td>False</td>\n",
       "      <td>True</td>\n",
       "      <td>True</td>\n",
       "      <td>False</td>\n",
       "      <td>False</td>\n",
       "      <td>False</td>\n",
       "      <td>True</td>\n",
       "      <td>False</td>\n",
       "      <td>True</td>\n",
       "      <td>False</td>\n",
       "    </tr>\n",
       "    <tr>\n",
       "      <th>1</th>\n",
       "      <td>False</td>\n",
       "      <td>True</td>\n",
       "      <td>False</td>\n",
       "      <td>False</td>\n",
       "      <td>False</td>\n",
       "      <td>False</td>\n",
       "      <td>False</td>\n",
       "      <td>True</td>\n",
       "      <td>False</td>\n",
       "      <td>False</td>\n",
       "      <td>False</td>\n",
       "      <td>False</td>\n",
       "      <td>False</td>\n",
       "      <td>False</td>\n",
       "      <td>False</td>\n",
       "      <td>False</td>\n",
       "      <td>False</td>\n",
       "      <td>False</td>\n",
       "      <td>True</td>\n",
       "      <td>False</td>\n",
       "      <td>False</td>\n",
       "      <td>False</td>\n",
       "      <td>False</td>\n",
       "      <td>False</td>\n",
       "      <td>False</td>\n",
       "      <td>False</td>\n",
       "      <td>False</td>\n",
       "      <td>False</td>\n",
       "      <td>False</td>\n",
       "      <td>False</td>\n",
       "      <td>True</td>\n",
       "      <td>False</td>\n",
       "      <td>False</td>\n",
       "      <td>False</td>\n",
       "      <td>False</td>\n",
       "      <td>False</td>\n",
       "      <td>True</td>\n",
       "      <td>False</td>\n",
       "      <td>True</td>\n",
       "      <td>False</td>\n",
       "      <td>False</td>\n",
       "      <td>False</td>\n",
       "      <td>False</td>\n",
       "      <td>False</td>\n",
       "      <td>False</td>\n",
       "      <td>True</td>\n",
       "      <td>False</td>\n",
       "      <td>False</td>\n",
       "      <td>False</td>\n",
       "      <td>True</td>\n",
       "      <td>False</td>\n",
       "      <td>False</td>\n",
       "      <td>False</td>\n",
       "      <td>False</td>\n",
       "      <td>False</td>\n",
       "      <td>False</td>\n",
       "      <td>False</td>\n",
       "      <td>False</td>\n",
       "      <td>False</td>\n",
       "      <td>False</td>\n",
       "      <td>False</td>\n",
       "      <td>True</td>\n",
       "      <td>False</td>\n",
       "      <td>False</td>\n",
       "      <td>False</td>\n",
       "      <td>True</td>\n",
       "      <td>False</td>\n",
       "      <td>False</td>\n",
       "      <td>False</td>\n",
       "      <td>False</td>\n",
       "      <td>False</td>\n",
       "      <td>False</td>\n",
       "      <td>False</td>\n",
       "      <td>False</td>\n",
       "      <td>False</td>\n",
       "      <td>False</td>\n",
       "      <td>False</td>\n",
       "      <td>True</td>\n",
       "      <td>False</td>\n",
       "      <td>False</td>\n",
       "      <td>False</td>\n",
       "      <td>False</td>\n",
       "      <td>False</td>\n",
       "      <td>False</td>\n",
       "      <td>False</td>\n",
       "      <td>False</td>\n",
       "      <td>False</td>\n",
       "      <td>False</td>\n",
       "      <td>True</td>\n",
       "      <td>False</td>\n",
       "      <td>False</td>\n",
       "      <td>False</td>\n",
       "      <td>False</td>\n",
       "      <td>False</td>\n",
       "      <td>False</td>\n",
       "      <td>True</td>\n",
       "      <td>False</td>\n",
       "      <td>False</td>\n",
       "      <td>False</td>\n",
       "      <td>True</td>\n",
       "      <td>True</td>\n",
       "      <td>False</td>\n",
       "      <td>False</td>\n",
       "      <td>True</td>\n",
       "    </tr>\n",
       "    <tr>\n",
       "      <th>2</th>\n",
       "      <td>False</td>\n",
       "      <td>True</td>\n",
       "      <td>False</td>\n",
       "      <td>False</td>\n",
       "      <td>False</td>\n",
       "      <td>False</td>\n",
       "      <td>False</td>\n",
       "      <td>False</td>\n",
       "      <td>True</td>\n",
       "      <td>False</td>\n",
       "      <td>False</td>\n",
       "      <td>False</td>\n",
       "      <td>False</td>\n",
       "      <td>False</td>\n",
       "      <td>False</td>\n",
       "      <td>False</td>\n",
       "      <td>False</td>\n",
       "      <td>False</td>\n",
       "      <td>False</td>\n",
       "      <td>False</td>\n",
       "      <td>True</td>\n",
       "      <td>False</td>\n",
       "      <td>False</td>\n",
       "      <td>False</td>\n",
       "      <td>False</td>\n",
       "      <td>False</td>\n",
       "      <td>True</td>\n",
       "      <td>False</td>\n",
       "      <td>False</td>\n",
       "      <td>False</td>\n",
       "      <td>False</td>\n",
       "      <td>False</td>\n",
       "      <td>False</td>\n",
       "      <td>False</td>\n",
       "      <td>False</td>\n",
       "      <td>False</td>\n",
       "      <td>True</td>\n",
       "      <td>False</td>\n",
       "      <td>False</td>\n",
       "      <td>True</td>\n",
       "      <td>False</td>\n",
       "      <td>False</td>\n",
       "      <td>False</td>\n",
       "      <td>False</td>\n",
       "      <td>False</td>\n",
       "      <td>True</td>\n",
       "      <td>False</td>\n",
       "      <td>False</td>\n",
       "      <td>False</td>\n",
       "      <td>False</td>\n",
       "      <td>False</td>\n",
       "      <td>False</td>\n",
       "      <td>False</td>\n",
       "      <td>False</td>\n",
       "      <td>False</td>\n",
       "      <td>False</td>\n",
       "      <td>False</td>\n",
       "      <td>False</td>\n",
       "      <td>True</td>\n",
       "      <td>False</td>\n",
       "      <td>False</td>\n",
       "      <td>False</td>\n",
       "      <td>True</td>\n",
       "      <td>False</td>\n",
       "      <td>False</td>\n",
       "      <td>False</td>\n",
       "      <td>True</td>\n",
       "      <td>False</td>\n",
       "      <td>False</td>\n",
       "      <td>False</td>\n",
       "      <td>False</td>\n",
       "      <td>False</td>\n",
       "      <td>True</td>\n",
       "      <td>False</td>\n",
       "      <td>False</td>\n",
       "      <td>False</td>\n",
       "      <td>False</td>\n",
       "      <td>False</td>\n",
       "      <td>False</td>\n",
       "      <td>False</td>\n",
       "      <td>False</td>\n",
       "      <td>False</td>\n",
       "      <td>False</td>\n",
       "      <td>False</td>\n",
       "      <td>False</td>\n",
       "      <td>False</td>\n",
       "      <td>False</td>\n",
       "      <td>True</td>\n",
       "      <td>False</td>\n",
       "      <td>False</td>\n",
       "      <td>False</td>\n",
       "      <td>False</td>\n",
       "      <td>True</td>\n",
       "      <td>False</td>\n",
       "      <td>False</td>\n",
       "      <td>False</td>\n",
       "      <td>False</td>\n",
       "      <td>False</td>\n",
       "      <td>False</td>\n",
       "      <td>True</td>\n",
       "      <td>True</td>\n",
       "      <td>False</td>\n",
       "      <td>True</td>\n",
       "      <td>False</td>\n",
       "    </tr>\n",
       "    <tr>\n",
       "      <th>3</th>\n",
       "      <td>True</td>\n",
       "      <td>False</td>\n",
       "      <td>False</td>\n",
       "      <td>False</td>\n",
       "      <td>False</td>\n",
       "      <td>False</td>\n",
       "      <td>False</td>\n",
       "      <td>False</td>\n",
       "      <td>True</td>\n",
       "      <td>False</td>\n",
       "      <td>False</td>\n",
       "      <td>False</td>\n",
       "      <td>False</td>\n",
       "      <td>False</td>\n",
       "      <td>False</td>\n",
       "      <td>False</td>\n",
       "      <td>False</td>\n",
       "      <td>True</td>\n",
       "      <td>False</td>\n",
       "      <td>False</td>\n",
       "      <td>False</td>\n",
       "      <td>False</td>\n",
       "      <td>False</td>\n",
       "      <td>False</td>\n",
       "      <td>False</td>\n",
       "      <td>False</td>\n",
       "      <td>False</td>\n",
       "      <td>True</td>\n",
       "      <td>False</td>\n",
       "      <td>False</td>\n",
       "      <td>False</td>\n",
       "      <td>False</td>\n",
       "      <td>False</td>\n",
       "      <td>False</td>\n",
       "      <td>False</td>\n",
       "      <td>False</td>\n",
       "      <td>True</td>\n",
       "      <td>False</td>\n",
       "      <td>False</td>\n",
       "      <td>False</td>\n",
       "      <td>False</td>\n",
       "      <td>False</td>\n",
       "      <td>False</td>\n",
       "      <td>False</td>\n",
       "      <td>True</td>\n",
       "      <td>False</td>\n",
       "      <td>False</td>\n",
       "      <td>True</td>\n",
       "      <td>False</td>\n",
       "      <td>False</td>\n",
       "      <td>False</td>\n",
       "      <td>True</td>\n",
       "      <td>False</td>\n",
       "      <td>False</td>\n",
       "      <td>False</td>\n",
       "      <td>False</td>\n",
       "      <td>False</td>\n",
       "      <td>False</td>\n",
       "      <td>False</td>\n",
       "      <td>False</td>\n",
       "      <td>False</td>\n",
       "      <td>True</td>\n",
       "      <td>False</td>\n",
       "      <td>False</td>\n",
       "      <td>False</td>\n",
       "      <td>True</td>\n",
       "      <td>False</td>\n",
       "      <td>False</td>\n",
       "      <td>False</td>\n",
       "      <td>False</td>\n",
       "      <td>False</td>\n",
       "      <td>False</td>\n",
       "      <td>False</td>\n",
       "      <td>False</td>\n",
       "      <td>False</td>\n",
       "      <td>False</td>\n",
       "      <td>False</td>\n",
       "      <td>False</td>\n",
       "      <td>False</td>\n",
       "      <td>False</td>\n",
       "      <td>False</td>\n",
       "      <td>True</td>\n",
       "      <td>False</td>\n",
       "      <td>False</td>\n",
       "      <td>False</td>\n",
       "      <td>False</td>\n",
       "      <td>False</td>\n",
       "      <td>True</td>\n",
       "      <td>False</td>\n",
       "      <td>False</td>\n",
       "      <td>False</td>\n",
       "      <td>False</td>\n",
       "      <td>False</td>\n",
       "      <td>False</td>\n",
       "      <td>False</td>\n",
       "      <td>True</td>\n",
       "      <td>False</td>\n",
       "      <td>False</td>\n",
       "      <td>True</td>\n",
       "      <td>False</td>\n",
       "      <td>True</td>\n",
       "      <td>False</td>\n",
       "      <td>True</td>\n",
       "      <td>False</td>\n",
       "    </tr>\n",
       "    <tr>\n",
       "      <th>4</th>\n",
       "      <td>False</td>\n",
       "      <td>True</td>\n",
       "      <td>False</td>\n",
       "      <td>False</td>\n",
       "      <td>False</td>\n",
       "      <td>False</td>\n",
       "      <td>False</td>\n",
       "      <td>True</td>\n",
       "      <td>False</td>\n",
       "      <td>False</td>\n",
       "      <td>False</td>\n",
       "      <td>False</td>\n",
       "      <td>False</td>\n",
       "      <td>False</td>\n",
       "      <td>False</td>\n",
       "      <td>True</td>\n",
       "      <td>False</td>\n",
       "      <td>False</td>\n",
       "      <td>False</td>\n",
       "      <td>False</td>\n",
       "      <td>False</td>\n",
       "      <td>False</td>\n",
       "      <td>False</td>\n",
       "      <td>False</td>\n",
       "      <td>False</td>\n",
       "      <td>False</td>\n",
       "      <td>False</td>\n",
       "      <td>False</td>\n",
       "      <td>False</td>\n",
       "      <td>False</td>\n",
       "      <td>False</td>\n",
       "      <td>False</td>\n",
       "      <td>False</td>\n",
       "      <td>False</td>\n",
       "      <td>True</td>\n",
       "      <td>False</td>\n",
       "      <td>True</td>\n",
       "      <td>False</td>\n",
       "      <td>False</td>\n",
       "      <td>False</td>\n",
       "      <td>True</td>\n",
       "      <td>False</td>\n",
       "      <td>False</td>\n",
       "      <td>False</td>\n",
       "      <td>False</td>\n",
       "      <td>False</td>\n",
       "      <td>False</td>\n",
       "      <td>True</td>\n",
       "      <td>False</td>\n",
       "      <td>False</td>\n",
       "      <td>False</td>\n",
       "      <td>False</td>\n",
       "      <td>False</td>\n",
       "      <td>False</td>\n",
       "      <td>False</td>\n",
       "      <td>False</td>\n",
       "      <td>False</td>\n",
       "      <td>False</td>\n",
       "      <td>True</td>\n",
       "      <td>False</td>\n",
       "      <td>False</td>\n",
       "      <td>True</td>\n",
       "      <td>False</td>\n",
       "      <td>False</td>\n",
       "      <td>False</td>\n",
       "      <td>False</td>\n",
       "      <td>True</td>\n",
       "      <td>False</td>\n",
       "      <td>False</td>\n",
       "      <td>False</td>\n",
       "      <td>False</td>\n",
       "      <td>False</td>\n",
       "      <td>False</td>\n",
       "      <td>False</td>\n",
       "      <td>False</td>\n",
       "      <td>False</td>\n",
       "      <td>False</td>\n",
       "      <td>False</td>\n",
       "      <td>False</td>\n",
       "      <td>False</td>\n",
       "      <td>False</td>\n",
       "      <td>True</td>\n",
       "      <td>False</td>\n",
       "      <td>False</td>\n",
       "      <td>False</td>\n",
       "      <td>False</td>\n",
       "      <td>False</td>\n",
       "      <td>True</td>\n",
       "      <td>False</td>\n",
       "      <td>False</td>\n",
       "      <td>True</td>\n",
       "      <td>False</td>\n",
       "      <td>False</td>\n",
       "      <td>False</td>\n",
       "      <td>False</td>\n",
       "      <td>False</td>\n",
       "      <td>True</td>\n",
       "      <td>False</td>\n",
       "      <td>False</td>\n",
       "      <td>False</td>\n",
       "      <td>True</td>\n",
       "      <td>False</td>\n",
       "      <td>True</td>\n",
       "      <td>False</td>\n",
       "    </tr>\n",
       "  </tbody>\n",
       "</table>\n",
       "</div>"
      ],
      "text/plain": [
       "   cap-diameter: tiny  cap-diameter: small  cap-diameter: medium  \\\n",
       "0               False                False                  True   \n",
       "1               False                 True                 False   \n",
       "2               False                 True                 False   \n",
       "3                True                False                 False   \n",
       "4               False                 True                 False   \n",
       "\n",
       "   cap-diameter: large  cap-diameter: huge  cap-shape: bell  \\\n",
       "0                False               False            False   \n",
       "1                False               False            False   \n",
       "2                False               False            False   \n",
       "3                False               False            False   \n",
       "4                False               False            False   \n",
       "\n",
       "   cap-shape: conical  cap-shape: convex  cap-shape: flat  cap-shape: others  \\\n",
       "0               False              False             True              False   \n",
       "1               False               True            False              False   \n",
       "2               False              False             True              False   \n",
       "3               False              False             True              False   \n",
       "4               False               True            False              False   \n",
       "\n",
       "   cap-shape: spherical  cap-shape: sunken  cap-surface: fibrous  \\\n",
       "0                 False              False                 False   \n",
       "1                 False              False                 False   \n",
       "2                 False              False                 False   \n",
       "3                 False              False                 False   \n",
       "4                 False              False                 False   \n",
       "\n",
       "   cap-surface: fleshy  cap-surface: grooves  cap-surface: leathery  \\\n",
       "0                False                 False                  False   \n",
       "1                False                 False                  False   \n",
       "2                False                 False                  False   \n",
       "3                False                 False                  False   \n",
       "4                False                 False                   True   \n",
       "\n",
       "   cap-surface: others  cap-surface: scaly  cap-surface: shiny  \\\n",
       "0                False               False               False   \n",
       "1                False               False                True   \n",
       "2                False               False               False   \n",
       "3                False                True               False   \n",
       "4                False               False               False   \n",
       "\n",
       "   cap-surface: silky  cap-surface: smooth  cap-surface: sticky  \\\n",
       "0               False                 True                False   \n",
       "1               False                False                False   \n",
       "2               False                 True                False   \n",
       "3               False                False                False   \n",
       "4               False                False                False   \n",
       "\n",
       "   cap-surface: wrinkled  cap-color: black  cap-color: blue  cap-color: brown  \\\n",
       "0                  False             False            False             False   \n",
       "1                  False             False            False             False   \n",
       "2                  False             False            False             False   \n",
       "3                  False             False            False             False   \n",
       "4                  False             False            False             False   \n",
       "\n",
       "   cap-color: buff  cap-color: gray  cap-color: green  cap-color: none  \\\n",
       "0            False            False             False            False   \n",
       "1            False            False             False            False   \n",
       "2             True            False             False            False   \n",
       "3            False             True             False            False   \n",
       "4            False            False             False            False   \n",
       "\n",
       "   cap-color: others  cap-color: pink  cap-color: purple  cap-color: red  \\\n",
       "0              False            False               True           False   \n",
       "1               True            False              False           False   \n",
       "2              False            False              False           False   \n",
       "3              False            False              False           False   \n",
       "4              False            False              False           False   \n",
       "\n",
       "   cap-color: white  cap-color: yellow  does-bruise-or-bleed: no  \\\n",
       "0             False              False                      True   \n",
       "1             False              False                      True   \n",
       "2             False              False                      True   \n",
       "3             False              False                      True   \n",
       "4              True              False                      True   \n",
       "\n",
       "   does-bruise-or-bleed: yes  gill-attachment: adnate  \\\n",
       "0                      False                     True   \n",
       "1                      False                     True   \n",
       "2                      False                    False   \n",
       "3                      False                    False   \n",
       "4                      False                    False   \n",
       "\n",
       "   gill-attachment: adnexed  gill-attachment: decurrent  \\\n",
       "0                     False                       False   \n",
       "1                     False                       False   \n",
       "2                      True                       False   \n",
       "3                     False                       False   \n",
       "4                     False                        True   \n",
       "\n",
       "   gill-attachment: free  gill-attachment: none  gill-attachment: pores  \\\n",
       "0                  False                  False                   False   \n",
       "1                  False                  False                   False   \n",
       "2                  False                  False                   False   \n",
       "3                  False                  False                   False   \n",
       "4                  False                  False                   False   \n",
       "\n",
       "   gill-attachment: sinuate  gill-spacing: close  gill-spacing: distant  \\\n",
       "0                     False                 True                  False   \n",
       "1                     False                 True                  False   \n",
       "2                     False                 True                  False   \n",
       "3                      True                False                  False   \n",
       "4                     False                False                  False   \n",
       "\n",
       "   gill-spacing: none  gill-color: black  gill-color: brown  gill-color: buff  \\\n",
       "0               False              False              False             False   \n",
       "1               False              False               True             False   \n",
       "2               False              False              False             False   \n",
       "3                True              False              False             False   \n",
       "4                True              False              False             False   \n",
       "\n",
       "   gill-color: gray  gill-color: green  gill-color: none  gill-color: others  \\\n",
       "0             False              False             False               False   \n",
       "1             False              False             False               False   \n",
       "2             False              False             False               False   \n",
       "3              True              False             False               False   \n",
       "4             False              False             False               False   \n",
       "\n",
       "   gill-color: pink  gill-color: purple  gill-color: red  gill-color: white  \\\n",
       "0             False               False            False               True   \n",
       "1             False               False            False              False   \n",
       "2             False               False            False               True   \n",
       "3             False               False            False              False   \n",
       "4             False               False            False               True   \n",
       "\n",
       "   gill-color: yellow  stem-height: tiny  stem-height: small  \\\n",
       "0               False              False                True   \n",
       "1               False              False                True   \n",
       "2               False              False               False   \n",
       "3               False              False                True   \n",
       "4               False              False                True   \n",
       "\n",
       "   stem-height: medium  stem-height: large  stem-height: huge  \\\n",
       "0                False               False              False   \n",
       "1                False               False              False   \n",
       "2                 True               False              False   \n",
       "3                False               False              False   \n",
       "4                False               False              False   \n",
       "\n",
       "   stem-width: tiny  stem-width: small  stem-width: medium  stem-width: large  \\\n",
       "0             False              False                True              False   \n",
       "1              True              False               False              False   \n",
       "2             False               True               False              False   \n",
       "3              True              False               False              False   \n",
       "4             False               True               False              False   \n",
       "\n",
       "   stem-width: huge  stem-color: black  stem-color: blue  stem-color: brown  \\\n",
       "0             False              False             False              False   \n",
       "1             False              False             False              False   \n",
       "2             False              False             False               True   \n",
       "3             False              False             False              False   \n",
       "4             False              False             False              False   \n",
       "\n",
       "   stem-color: buff  stem-color: gray  stem-color: green  stem-color: none  \\\n",
       "0             False             False              False             False   \n",
       "1             False             False              False             False   \n",
       "2             False             False              False             False   \n",
       "3             False             False              False             False   \n",
       "4             False             False              False             False   \n",
       "\n",
       "   stem-color: others  stem-color: pink  stem-color: purple  stem-color: red  \\\n",
       "0               False             False               False            False   \n",
       "1                True             False               False            False   \n",
       "2               False             False               False            False   \n",
       "3               False             False               False            False   \n",
       "4               False             False               False            False   \n",
       "\n",
       "   stem-color: white  stem-color: yellow  ring-type: evanescent  \\\n",
       "0               True               False                  False   \n",
       "1              False               False                  False   \n",
       "2              False               False                  False   \n",
       "3               True               False                  False   \n",
       "4               True               False                  False   \n",
       "\n",
       "   ring-type: flaring  ring-type: grooved  ring-type: large  ring-type: none  \\\n",
       "0               False               False             False             True   \n",
       "1               False               False             False            False   \n",
       "2               False               False             False             True   \n",
       "3               False               False             False             True   \n",
       "4               False               False             False             True   \n",
       "\n",
       "   ring-type: others  ring-type: pendant  habitat: grasses  habitat: heaths  \\\n",
       "0              False               False             False            False   \n",
       "1               True               False             False            False   \n",
       "2              False               False             False            False   \n",
       "3              False               False             False            False   \n",
       "4              False               False              True            False   \n",
       "\n",
       "   habitat: leaves  habitat: meadows  habitat: others  habitat: woods  \\\n",
       "0            False             False            False            True   \n",
       "1            False             False            False            True   \n",
       "2             True             False            False           False   \n",
       "3            False             False            False            True   \n",
       "4            False             False            False           False   \n",
       "\n",
       "   season: autumn  season: spring  season: summer  season: winter  \\\n",
       "0            True           False           False           False   \n",
       "1           False           False           False            True   \n",
       "2           False           False           False            True   \n",
       "3           False           False            True           False   \n",
       "4            True           False           False           False   \n",
       "\n",
       "   veil-type: partial  veil-type: universal  target: edible  target: poisonous  \n",
       "0                True                 False            True              False  \n",
       "1                True                 False           False               True  \n",
       "2                True                 False            True              False  \n",
       "3                True                 False            True              False  \n",
       "4                True                 False            True              False  "
      ]
     },
     "execution_count": 5,
     "metadata": {},
     "output_type": "execute_result"
    }
   ],
   "source": [
    "train_df_binary = pd.get_dummies(train_df_discrete, prefix_sep=\": \")\n",
    "target_itemsets = [f for f in train_df_binary.keys() if \"target\" in f]\n",
    "\n",
    "print(f\"{train_df_discrete.shape[1]} atributos categóricos -> {train_df_binary.shape[1]} atributos binários\")\n",
    "print(\"Target items:\", target_itemsets)\n",
    "train_df_binary.head()"
   ]
  },
  {
   "cell_type": "markdown",
   "id": "58611bfb",
   "metadata": {},
   "source": [
    "Aplicamos um algoritmo para encontrar padrões frequentes (*Apriori*, *FP-Growth* etc). Podemos observar o número de itens frequentes afim do suporte mínimo no intervalo $[0.05, 1.0]$ com $step=0.05$"
   ]
  },
  {
   "cell_type": "code",
   "execution_count": 6,
   "id": "f48f06bf",
   "metadata": {},
   "outputs": [
    {
     "name": "stdout",
     "output_type": "stream",
     "text": [
      "Obtendo itemsets frequentes com apriori...\n"
     ]
    },
    {
     "data": {
      "application/vnd.plotly.v1+json": {
       "config": {
        "plotlyServerURL": "https://plot.ly"
       },
       "data": [
        {
         "marker": {
          "color": "crimson"
         },
         "opacity": 0.8,
         "text": [
          "276363",
          "68934",
          "30258",
          "16637",
          "10313",
          "6959",
          "4899",
          "3624",
          "2769",
          "2169",
          "1731",
          "1382",
          "1122",
          "951",
          "766",
          "655",
          "558",
          "474",
          "402",
          "354",
          "309",
          "278",
          "246",
          "216",
          "201",
          "185",
          "164",
          "153",
          "138",
          "120",
          "112",
          "101",
          "90",
          "85",
          "74",
          "61",
          "53",
          "48",
          "44",
          "37",
          "36",
          "32",
          "30",
          "27",
          "23",
          "18",
          "17",
          "16",
          "16",
          "15",
          "14",
          "13",
          "13",
          "13",
          "12",
          "11",
          "11",
          "10",
          "9",
          "9",
          "9",
          "9",
          "9",
          "9",
          "8",
          "8",
          "8",
          "8",
          "6",
          "5",
          "5",
          "5",
          "5",
          "5",
          "5",
          "5",
          "5",
          "4",
          "4",
          "4",
          "4",
          "4",
          "3",
          "1",
          "1",
          "1",
          "1",
          "1",
          "1",
          "1",
          "1",
          "1",
          "1",
          "1",
          "0",
          "0",
          "0",
          "0",
          "0",
          "0"
         ],
         "textposition": "outside",
         "type": "bar",
         "x": [
          0.01,
          0.02,
          0.03,
          0.04,
          0.05,
          0.06,
          0.07,
          0.08,
          0.09,
          0.1,
          0.11,
          0.12,
          0.13,
          0.14,
          0.15,
          0.16,
          0.17,
          0.18,
          0.19,
          0.2,
          0.21,
          0.22,
          0.23,
          0.24,
          0.25,
          0.26,
          0.27,
          0.28,
          0.29,
          0.3,
          0.31,
          0.32,
          0.33,
          0.34,
          0.35,
          0.36,
          0.37,
          0.38,
          0.39,
          0.4,
          0.41,
          0.42,
          0.43,
          0.44,
          0.45,
          0.46,
          0.47,
          0.48,
          0.49,
          0.5,
          0.51,
          0.52,
          0.53,
          0.54,
          0.55,
          0.56,
          0.57,
          0.58,
          0.59,
          0.6,
          0.61,
          0.62,
          0.63,
          0.64,
          0.65,
          0.66,
          0.67,
          0.68,
          0.69,
          0.7,
          0.71,
          0.72,
          0.73,
          0.74,
          0.75,
          0.76,
          0.77,
          0.78,
          0.79,
          0.8,
          0.81,
          0.82,
          0.83,
          0.84,
          0.85,
          0.86,
          0.87,
          0.88,
          0.89,
          0.9,
          0.91,
          0.92,
          0.93,
          0.94,
          0.95,
          0.96,
          0.97,
          0.98,
          0.99,
          1
         ],
         "y": [
          276363,
          68934,
          30258,
          16637,
          10313,
          6959,
          4899,
          3624,
          2769,
          2169,
          1731,
          1382,
          1122,
          951,
          766,
          655,
          558,
          474,
          402,
          354,
          309,
          278,
          246,
          216,
          201,
          185,
          164,
          153,
          138,
          120,
          112,
          101,
          90,
          85,
          74,
          61,
          53,
          48,
          44,
          37,
          36,
          32,
          30,
          27,
          23,
          18,
          17,
          16,
          16,
          15,
          14,
          13,
          13,
          13,
          12,
          11,
          11,
          10,
          9,
          9,
          9,
          9,
          9,
          9,
          8,
          8,
          8,
          8,
          6,
          5,
          5,
          5,
          5,
          5,
          5,
          5,
          5,
          4,
          4,
          4,
          4,
          4,
          3,
          1,
          1,
          1,
          1,
          1,
          1,
          1,
          1,
          1,
          1,
          1,
          0,
          0,
          0,
          0,
          0,
          0
         ]
        }
       ],
       "layout": {
        "font": {
         "family": "Arial",
         "size": 14,
         "weight": "bold"
        },
        "paper_bgcolor": "rgba(0, 0, 0, 0)",
        "plot_bgcolor": "rgba(0, 0, 0, 0)",
        "template": {
         "data": {
          "bar": [
           {
            "error_x": {
             "color": "#2a3f5f"
            },
            "error_y": {
             "color": "#2a3f5f"
            },
            "marker": {
             "line": {
              "color": "#E5ECF6",
              "width": 0.5
             },
             "pattern": {
              "fillmode": "overlay",
              "size": 10,
              "solidity": 0.2
             }
            },
            "type": "bar"
           }
          ],
          "barpolar": [
           {
            "marker": {
             "line": {
              "color": "#E5ECF6",
              "width": 0.5
             },
             "pattern": {
              "fillmode": "overlay",
              "size": 10,
              "solidity": 0.2
             }
            },
            "type": "barpolar"
           }
          ],
          "carpet": [
           {
            "aaxis": {
             "endlinecolor": "#2a3f5f",
             "gridcolor": "white",
             "linecolor": "white",
             "minorgridcolor": "white",
             "startlinecolor": "#2a3f5f"
            },
            "baxis": {
             "endlinecolor": "#2a3f5f",
             "gridcolor": "white",
             "linecolor": "white",
             "minorgridcolor": "white",
             "startlinecolor": "#2a3f5f"
            },
            "type": "carpet"
           }
          ],
          "choropleth": [
           {
            "colorbar": {
             "outlinewidth": 0,
             "ticks": ""
            },
            "type": "choropleth"
           }
          ],
          "contour": [
           {
            "colorbar": {
             "outlinewidth": 0,
             "ticks": ""
            },
            "colorscale": [
             [
              0,
              "#0d0887"
             ],
             [
              0.1111111111111111,
              "#46039f"
             ],
             [
              0.2222222222222222,
              "#7201a8"
             ],
             [
              0.3333333333333333,
              "#9c179e"
             ],
             [
              0.4444444444444444,
              "#bd3786"
             ],
             [
              0.5555555555555556,
              "#d8576b"
             ],
             [
              0.6666666666666666,
              "#ed7953"
             ],
             [
              0.7777777777777778,
              "#fb9f3a"
             ],
             [
              0.8888888888888888,
              "#fdca26"
             ],
             [
              1,
              "#f0f921"
             ]
            ],
            "type": "contour"
           }
          ],
          "contourcarpet": [
           {
            "colorbar": {
             "outlinewidth": 0,
             "ticks": ""
            },
            "type": "contourcarpet"
           }
          ],
          "heatmap": [
           {
            "colorbar": {
             "outlinewidth": 0,
             "ticks": ""
            },
            "colorscale": [
             [
              0,
              "#0d0887"
             ],
             [
              0.1111111111111111,
              "#46039f"
             ],
             [
              0.2222222222222222,
              "#7201a8"
             ],
             [
              0.3333333333333333,
              "#9c179e"
             ],
             [
              0.4444444444444444,
              "#bd3786"
             ],
             [
              0.5555555555555556,
              "#d8576b"
             ],
             [
              0.6666666666666666,
              "#ed7953"
             ],
             [
              0.7777777777777778,
              "#fb9f3a"
             ],
             [
              0.8888888888888888,
              "#fdca26"
             ],
             [
              1,
              "#f0f921"
             ]
            ],
            "type": "heatmap"
           }
          ],
          "histogram": [
           {
            "marker": {
             "pattern": {
              "fillmode": "overlay",
              "size": 10,
              "solidity": 0.2
             }
            },
            "type": "histogram"
           }
          ],
          "histogram2d": [
           {
            "colorbar": {
             "outlinewidth": 0,
             "ticks": ""
            },
            "colorscale": [
             [
              0,
              "#0d0887"
             ],
             [
              0.1111111111111111,
              "#46039f"
             ],
             [
              0.2222222222222222,
              "#7201a8"
             ],
             [
              0.3333333333333333,
              "#9c179e"
             ],
             [
              0.4444444444444444,
              "#bd3786"
             ],
             [
              0.5555555555555556,
              "#d8576b"
             ],
             [
              0.6666666666666666,
              "#ed7953"
             ],
             [
              0.7777777777777778,
              "#fb9f3a"
             ],
             [
              0.8888888888888888,
              "#fdca26"
             ],
             [
              1,
              "#f0f921"
             ]
            ],
            "type": "histogram2d"
           }
          ],
          "histogram2dcontour": [
           {
            "colorbar": {
             "outlinewidth": 0,
             "ticks": ""
            },
            "colorscale": [
             [
              0,
              "#0d0887"
             ],
             [
              0.1111111111111111,
              "#46039f"
             ],
             [
              0.2222222222222222,
              "#7201a8"
             ],
             [
              0.3333333333333333,
              "#9c179e"
             ],
             [
              0.4444444444444444,
              "#bd3786"
             ],
             [
              0.5555555555555556,
              "#d8576b"
             ],
             [
              0.6666666666666666,
              "#ed7953"
             ],
             [
              0.7777777777777778,
              "#fb9f3a"
             ],
             [
              0.8888888888888888,
              "#fdca26"
             ],
             [
              1,
              "#f0f921"
             ]
            ],
            "type": "histogram2dcontour"
           }
          ],
          "mesh3d": [
           {
            "colorbar": {
             "outlinewidth": 0,
             "ticks": ""
            },
            "type": "mesh3d"
           }
          ],
          "parcoords": [
           {
            "line": {
             "colorbar": {
              "outlinewidth": 0,
              "ticks": ""
             }
            },
            "type": "parcoords"
           }
          ],
          "pie": [
           {
            "automargin": true,
            "type": "pie"
           }
          ],
          "scatter": [
           {
            "fillpattern": {
             "fillmode": "overlay",
             "size": 10,
             "solidity": 0.2
            },
            "type": "scatter"
           }
          ],
          "scatter3d": [
           {
            "line": {
             "colorbar": {
              "outlinewidth": 0,
              "ticks": ""
             }
            },
            "marker": {
             "colorbar": {
              "outlinewidth": 0,
              "ticks": ""
             }
            },
            "type": "scatter3d"
           }
          ],
          "scattercarpet": [
           {
            "marker": {
             "colorbar": {
              "outlinewidth": 0,
              "ticks": ""
             }
            },
            "type": "scattercarpet"
           }
          ],
          "scattergeo": [
           {
            "marker": {
             "colorbar": {
              "outlinewidth": 0,
              "ticks": ""
             }
            },
            "type": "scattergeo"
           }
          ],
          "scattergl": [
           {
            "marker": {
             "colorbar": {
              "outlinewidth": 0,
              "ticks": ""
             }
            },
            "type": "scattergl"
           }
          ],
          "scattermap": [
           {
            "marker": {
             "colorbar": {
              "outlinewidth": 0,
              "ticks": ""
             }
            },
            "type": "scattermap"
           }
          ],
          "scattermapbox": [
           {
            "marker": {
             "colorbar": {
              "outlinewidth": 0,
              "ticks": ""
             }
            },
            "type": "scattermapbox"
           }
          ],
          "scatterpolar": [
           {
            "marker": {
             "colorbar": {
              "outlinewidth": 0,
              "ticks": ""
             }
            },
            "type": "scatterpolar"
           }
          ],
          "scatterpolargl": [
           {
            "marker": {
             "colorbar": {
              "outlinewidth": 0,
              "ticks": ""
             }
            },
            "type": "scatterpolargl"
           }
          ],
          "scatterternary": [
           {
            "marker": {
             "colorbar": {
              "outlinewidth": 0,
              "ticks": ""
             }
            },
            "type": "scatterternary"
           }
          ],
          "surface": [
           {
            "colorbar": {
             "outlinewidth": 0,
             "ticks": ""
            },
            "colorscale": [
             [
              0,
              "#0d0887"
             ],
             [
              0.1111111111111111,
              "#46039f"
             ],
             [
              0.2222222222222222,
              "#7201a8"
             ],
             [
              0.3333333333333333,
              "#9c179e"
             ],
             [
              0.4444444444444444,
              "#bd3786"
             ],
             [
              0.5555555555555556,
              "#d8576b"
             ],
             [
              0.6666666666666666,
              "#ed7953"
             ],
             [
              0.7777777777777778,
              "#fb9f3a"
             ],
             [
              0.8888888888888888,
              "#fdca26"
             ],
             [
              1,
              "#f0f921"
             ]
            ],
            "type": "surface"
           }
          ],
          "table": [
           {
            "cells": {
             "fill": {
              "color": "#EBF0F8"
             },
             "line": {
              "color": "white"
             }
            },
            "header": {
             "fill": {
              "color": "#C8D4E3"
             },
             "line": {
              "color": "white"
             }
            },
            "type": "table"
           }
          ]
         },
         "layout": {
          "annotationdefaults": {
           "arrowcolor": "#2a3f5f",
           "arrowhead": 0,
           "arrowwidth": 1
          },
          "autotypenumbers": "strict",
          "coloraxis": {
           "colorbar": {
            "outlinewidth": 0,
            "ticks": ""
           }
          },
          "colorscale": {
           "diverging": [
            [
             0,
             "#8e0152"
            ],
            [
             0.1,
             "#c51b7d"
            ],
            [
             0.2,
             "#de77ae"
            ],
            [
             0.3,
             "#f1b6da"
            ],
            [
             0.4,
             "#fde0ef"
            ],
            [
             0.5,
             "#f7f7f7"
            ],
            [
             0.6,
             "#e6f5d0"
            ],
            [
             0.7,
             "#b8e186"
            ],
            [
             0.8,
             "#7fbc41"
            ],
            [
             0.9,
             "#4d9221"
            ],
            [
             1,
             "#276419"
            ]
           ],
           "sequential": [
            [
             0,
             "#0d0887"
            ],
            [
             0.1111111111111111,
             "#46039f"
            ],
            [
             0.2222222222222222,
             "#7201a8"
            ],
            [
             0.3333333333333333,
             "#9c179e"
            ],
            [
             0.4444444444444444,
             "#bd3786"
            ],
            [
             0.5555555555555556,
             "#d8576b"
            ],
            [
             0.6666666666666666,
             "#ed7953"
            ],
            [
             0.7777777777777778,
             "#fb9f3a"
            ],
            [
             0.8888888888888888,
             "#fdca26"
            ],
            [
             1,
             "#f0f921"
            ]
           ],
           "sequentialminus": [
            [
             0,
             "#0d0887"
            ],
            [
             0.1111111111111111,
             "#46039f"
            ],
            [
             0.2222222222222222,
             "#7201a8"
            ],
            [
             0.3333333333333333,
             "#9c179e"
            ],
            [
             0.4444444444444444,
             "#bd3786"
            ],
            [
             0.5555555555555556,
             "#d8576b"
            ],
            [
             0.6666666666666666,
             "#ed7953"
            ],
            [
             0.7777777777777778,
             "#fb9f3a"
            ],
            [
             0.8888888888888888,
             "#fdca26"
            ],
            [
             1,
             "#f0f921"
            ]
           ]
          },
          "colorway": [
           "#636efa",
           "#EF553B",
           "#00cc96",
           "#ab63fa",
           "#FFA15A",
           "#19d3f3",
           "#FF6692",
           "#B6E880",
           "#FF97FF",
           "#FECB52"
          ],
          "font": {
           "color": "#2a3f5f"
          },
          "geo": {
           "bgcolor": "white",
           "lakecolor": "white",
           "landcolor": "#E5ECF6",
           "showlakes": true,
           "showland": true,
           "subunitcolor": "white"
          },
          "hoverlabel": {
           "align": "left"
          },
          "hovermode": "closest",
          "mapbox": {
           "style": "light"
          },
          "paper_bgcolor": "white",
          "plot_bgcolor": "#E5ECF6",
          "polar": {
           "angularaxis": {
            "gridcolor": "white",
            "linecolor": "white",
            "ticks": ""
           },
           "bgcolor": "#E5ECF6",
           "radialaxis": {
            "gridcolor": "white",
            "linecolor": "white",
            "ticks": ""
           }
          },
          "scene": {
           "xaxis": {
            "backgroundcolor": "#E5ECF6",
            "gridcolor": "white",
            "gridwidth": 2,
            "linecolor": "white",
            "showbackground": true,
            "ticks": "",
            "zerolinecolor": "white"
           },
           "yaxis": {
            "backgroundcolor": "#E5ECF6",
            "gridcolor": "white",
            "gridwidth": 2,
            "linecolor": "white",
            "showbackground": true,
            "ticks": "",
            "zerolinecolor": "white"
           },
           "zaxis": {
            "backgroundcolor": "#E5ECF6",
            "gridcolor": "white",
            "gridwidth": 2,
            "linecolor": "white",
            "showbackground": true,
            "ticks": "",
            "zerolinecolor": "white"
           }
          },
          "shapedefaults": {
           "line": {
            "color": "#2a3f5f"
           }
          },
          "ternary": {
           "aaxis": {
            "gridcolor": "white",
            "linecolor": "white",
            "ticks": ""
           },
           "baxis": {
            "gridcolor": "white",
            "linecolor": "white",
            "ticks": ""
           },
           "bgcolor": "#E5ECF6",
           "caxis": {
            "gridcolor": "white",
            "linecolor": "white",
            "ticks": ""
           }
          },
          "title": {
           "x": 0.05
          },
          "xaxis": {
           "automargin": true,
           "gridcolor": "white",
           "linecolor": "white",
           "ticks": "",
           "title": {
            "standoff": 15
           },
           "zerolinecolor": "white",
           "zerolinewidth": 2
          },
          "yaxis": {
           "automargin": true,
           "gridcolor": "white",
           "linecolor": "white",
           "ticks": "",
           "title": {
            "standoff": 15
           },
           "zerolinecolor": "white",
           "zerolinewidth": 2
          }
         }
        },
        "title": {
         "text": "Number of Itemsets per Minimum Support"
        },
        "xaxis": {
         "title": {
          "text": "Minimum support"
         }
        },
        "yaxis": {
         "showticklabels": true,
         "tickformat": ",",
         "title": {
          "text": "Number of itemsets"
         },
         "type": "log"
        }
       }
      }
     },
     "metadata": {},
     "output_type": "display_data"
    },
    {
     "data": {
      "application/vnd.plotly.v1+json": {
       "config": {
        "plotlyServerURL": "https://plot.ly"
       },
       "data": [
        {
         "marker": {
          "color": "royalblue"
         },
         "opacity": 0.85,
         "text": [
          "99",
          "1875",
          "12504",
          "40677",
          "72696",
          "75785",
          "47784",
          "18795",
          "4960",
          "1002",
          "166",
          "19",
          "1"
         ],
         "textposition": "outside",
         "type": "bar",
         "x": {
          "bdata": "AQIDBAUGBwgJCgsMDQ==",
          "dtype": "i1"
         },
         "y": {
          "bdata": "YwAAAFMHAADYMAAA5Z4AAPgbAQAJKAEAqLoAAGtJAABgEwAA6gMAAKYAAAATAAAAAQAAAA==",
          "dtype": "i4"
         }
        }
       ],
       "layout": {
        "font": {
         "family": "Arial",
         "size": 14,
         "weight": "bold"
        },
        "paper_bgcolor": "rgba(0, 0, 0, 0)",
        "plot_bgcolor": "rgba(0, 0, 0, 0)",
        "template": {
         "data": {
          "bar": [
           {
            "error_x": {
             "color": "#2a3f5f"
            },
            "error_y": {
             "color": "#2a3f5f"
            },
            "marker": {
             "line": {
              "color": "#E5ECF6",
              "width": 0.5
             },
             "pattern": {
              "fillmode": "overlay",
              "size": 10,
              "solidity": 0.2
             }
            },
            "type": "bar"
           }
          ],
          "barpolar": [
           {
            "marker": {
             "line": {
              "color": "#E5ECF6",
              "width": 0.5
             },
             "pattern": {
              "fillmode": "overlay",
              "size": 10,
              "solidity": 0.2
             }
            },
            "type": "barpolar"
           }
          ],
          "carpet": [
           {
            "aaxis": {
             "endlinecolor": "#2a3f5f",
             "gridcolor": "white",
             "linecolor": "white",
             "minorgridcolor": "white",
             "startlinecolor": "#2a3f5f"
            },
            "baxis": {
             "endlinecolor": "#2a3f5f",
             "gridcolor": "white",
             "linecolor": "white",
             "minorgridcolor": "white",
             "startlinecolor": "#2a3f5f"
            },
            "type": "carpet"
           }
          ],
          "choropleth": [
           {
            "colorbar": {
             "outlinewidth": 0,
             "ticks": ""
            },
            "type": "choropleth"
           }
          ],
          "contour": [
           {
            "colorbar": {
             "outlinewidth": 0,
             "ticks": ""
            },
            "colorscale": [
             [
              0,
              "#0d0887"
             ],
             [
              0.1111111111111111,
              "#46039f"
             ],
             [
              0.2222222222222222,
              "#7201a8"
             ],
             [
              0.3333333333333333,
              "#9c179e"
             ],
             [
              0.4444444444444444,
              "#bd3786"
             ],
             [
              0.5555555555555556,
              "#d8576b"
             ],
             [
              0.6666666666666666,
              "#ed7953"
             ],
             [
              0.7777777777777778,
              "#fb9f3a"
             ],
             [
              0.8888888888888888,
              "#fdca26"
             ],
             [
              1,
              "#f0f921"
             ]
            ],
            "type": "contour"
           }
          ],
          "contourcarpet": [
           {
            "colorbar": {
             "outlinewidth": 0,
             "ticks": ""
            },
            "type": "contourcarpet"
           }
          ],
          "heatmap": [
           {
            "colorbar": {
             "outlinewidth": 0,
             "ticks": ""
            },
            "colorscale": [
             [
              0,
              "#0d0887"
             ],
             [
              0.1111111111111111,
              "#46039f"
             ],
             [
              0.2222222222222222,
              "#7201a8"
             ],
             [
              0.3333333333333333,
              "#9c179e"
             ],
             [
              0.4444444444444444,
              "#bd3786"
             ],
             [
              0.5555555555555556,
              "#d8576b"
             ],
             [
              0.6666666666666666,
              "#ed7953"
             ],
             [
              0.7777777777777778,
              "#fb9f3a"
             ],
             [
              0.8888888888888888,
              "#fdca26"
             ],
             [
              1,
              "#f0f921"
             ]
            ],
            "type": "heatmap"
           }
          ],
          "histogram": [
           {
            "marker": {
             "pattern": {
              "fillmode": "overlay",
              "size": 10,
              "solidity": 0.2
             }
            },
            "type": "histogram"
           }
          ],
          "histogram2d": [
           {
            "colorbar": {
             "outlinewidth": 0,
             "ticks": ""
            },
            "colorscale": [
             [
              0,
              "#0d0887"
             ],
             [
              0.1111111111111111,
              "#46039f"
             ],
             [
              0.2222222222222222,
              "#7201a8"
             ],
             [
              0.3333333333333333,
              "#9c179e"
             ],
             [
              0.4444444444444444,
              "#bd3786"
             ],
             [
              0.5555555555555556,
              "#d8576b"
             ],
             [
              0.6666666666666666,
              "#ed7953"
             ],
             [
              0.7777777777777778,
              "#fb9f3a"
             ],
             [
              0.8888888888888888,
              "#fdca26"
             ],
             [
              1,
              "#f0f921"
             ]
            ],
            "type": "histogram2d"
           }
          ],
          "histogram2dcontour": [
           {
            "colorbar": {
             "outlinewidth": 0,
             "ticks": ""
            },
            "colorscale": [
             [
              0,
              "#0d0887"
             ],
             [
              0.1111111111111111,
              "#46039f"
             ],
             [
              0.2222222222222222,
              "#7201a8"
             ],
             [
              0.3333333333333333,
              "#9c179e"
             ],
             [
              0.4444444444444444,
              "#bd3786"
             ],
             [
              0.5555555555555556,
              "#d8576b"
             ],
             [
              0.6666666666666666,
              "#ed7953"
             ],
             [
              0.7777777777777778,
              "#fb9f3a"
             ],
             [
              0.8888888888888888,
              "#fdca26"
             ],
             [
              1,
              "#f0f921"
             ]
            ],
            "type": "histogram2dcontour"
           }
          ],
          "mesh3d": [
           {
            "colorbar": {
             "outlinewidth": 0,
             "ticks": ""
            },
            "type": "mesh3d"
           }
          ],
          "parcoords": [
           {
            "line": {
             "colorbar": {
              "outlinewidth": 0,
              "ticks": ""
             }
            },
            "type": "parcoords"
           }
          ],
          "pie": [
           {
            "automargin": true,
            "type": "pie"
           }
          ],
          "scatter": [
           {
            "fillpattern": {
             "fillmode": "overlay",
             "size": 10,
             "solidity": 0.2
            },
            "type": "scatter"
           }
          ],
          "scatter3d": [
           {
            "line": {
             "colorbar": {
              "outlinewidth": 0,
              "ticks": ""
             }
            },
            "marker": {
             "colorbar": {
              "outlinewidth": 0,
              "ticks": ""
             }
            },
            "type": "scatter3d"
           }
          ],
          "scattercarpet": [
           {
            "marker": {
             "colorbar": {
              "outlinewidth": 0,
              "ticks": ""
             }
            },
            "type": "scattercarpet"
           }
          ],
          "scattergeo": [
           {
            "marker": {
             "colorbar": {
              "outlinewidth": 0,
              "ticks": ""
             }
            },
            "type": "scattergeo"
           }
          ],
          "scattergl": [
           {
            "marker": {
             "colorbar": {
              "outlinewidth": 0,
              "ticks": ""
             }
            },
            "type": "scattergl"
           }
          ],
          "scattermap": [
           {
            "marker": {
             "colorbar": {
              "outlinewidth": 0,
              "ticks": ""
             }
            },
            "type": "scattermap"
           }
          ],
          "scattermapbox": [
           {
            "marker": {
             "colorbar": {
              "outlinewidth": 0,
              "ticks": ""
             }
            },
            "type": "scattermapbox"
           }
          ],
          "scatterpolar": [
           {
            "marker": {
             "colorbar": {
              "outlinewidth": 0,
              "ticks": ""
             }
            },
            "type": "scatterpolar"
           }
          ],
          "scatterpolargl": [
           {
            "marker": {
             "colorbar": {
              "outlinewidth": 0,
              "ticks": ""
             }
            },
            "type": "scatterpolargl"
           }
          ],
          "scatterternary": [
           {
            "marker": {
             "colorbar": {
              "outlinewidth": 0,
              "ticks": ""
             }
            },
            "type": "scatterternary"
           }
          ],
          "surface": [
           {
            "colorbar": {
             "outlinewidth": 0,
             "ticks": ""
            },
            "colorscale": [
             [
              0,
              "#0d0887"
             ],
             [
              0.1111111111111111,
              "#46039f"
             ],
             [
              0.2222222222222222,
              "#7201a8"
             ],
             [
              0.3333333333333333,
              "#9c179e"
             ],
             [
              0.4444444444444444,
              "#bd3786"
             ],
             [
              0.5555555555555556,
              "#d8576b"
             ],
             [
              0.6666666666666666,
              "#ed7953"
             ],
             [
              0.7777777777777778,
              "#fb9f3a"
             ],
             [
              0.8888888888888888,
              "#fdca26"
             ],
             [
              1,
              "#f0f921"
             ]
            ],
            "type": "surface"
           }
          ],
          "table": [
           {
            "cells": {
             "fill": {
              "color": "#EBF0F8"
             },
             "line": {
              "color": "white"
             }
            },
            "header": {
             "fill": {
              "color": "#C8D4E3"
             },
             "line": {
              "color": "white"
             }
            },
            "type": "table"
           }
          ]
         },
         "layout": {
          "annotationdefaults": {
           "arrowcolor": "#2a3f5f",
           "arrowhead": 0,
           "arrowwidth": 1
          },
          "autotypenumbers": "strict",
          "coloraxis": {
           "colorbar": {
            "outlinewidth": 0,
            "ticks": ""
           }
          },
          "colorscale": {
           "diverging": [
            [
             0,
             "#8e0152"
            ],
            [
             0.1,
             "#c51b7d"
            ],
            [
             0.2,
             "#de77ae"
            ],
            [
             0.3,
             "#f1b6da"
            ],
            [
             0.4,
             "#fde0ef"
            ],
            [
             0.5,
             "#f7f7f7"
            ],
            [
             0.6,
             "#e6f5d0"
            ],
            [
             0.7,
             "#b8e186"
            ],
            [
             0.8,
             "#7fbc41"
            ],
            [
             0.9,
             "#4d9221"
            ],
            [
             1,
             "#276419"
            ]
           ],
           "sequential": [
            [
             0,
             "#0d0887"
            ],
            [
             0.1111111111111111,
             "#46039f"
            ],
            [
             0.2222222222222222,
             "#7201a8"
            ],
            [
             0.3333333333333333,
             "#9c179e"
            ],
            [
             0.4444444444444444,
             "#bd3786"
            ],
            [
             0.5555555555555556,
             "#d8576b"
            ],
            [
             0.6666666666666666,
             "#ed7953"
            ],
            [
             0.7777777777777778,
             "#fb9f3a"
            ],
            [
             0.8888888888888888,
             "#fdca26"
            ],
            [
             1,
             "#f0f921"
            ]
           ],
           "sequentialminus": [
            [
             0,
             "#0d0887"
            ],
            [
             0.1111111111111111,
             "#46039f"
            ],
            [
             0.2222222222222222,
             "#7201a8"
            ],
            [
             0.3333333333333333,
             "#9c179e"
            ],
            [
             0.4444444444444444,
             "#bd3786"
            ],
            [
             0.5555555555555556,
             "#d8576b"
            ],
            [
             0.6666666666666666,
             "#ed7953"
            ],
            [
             0.7777777777777778,
             "#fb9f3a"
            ],
            [
             0.8888888888888888,
             "#fdca26"
            ],
            [
             1,
             "#f0f921"
            ]
           ]
          },
          "colorway": [
           "#636efa",
           "#EF553B",
           "#00cc96",
           "#ab63fa",
           "#FFA15A",
           "#19d3f3",
           "#FF6692",
           "#B6E880",
           "#FF97FF",
           "#FECB52"
          ],
          "font": {
           "color": "#2a3f5f"
          },
          "geo": {
           "bgcolor": "white",
           "lakecolor": "white",
           "landcolor": "#E5ECF6",
           "showlakes": true,
           "showland": true,
           "subunitcolor": "white"
          },
          "hoverlabel": {
           "align": "left"
          },
          "hovermode": "closest",
          "mapbox": {
           "style": "light"
          },
          "paper_bgcolor": "white",
          "plot_bgcolor": "#E5ECF6",
          "polar": {
           "angularaxis": {
            "gridcolor": "white",
            "linecolor": "white",
            "ticks": ""
           },
           "bgcolor": "#E5ECF6",
           "radialaxis": {
            "gridcolor": "white",
            "linecolor": "white",
            "ticks": ""
           }
          },
          "scene": {
           "xaxis": {
            "backgroundcolor": "#E5ECF6",
            "gridcolor": "white",
            "gridwidth": 2,
            "linecolor": "white",
            "showbackground": true,
            "ticks": "",
            "zerolinecolor": "white"
           },
           "yaxis": {
            "backgroundcolor": "#E5ECF6",
            "gridcolor": "white",
            "gridwidth": 2,
            "linecolor": "white",
            "showbackground": true,
            "ticks": "",
            "zerolinecolor": "white"
           },
           "zaxis": {
            "backgroundcolor": "#E5ECF6",
            "gridcolor": "white",
            "gridwidth": 2,
            "linecolor": "white",
            "showbackground": true,
            "ticks": "",
            "zerolinecolor": "white"
           }
          },
          "shapedefaults": {
           "line": {
            "color": "#2a3f5f"
           }
          },
          "ternary": {
           "aaxis": {
            "gridcolor": "white",
            "linecolor": "white",
            "ticks": ""
           },
           "baxis": {
            "gridcolor": "white",
            "linecolor": "white",
            "ticks": ""
           },
           "bgcolor": "#E5ECF6",
           "caxis": {
            "gridcolor": "white",
            "linecolor": "white",
            "ticks": ""
           }
          },
          "title": {
           "x": 0.05
          },
          "xaxis": {
           "automargin": true,
           "gridcolor": "white",
           "linecolor": "white",
           "ticks": "",
           "title": {
            "standoff": 15
           },
           "zerolinecolor": "white",
           "zerolinewidth": 2
          },
          "yaxis": {
           "automargin": true,
           "gridcolor": "white",
           "linecolor": "white",
           "ticks": "",
           "title": {
            "standoff": 15
           },
           "zerolinecolor": "white",
           "zerolinewidth": 2
          }
         }
        },
        "title": {
         "text": "Number of Itemsets by Item Count"
        },
        "uniformtext": {
         "minsize": 10,
         "mode": "show"
        },
        "xaxis": {
         "dtick": 1,
         "tick0": 1,
         "tickmode": "linear",
         "title": {
          "text": "Number of items in itemset"
         }
        },
        "yaxis": {
         "showticklabels": false,
         "tickformat": ",",
         "title": {
          "text": "Number of itemsets"
         },
         "type": "log"
        }
       }
      }
     },
     "metadata": {},
     "output_type": "display_data"
    }
   ],
   "source": [
    "# calculate frequent item sets\n",
    "fp_algorithm = apriori  # frequent itemsets algorithm\n",
    "interval = 1\n",
    "support_values = [s / 100.0 for s in range(interval, 100 + interval, interval)]\n",
    "\n",
    "print(f\"Obtendo itemsets frequentes com {fp_algorithm.__name__}...\")\n",
    "if os.path.exists(f\"./utils/frequent_itemsets_{interval}.pkl\"):\n",
    "    frequent_itemsets = pickle.load(open(f\"./utils/frequent_itemsets_{interval}.pkl\", \"rb\"))\n",
    "else:\n",
    "    min_support = min(support_values)\n",
    "    frequent_itemsets = (\n",
    "        fp_algorithm(train_df_binary, min_support=min_support, use_colnames=True, low_memory=True)\n",
    "        if fp_algorithm is apriori\n",
    "        else fp_algorithm(train_df_binary, min_support=min_support, use_colnames=True)\n",
    "    )\n",
    "    pickle.dump(frequent_itemsets, open(f\"./utils/frequent_itemsets_{interval}.pkl\", \"wb\"))\n",
    "\n",
    "frequent_counts = [(frequent_itemsets[\"support\"] >= s).sum() for s in support_values]\n",
    "fig = go.Figure(\n",
    "    data=[\n",
    "        go.Bar(\n",
    "            x=support_values,\n",
    "            y=frequent_counts,\n",
    "            text=[str(fc) for fc in frequent_counts],\n",
    "            textposition=\"outside\",\n",
    "            marker_color=\"crimson\",\n",
    "            opacity=0.8,\n",
    "        )\n",
    "    ]\n",
    ")\n",
    "fig.update_layout(\n",
    "    title=\"Number of Itemsets per Minimum Support\",\n",
    "    xaxis_title=\"Minimum support\",\n",
    "    yaxis_title=\"Number of itemsets\",\n",
    "    yaxis_type=\"log\",\n",
    "    template=\"plotly\",\n",
    "    font=dict(\n",
    "        family=\"Arial\",\n",
    "        size=14,\n",
    "        # color=\"white\",\n",
    "        weight=\"bold\",\n",
    "    ),\n",
    "    yaxis=dict(showticklabels=True, tickformat=\",\"),\n",
    "    paper_bgcolor=\"rgba(0, 0, 0, 0)\",\n",
    "    plot_bgcolor=\"rgba(0, 0, 0, 0)\",\n",
    ")\n",
    "fig.show()\n",
    "\n",
    "itemset_lengths = frequent_itemsets[\"itemsets\"].apply(lambda x: len(x))\n",
    "length_counts = itemset_lengths.value_counts().sort_index()\n",
    "fig = go.Figure(\n",
    "    data=[\n",
    "        go.Bar(\n",
    "            x=length_counts.index,\n",
    "            y=length_counts.values,\n",
    "            text=[str(v) for v in length_counts.values],\n",
    "            textposition=\"outside\",\n",
    "            marker_color=\"royalblue\",\n",
    "            opacity=0.85,\n",
    "        )\n",
    "    ]\n",
    ")\n",
    "fig.update_layout(\n",
    "    title=\"Number of Itemsets by Item Count\",\n",
    "    xaxis_title=\"Number of items in itemset\",\n",
    "    yaxis_title=\"Number of itemsets\",\n",
    "    yaxis_type=\"log\",\n",
    "    template=\"plotly\",\n",
    "    font=dict(\n",
    "        family=\"Arial\",\n",
    "        size=14,\n",
    "        # color=\"white\",\n",
    "        weight=\"bold\",\n",
    "    ),\n",
    "    uniformtext_minsize=10,\n",
    "    uniformtext_mode=\"show\",\n",
    "    xaxis=dict(tickmode=\"linear\", tick0=1, dtick=1),\n",
    "    yaxis=dict(showticklabels=False, tickformat=\",\"),\n",
    "    paper_bgcolor=\"rgba(0, 0, 0, 0)\",\n",
    "    plot_bgcolor=\"rgba(0, 0, 0, 0)\",\n",
    ")\n",
    "fig.show()"
   ]
  },
  {
   "cell_type": "markdown",
   "id": "ffd13298",
   "metadata": {},
   "source": [
    "### Minerando regras"
   ]
  },
  {
   "cell_type": "markdown",
   "id": "461d222e",
   "metadata": {},
   "source": [
    "Observando os *itemsets* com suporte mínimo $> 0.50$, verificamos as classes de atributos mais frequentes no dataset. Iremos filtrar esses items dos consequentes na mineração de regras de associação, com exceção de *itemsets* do atrbuto *target*. "
   ]
  },
  {
   "cell_type": "code",
   "execution_count": 7,
   "id": "7c916d17",
   "metadata": {},
   "outputs": [
    {
     "data": {
      "text/plain": [
       "['does-bruise-or-bleed: no',\n",
       " 'ring-type: none',\n",
       " 'habitat: woods',\n",
       " 'veil-type: partial']"
      ]
     },
     "execution_count": 7,
     "metadata": {},
     "output_type": "execute_result"
    }
   ],
   "source": [
    "exclude_itemsets = (\n",
    "    frequent_itemsets[(frequent_itemsets[\"support\"] > 0.5) & (frequent_itemsets[\"itemsets\"].apply(len) == 1)][\"itemsets\"]\n",
    "    .apply(lambda x: next(iter(x)))\n",
    "    .tolist()\n",
    ")\n",
    "exclude_itemsets = [i for i in exclude_itemsets if i not in target_itemsets]\n",
    "\n",
    "exclude_itemsets"
   ]
  },
  {
   "cell_type": "markdown",
   "id": "352f35b1",
   "metadata": {},
   "source": [
    "Com os *itemsets* obtidos pelo algoritmo, junto aos seus suportes mínimos, criamos suas regras de associação e calculamos os valores para suporte, confiança, *lift* e *conviction*.  \n",
    "\n",
    "Inicialmente, utilizamos os sequintes parâmetros para minerar as regras de associação:\n",
    "\n",
    "`rule_support` $\\geq 0.05$\n",
    "\n",
    "`rule_confidence` $\\geq 0.70$\n",
    "\n",
    "`rule_lift` $\\geq 1.00$\n",
    "\n",
    "`rule_conviction` $\\geq 1.00$"
   ]
  },
  {
   "cell_type": "code",
   "execution_count": 8,
   "id": "91ff7126",
   "metadata": {},
   "outputs": [
    {
     "name": "stdout",
     "output_type": "stream",
     "text": [
      "Número de regras de associação (ordenadas por 'lift'): 66566\n",
      "Regras agrupadas por 'consequents' (número de grupos): 1460\n"
     ]
    },
    {
     "data": {
      "text/html": [
       "<div>\n",
       "<style scoped>\n",
       "    .dataframe tbody tr th:only-of-type {\n",
       "        vertical-align: middle;\n",
       "    }\n",
       "\n",
       "    .dataframe tbody tr th {\n",
       "        vertical-align: top;\n",
       "    }\n",
       "\n",
       "    .dataframe thead th {\n",
       "        text-align: right;\n",
       "    }\n",
       "</style>\n",
       "<table border=\"1\" class=\"dataframe\">\n",
       "  <thead>\n",
       "    <tr style=\"text-align: right;\">\n",
       "      <th></th>\n",
       "      <th>antecedents</th>\n",
       "      <th>consequents</th>\n",
       "      <th>antecedent support</th>\n",
       "      <th>consequent support</th>\n",
       "      <th>support</th>\n",
       "      <th>confidence</th>\n",
       "      <th>lift</th>\n",
       "      <th>conviction</th>\n",
       "    </tr>\n",
       "  </thead>\n",
       "  <tbody>\n",
       "    <tr>\n",
       "      <th>0</th>\n",
       "      <td>(gill-attachment: free, gill-spacing: close, target: edible, cap-color: white)</td>\n",
       "      <td>(ring-type: evanescent, stem-width: small, stem-color: white)</td>\n",
       "      <td>0.011</td>\n",
       "      <td>0.015</td>\n",
       "      <td>0.010</td>\n",
       "      <td>0.953</td>\n",
       "      <td>65.673</td>\n",
       "      <td>21.177</td>\n",
       "    </tr>\n",
       "    <tr>\n",
       "      <th>1</th>\n",
       "      <td>(ring-type: evanescent, stem-color: white, target: edible)</td>\n",
       "      <td>(gill-attachment: free, stem-width: small, gill-spacing: close, cap-color: white)</td>\n",
       "      <td>0.011</td>\n",
       "      <td>0.016</td>\n",
       "      <td>0.010</td>\n",
       "      <td>0.928</td>\n",
       "      <td>59.264</td>\n",
       "      <td>13.720</td>\n",
       "    </tr>\n",
       "    <tr>\n",
       "      <th>2</th>\n",
       "      <td>(cap-surface: scaly, stem-width: tiny, gill-attachment: none)</td>\n",
       "      <td>(cap-color: brown, cap-diameter: tiny, cap-shape: bell, stem-height: medium, gill-spacing: close, stem-color: white)</td>\n",
       "      <td>0.017</td>\n",
       "      <td>0.012</td>\n",
       "      <td>0.012</td>\n",
       "      <td>0.726</td>\n",
       "      <td>59.112</td>\n",
       "      <td>3.603</td>\n",
       "    </tr>\n",
       "    <tr>\n",
       "      <th>3</th>\n",
       "      <td>(cap-color: brown, cap-diameter: tiny, cap-shape: bell, stem-height: medium, gill-spacing: close, stem-color: white)</td>\n",
       "      <td>(cap-surface: scaly, stem-width: tiny, gill-attachment: none)</td>\n",
       "      <td>0.012</td>\n",
       "      <td>0.017</td>\n",
       "      <td>0.012</td>\n",
       "      <td>0.986</td>\n",
       "      <td>59.112</td>\n",
       "      <td>71.550</td>\n",
       "    </tr>\n",
       "    <tr>\n",
       "      <th>4</th>\n",
       "      <td>(cap-color: brown, cap-shape: bell, stem-height: medium, gill-spacing: close, stem-width: tiny, stem-color: white)</td>\n",
       "      <td>(cap-surface: scaly, cap-diameter: tiny, gill-attachment: none)</td>\n",
       "      <td>0.013</td>\n",
       "      <td>0.016</td>\n",
       "      <td>0.012</td>\n",
       "      <td>0.944</td>\n",
       "      <td>58.826</td>\n",
       "      <td>17.455</td>\n",
       "    </tr>\n",
       "    <tr>\n",
       "      <th>5</th>\n",
       "      <td>(cap-surface: scaly, cap-diameter: tiny, gill-attachment: none)</td>\n",
       "      <td>(cap-color: brown, cap-shape: bell, stem-height: medium, gill-spacing: close, stem-width: tiny, stem-color: white)</td>\n",
       "      <td>0.016</td>\n",
       "      <td>0.013</td>\n",
       "      <td>0.012</td>\n",
       "      <td>0.755</td>\n",
       "      <td>58.826</td>\n",
       "      <td>4.029</td>\n",
       "    </tr>\n",
       "    <tr>\n",
       "      <th>6</th>\n",
       "      <td>(cap-color: brown, cap-shape: bell, stem-height: medium, gill-spacing: close, stem-color: white)</td>\n",
       "      <td>(cap-surface: scaly, stem-width: tiny, gill-attachment: none)</td>\n",
       "      <td>0.013</td>\n",
       "      <td>0.017</td>\n",
       "      <td>0.013</td>\n",
       "      <td>0.981</td>\n",
       "      <td>58.810</td>\n",
       "      <td>52.352</td>\n",
       "    </tr>\n",
       "    <tr>\n",
       "      <th>7</th>\n",
       "      <td>(cap-surface: scaly, stem-width: tiny, gill-attachment: none)</td>\n",
       "      <td>(cap-color: brown, cap-shape: bell, stem-height: medium, gill-spacing: close, stem-color: white)</td>\n",
       "      <td>0.017</td>\n",
       "      <td>0.013</td>\n",
       "      <td>0.013</td>\n",
       "      <td>0.759</td>\n",
       "      <td>58.810</td>\n",
       "      <td>4.103</td>\n",
       "    </tr>\n",
       "    <tr>\n",
       "      <th>8</th>\n",
       "      <td>(cap-surface: scaly, stem-width: tiny, cap-diameter: tiny, gill-attachment: none)</td>\n",
       "      <td>(cap-color: brown, cap-shape: bell, stem-height: medium, gill-spacing: close, stem-color: white)</td>\n",
       "      <td>0.016</td>\n",
       "      <td>0.013</td>\n",
       "      <td>0.012</td>\n",
       "      <td>0.758</td>\n",
       "      <td>58.687</td>\n",
       "      <td>4.076</td>\n",
       "    </tr>\n",
       "    <tr>\n",
       "      <th>9</th>\n",
       "      <td>(cap-color: brown, cap-shape: bell, stem-height: medium, gill-spacing: close, stem-color: white)</td>\n",
       "      <td>(cap-surface: scaly, stem-width: tiny, cap-diameter: tiny, gill-attachment: none)</td>\n",
       "      <td>0.013</td>\n",
       "      <td>0.016</td>\n",
       "      <td>0.012</td>\n",
       "      <td>0.938</td>\n",
       "      <td>58.687</td>\n",
       "      <td>15.830</td>\n",
       "    </tr>\n",
       "  </tbody>\n",
       "</table>\n",
       "</div>"
      ],
      "text/plain": [
       "                                                                                                            antecedents  \\\n",
       "0                                        (gill-attachment: free, gill-spacing: close, target: edible, cap-color: white)   \n",
       "1                                                            (ring-type: evanescent, stem-color: white, target: edible)   \n",
       "2                                                         (cap-surface: scaly, stem-width: tiny, gill-attachment: none)   \n",
       "3  (cap-color: brown, cap-diameter: tiny, cap-shape: bell, stem-height: medium, gill-spacing: close, stem-color: white)   \n",
       "4    (cap-color: brown, cap-shape: bell, stem-height: medium, gill-spacing: close, stem-width: tiny, stem-color: white)   \n",
       "5                                                       (cap-surface: scaly, cap-diameter: tiny, gill-attachment: none)   \n",
       "6                      (cap-color: brown, cap-shape: bell, stem-height: medium, gill-spacing: close, stem-color: white)   \n",
       "7                                                         (cap-surface: scaly, stem-width: tiny, gill-attachment: none)   \n",
       "8                                     (cap-surface: scaly, stem-width: tiny, cap-diameter: tiny, gill-attachment: none)   \n",
       "9                      (cap-color: brown, cap-shape: bell, stem-height: medium, gill-spacing: close, stem-color: white)   \n",
       "\n",
       "                                                                                                            consequents  \\\n",
       "0                                                         (ring-type: evanescent, stem-width: small, stem-color: white)   \n",
       "1                                     (gill-attachment: free, stem-width: small, gill-spacing: close, cap-color: white)   \n",
       "2  (cap-color: brown, cap-diameter: tiny, cap-shape: bell, stem-height: medium, gill-spacing: close, stem-color: white)   \n",
       "3                                                         (cap-surface: scaly, stem-width: tiny, gill-attachment: none)   \n",
       "4                                                       (cap-surface: scaly, cap-diameter: tiny, gill-attachment: none)   \n",
       "5    (cap-color: brown, cap-shape: bell, stem-height: medium, gill-spacing: close, stem-width: tiny, stem-color: white)   \n",
       "6                                                         (cap-surface: scaly, stem-width: tiny, gill-attachment: none)   \n",
       "7                      (cap-color: brown, cap-shape: bell, stem-height: medium, gill-spacing: close, stem-color: white)   \n",
       "8                      (cap-color: brown, cap-shape: bell, stem-height: medium, gill-spacing: close, stem-color: white)   \n",
       "9                                     (cap-surface: scaly, stem-width: tiny, cap-diameter: tiny, gill-attachment: none)   \n",
       "\n",
       "   antecedent support  consequent support  support  confidence    lift  \\\n",
       "0               0.011               0.015    0.010       0.953  65.673   \n",
       "1               0.011               0.016    0.010       0.928  59.264   \n",
       "2               0.017               0.012    0.012       0.726  59.112   \n",
       "3               0.012               0.017    0.012       0.986  59.112   \n",
       "4               0.013               0.016    0.012       0.944  58.826   \n",
       "5               0.016               0.013    0.012       0.755  58.826   \n",
       "6               0.013               0.017    0.013       0.981  58.810   \n",
       "7               0.017               0.013    0.013       0.759  58.810   \n",
       "8               0.016               0.013    0.012       0.758  58.687   \n",
       "9               0.013               0.016    0.012       0.938  58.687   \n",
       "\n",
       "   conviction  \n",
       "0      21.177  \n",
       "1      13.720  \n",
       "2       3.603  \n",
       "3      71.550  \n",
       "4      17.455  \n",
       "5       4.029  \n",
       "6      52.352  \n",
       "7       4.103  \n",
       "8       4.076  \n",
       "9      15.830  "
      ]
     },
     "execution_count": 8,
     "metadata": {},
     "output_type": "execute_result"
    }
   ],
   "source": [
    "RULES_COLUMNS = [\n",
    "    \"antecedents\",\n",
    "    \"consequents\",\n",
    "    \"antecedent support\",\n",
    "    \"consequent support\",\n",
    "    \"support\",\n",
    "    \"confidence\",\n",
    "    \"lift\",\n",
    "    \"conviction\",\n",
    "]\n",
    "\n",
    "RULE_SUPPORT = 0.01\n",
    "RULE_CONFIDENCE = 0.7\n",
    "RULE_LIFT = 1.0\n",
    "RULE_CONVICTION = 1.0\n",
    "\n",
    "metric = \"confidence\"\n",
    "min_threshold = RULE_CONFIDENCE\n",
    "rules = association_rules(\n",
    "    frequent_itemsets[(~frequent_itemsets[\"itemsets\"].apply(lambda x: any(item in exclude_itemsets for item in x)))],\n",
    "    metric=metric,\n",
    "    min_threshold=min_threshold,\n",
    ")\n",
    "rules = (\n",
    "    rules[(rules[\"support\"] >= RULE_SUPPORT) & (rules[\"lift\"] >= RULE_LIFT) & (rules[\"conviction\"] >= RULE_CONVICTION)]\n",
    "    .sort_values(by=[\"lift\"], ascending=False)\n",
    "    .reset_index(drop=True)[RULES_COLUMNS]\n",
    ")\n",
    "grouped_rules = rules.groupby(\"consequents\")\n",
    "\n",
    "print(\"Número de regras de associação (ordenadas por 'lift'):\", len(rules))\n",
    "print(\"Regras agrupadas por 'consequents' (número de grupos):\", len(grouped_rules))\n",
    "rules.head(10)"
   ]
  },
  {
   "cell_type": "markdown",
   "id": "71964a56",
   "metadata": {},
   "source": [
    "### Regras relacionadas ao objetivo"
   ]
  },
  {
   "cell_type": "markdown",
   "id": "26d39d9e",
   "metadata": {},
   "source": [
    "Iremos verificar regras que possuem em seus consequentes itens do atributo objetivo (*target*): `target: edible` ou `target: poisonous`.\n",
    "\n",
    "Dado as métricas calculadas sobre a regra $A \\rightarrow B$.\n",
    "\n",
    "\n",
    "\\begin{aligned}\n",
    "\\text{support} \\quad sp & = sp(A \\cap B) \\\\\n",
    "\\text{confidence} \\quad cf & = \\frac{sp(A \\rightarrow B)}{sp(A)} \\\\\n",
    "\\text{lift} \\quad lf & = \\frac{c(A \\rightarrow B)}{sp(B)} \\\\\n",
    "\\text{conviction} \\quad cv & = \\frac{sp(A) \\cdot sp(\\lnot B)}{sp(A \\cap \\lnot B)}\n",
    "\\end{aligned}"
   ]
  },
  {
   "cell_type": "markdown",
   "id": "426e7a39",
   "metadata": {},
   "source": [
    "#### Cogumelos venenosos"
   ]
  },
  {
   "cell_type": "markdown",
   "id": "53860772",
   "metadata": {},
   "source": [
    "`support` $\\geq 0.025$\n",
    "\n",
    "`confidence` $\\geq 0.900$\n",
    "\n",
    "`lift` $\\geq 1.000$\n",
    "\n",
    "`conviction` $\\geq 1.000$"
   ]
  },
  {
   "cell_type": "code",
   "execution_count": 9,
   "id": "c8b3c40c",
   "metadata": {},
   "outputs": [
    {
     "name": "stdout",
     "output_type": "stream",
     "text": [
      "Número de regras encontradas: 76\n"
     ]
    },
    {
     "data": {
      "text/html": [
       "<div>\n",
       "<style scoped>\n",
       "    .dataframe tbody tr th:only-of-type {\n",
       "        vertical-align: middle;\n",
       "    }\n",
       "\n",
       "    .dataframe tbody tr th {\n",
       "        vertical-align: top;\n",
       "    }\n",
       "\n",
       "    .dataframe thead th {\n",
       "        text-align: right;\n",
       "    }\n",
       "</style>\n",
       "<table border=\"1\" class=\"dataframe\">\n",
       "  <thead>\n",
       "    <tr style=\"text-align: right;\">\n",
       "      <th></th>\n",
       "      <th>antecedents</th>\n",
       "      <th>consequents</th>\n",
       "      <th>antecedent support</th>\n",
       "      <th>consequent support</th>\n",
       "      <th>support</th>\n",
       "      <th>confidence</th>\n",
       "      <th>lift</th>\n",
       "      <th>conviction</th>\n",
       "    </tr>\n",
       "  </thead>\n",
       "  <tbody>\n",
       "    <tr>\n",
       "      <th>56819</th>\n",
       "      <td>(cap-color: brown, gill-spacing: none, stem-color: brown, stem-height: small, gill-color: brown, stem-width: tiny)</td>\n",
       "      <td>(target: poisonous)</td>\n",
       "      <td>0.026</td>\n",
       "      <td>0.547</td>\n",
       "      <td>0.026</td>\n",
       "      <td>0.997</td>\n",
       "      <td>1.822</td>\n",
       "      <td>158.347</td>\n",
       "    </tr>\n",
       "    <tr>\n",
       "      <th>56891</th>\n",
       "      <td>(cap-color: brown, gill-spacing: none, stem-color: brown, gill-color: brown, stem-width: tiny)</td>\n",
       "      <td>(target: poisonous)</td>\n",
       "      <td>0.027</td>\n",
       "      <td>0.547</td>\n",
       "      <td>0.027</td>\n",
       "      <td>0.997</td>\n",
       "      <td>1.822</td>\n",
       "      <td>141.403</td>\n",
       "    </tr>\n",
       "    <tr>\n",
       "      <th>56928</th>\n",
       "      <td>(gill-spacing: close, ring-type: others)</td>\n",
       "      <td>(target: poisonous)</td>\n",
       "      <td>0.027</td>\n",
       "      <td>0.547</td>\n",
       "      <td>0.026</td>\n",
       "      <td>0.997</td>\n",
       "      <td>1.821</td>\n",
       "      <td>132.821</td>\n",
       "    </tr>\n",
       "    <tr>\n",
       "      <th>56946</th>\n",
       "      <td>(gill-spacing: none, stem-color: brown, gill-color: brown, stem-height: small, stem-width: tiny)</td>\n",
       "      <td>(target: poisonous)</td>\n",
       "      <td>0.029</td>\n",
       "      <td>0.547</td>\n",
       "      <td>0.028</td>\n",
       "      <td>0.996</td>\n",
       "      <td>1.821</td>\n",
       "      <td>128.251</td>\n",
       "    </tr>\n",
       "    <tr>\n",
       "      <th>57007</th>\n",
       "      <td>(gill-spacing: none, gill-color: brown, stem-width: tiny, stem-color: brown)</td>\n",
       "      <td>(target: poisonous)</td>\n",
       "      <td>0.031</td>\n",
       "      <td>0.547</td>\n",
       "      <td>0.031</td>\n",
       "      <td>0.996</td>\n",
       "      <td>1.821</td>\n",
       "      <td>118.323</td>\n",
       "    </tr>\n",
       "    <tr>\n",
       "      <th>57192</th>\n",
       "      <td>(cap-color: brown, gill-spacing: none, gill-color: brown, stem-height: small, stem-width: tiny)</td>\n",
       "      <td>(target: poisonous)</td>\n",
       "      <td>0.026</td>\n",
       "      <td>0.547</td>\n",
       "      <td>0.026</td>\n",
       "      <td>0.995</td>\n",
       "      <td>1.818</td>\n",
       "      <td>87.225</td>\n",
       "    </tr>\n",
       "    <tr>\n",
       "      <th>57208</th>\n",
       "      <td>(cap-color: brown, gill-spacing: none, cap-diameter: tiny, gill-color: brown, stem-width: tiny)</td>\n",
       "      <td>(target: poisonous)</td>\n",
       "      <td>0.027</td>\n",
       "      <td>0.547</td>\n",
       "      <td>0.027</td>\n",
       "      <td>0.995</td>\n",
       "      <td>1.818</td>\n",
       "      <td>85.127</td>\n",
       "    </tr>\n",
       "    <tr>\n",
       "      <th>57290</th>\n",
       "      <td>(gill-spacing: none, cap-diameter: tiny, gill-color: brown, stem-width: tiny)</td>\n",
       "      <td>(target: poisonous)</td>\n",
       "      <td>0.032</td>\n",
       "      <td>0.547</td>\n",
       "      <td>0.032</td>\n",
       "      <td>0.994</td>\n",
       "      <td>1.817</td>\n",
       "      <td>74.739</td>\n",
       "    </tr>\n",
       "    <tr>\n",
       "      <th>57296</th>\n",
       "      <td>(gill-spacing: none, gill-color: brown, stem-width: tiny, stem-height: small)</td>\n",
       "      <td>(target: poisonous)</td>\n",
       "      <td>0.031</td>\n",
       "      <td>0.547</td>\n",
       "      <td>0.031</td>\n",
       "      <td>0.994</td>\n",
       "      <td>1.816</td>\n",
       "      <td>73.926</td>\n",
       "    </tr>\n",
       "    <tr>\n",
       "      <th>57315</th>\n",
       "      <td>(cap-color: brown, gill-spacing: none, gill-color: brown, stem-width: tiny)</td>\n",
       "      <td>(target: poisonous)</td>\n",
       "      <td>0.032</td>\n",
       "      <td>0.547</td>\n",
       "      <td>0.032</td>\n",
       "      <td>0.994</td>\n",
       "      <td>1.816</td>\n",
       "      <td>72.374</td>\n",
       "    </tr>\n",
       "  </tbody>\n",
       "</table>\n",
       "</div>"
      ],
      "text/plain": [
       "                                                                                                              antecedents  \\\n",
       "56819  (cap-color: brown, gill-spacing: none, stem-color: brown, stem-height: small, gill-color: brown, stem-width: tiny)   \n",
       "56891                      (cap-color: brown, gill-spacing: none, stem-color: brown, gill-color: brown, stem-width: tiny)   \n",
       "56928                                                                            (gill-spacing: close, ring-type: others)   \n",
       "56946                    (gill-spacing: none, stem-color: brown, gill-color: brown, stem-height: small, stem-width: tiny)   \n",
       "57007                                        (gill-spacing: none, gill-color: brown, stem-width: tiny, stem-color: brown)   \n",
       "57192                     (cap-color: brown, gill-spacing: none, gill-color: brown, stem-height: small, stem-width: tiny)   \n",
       "57208                     (cap-color: brown, gill-spacing: none, cap-diameter: tiny, gill-color: brown, stem-width: tiny)   \n",
       "57290                                       (gill-spacing: none, cap-diameter: tiny, gill-color: brown, stem-width: tiny)   \n",
       "57296                                       (gill-spacing: none, gill-color: brown, stem-width: tiny, stem-height: small)   \n",
       "57315                                         (cap-color: brown, gill-spacing: none, gill-color: brown, stem-width: tiny)   \n",
       "\n",
       "               consequents  antecedent support  consequent support  support  \\\n",
       "56819  (target: poisonous)               0.026               0.547    0.026   \n",
       "56891  (target: poisonous)               0.027               0.547    0.027   \n",
       "56928  (target: poisonous)               0.027               0.547    0.026   \n",
       "56946  (target: poisonous)               0.029               0.547    0.028   \n",
       "57007  (target: poisonous)               0.031               0.547    0.031   \n",
       "57192  (target: poisonous)               0.026               0.547    0.026   \n",
       "57208  (target: poisonous)               0.027               0.547    0.027   \n",
       "57290  (target: poisonous)               0.032               0.547    0.032   \n",
       "57296  (target: poisonous)               0.031               0.547    0.031   \n",
       "57315  (target: poisonous)               0.032               0.547    0.032   \n",
       "\n",
       "       confidence   lift  conviction  \n",
       "56819       0.997  1.822     158.347  \n",
       "56891       0.997  1.822     141.403  \n",
       "56928       0.997  1.821     132.821  \n",
       "56946       0.996  1.821     128.251  \n",
       "57007       0.996  1.821     118.323  \n",
       "57192       0.995  1.818      87.225  \n",
       "57208       0.995  1.818      85.127  \n",
       "57290       0.994  1.817      74.739  \n",
       "57296       0.994  1.816      73.926  \n",
       "57315       0.994  1.816      72.374  "
      ]
     },
     "execution_count": 9,
     "metadata": {},
     "output_type": "execute_result"
    }
   ],
   "source": [
    "rules_with_poisonous = rules[\n",
    "    (rules[\"consequents\"].apply(len) == 1)\n",
    "    & (rules[\"consequents\"].apply(lambda x: next(iter(x)) == \"target: poisonous\"))\n",
    "    & (rules[\"support\"] >= 0.025)\n",
    "    & (rules[\"confidence\"] >= 0.9)\n",
    "    & (rules[\"lift\"] >= 1.0)\n",
    "    & (rules[\"conviction\"] >= 1.0)\n",
    "].sort_values(by=\"confidence\", ascending=False)\n",
    "\n",
    "print(\"Número de regras encontradas:\", len(rules_with_poisonous))\n",
    "rules_with_poisonous.head(10)"
   ]
  },
  {
   "cell_type": "markdown",
   "id": "b1257af8",
   "metadata": {},
   "source": [
    "Seja $A \\rightarrow B =$ $\\{$`cap-color: brown`, `gill-color: brown`, `gill-spacing: none`, `stem-color: brown`, `stem-height: small`, `stem-width: tiny` $\\}$ $\\rightarrow$\t$\\{$`target: poisonous`$\\}$\n",
    "\n",
    "Os valores de *antecedent support* e *consequent support* nos mostram a porcentagem da ocorrência dos *itemsets* $A$ e $B$, respectivamente, no dataset.\n",
    "\n",
    "Um suporte de $0.026$, significa que essa regra está presente em aproximadamente $2,6\\%$ das instâncias, com uma confiança de $0.997$, ou seja, mais de $99\\%$ de todas as instâncias onde $A$ ocorre, os cogumelos são venenosos.\n",
    "\n",
    "A elevação (*lift*) de $1.822$ nos indica a proporção em que a presença de $A$ aumenta a chance do cogumelo ser venenoso em aproximadamente $82\\%$ em relação a uma ocorrência aleatória, onde $A$ não influencia o cogumelo a ser venenoso.\n",
    "\n",
    "A convicção (*conviction*) de $158.347$ revela que, se essa regra fosse falsa, ou seja, o cogumelo não fosse venenoso mesmo tendo essas características, isso aconteceria aproximadamente $158$ vezes menos frequentemente do que se não houvesse nenhuma relação entre o antecedente $A$ e ser venenoso (consequente).\n",
    "\n",
    "Concluindo:\n",
    "\n",
    " - A regra é relativamente rara (com baixo suporte), em relação ao total de instâncias.\n",
    " - É altamente confiável quando ocorre, com $cf \\geq 99\\%$.\n",
    " - Com $lf > 1$, confirmamos uma associação positiva entre $A$ e o cogumelo ser venenoso.\n",
    " - Com o alto valor de $cv$, podemos dizer que as exceções à regra são extremamente raras e que o antecedente $A$ é um bom indicador preditivo de que o cogumelo será venenoso."
   ]
  },
  {
   "cell_type": "code",
   "execution_count": 10,
   "id": "ab63a53f",
   "metadata": {},
   "outputs": [
    {
     "name": "stdout",
     "output_type": "stream",
     "text": [
      "['cap-color: brown', 'gill-color: brown', 'gill-spacing: none', 'stem-color: brown', 'stem-height: small', 'stem-width: tiny'] -> ['target: poisonous']\n"
     ]
    },
    {
     "data": {
      "text/html": [
       "<div>\n",
       "<style scoped>\n",
       "    .dataframe tbody tr th:only-of-type {\n",
       "        vertical-align: middle;\n",
       "    }\n",
       "\n",
       "    .dataframe tbody tr th {\n",
       "        vertical-align: top;\n",
       "    }\n",
       "\n",
       "    .dataframe thead th {\n",
       "        text-align: right;\n",
       "    }\n",
       "</style>\n",
       "<table border=\"1\" class=\"dataframe\">\n",
       "  <thead>\n",
       "    <tr style=\"text-align: right;\">\n",
       "      <th></th>\n",
       "      <th>56819</th>\n",
       "    </tr>\n",
       "  </thead>\n",
       "  <tbody>\n",
       "    <tr>\n",
       "      <th>antecedents</th>\n",
       "      <td>(cap-color: brown, gill-spacing: none, stem-color: brown, stem-height: small, gill-color: brown, stem-width: tiny)</td>\n",
       "    </tr>\n",
       "    <tr>\n",
       "      <th>consequents</th>\n",
       "      <td>(target: poisonous)</td>\n",
       "    </tr>\n",
       "    <tr>\n",
       "      <th>antecedent support</th>\n",
       "      <td>0.026</td>\n",
       "    </tr>\n",
       "    <tr>\n",
       "      <th>consequent support</th>\n",
       "      <td>0.547</td>\n",
       "    </tr>\n",
       "    <tr>\n",
       "      <th>support</th>\n",
       "      <td>0.026</td>\n",
       "    </tr>\n",
       "    <tr>\n",
       "      <th>confidence</th>\n",
       "      <td>0.997</td>\n",
       "    </tr>\n",
       "    <tr>\n",
       "      <th>lift</th>\n",
       "      <td>1.822</td>\n",
       "    </tr>\n",
       "    <tr>\n",
       "      <th>conviction</th>\n",
       "      <td>158.347</td>\n",
       "    </tr>\n",
       "  </tbody>\n",
       "</table>\n",
       "</div>"
      ],
      "text/plain": [
       "                                                                                                                                 56819\n",
       "antecedents         (cap-color: brown, gill-spacing: none, stem-color: brown, stem-height: small, gill-color: brown, stem-width: tiny)\n",
       "consequents                                                                                                        (target: poisonous)\n",
       "antecedent support                                                                                                               0.026\n",
       "consequent support                                                                                                               0.547\n",
       "support                                                                                                                          0.026\n",
       "confidence                                                                                                                       0.997\n",
       "lift                                                                                                                             1.822\n",
       "conviction                                                                                                                     158.347"
      ]
     },
     "execution_count": 10,
     "metadata": {},
     "output_type": "execute_result"
    }
   ],
   "source": [
    "print(sorted(rules_with_poisonous.loc[56819, \"antecedents\"]), \"->\", list(rules_with_poisonous.loc[56819, \"consequents\"]))\n",
    "pd.DataFrame(rules_with_poisonous.loc[56819])"
   ]
  },
  {
   "cell_type": "markdown",
   "id": "9743bd20",
   "metadata": {},
   "source": [
    "#### Cogumelos comestíveis"
   ]
  },
  {
   "cell_type": "markdown",
   "id": "80fee459",
   "metadata": {},
   "source": [
    "`support` $\\geq 0.015$\n",
    "\n",
    "`confidence` $\\geq 0.995$\n",
    "\n",
    "`lift` $\\geq 1.000$\n",
    "\n",
    "`conviction` $\\geq 1.000$"
   ]
  },
  {
   "cell_type": "code",
   "execution_count": 11,
   "id": "9b96a238",
   "metadata": {},
   "outputs": [
    {
     "name": "stdout",
     "output_type": "stream",
     "text": [
      "Número de regras encontradas: 15\n"
     ]
    },
    {
     "data": {
      "text/html": [
       "<div>\n",
       "<style scoped>\n",
       "    .dataframe tbody tr th:only-of-type {\n",
       "        vertical-align: middle;\n",
       "    }\n",
       "\n",
       "    .dataframe tbody tr th {\n",
       "        vertical-align: top;\n",
       "    }\n",
       "\n",
       "    .dataframe thead th {\n",
       "        text-align: right;\n",
       "    }\n",
       "</style>\n",
       "<table border=\"1\" class=\"dataframe\">\n",
       "  <thead>\n",
       "    <tr style=\"text-align: right;\">\n",
       "      <th></th>\n",
       "      <th>antecedents</th>\n",
       "      <th>consequents</th>\n",
       "      <th>antecedent support</th>\n",
       "      <th>consequent support</th>\n",
       "      <th>support</th>\n",
       "      <th>confidence</th>\n",
       "      <th>lift</th>\n",
       "      <th>conviction</th>\n",
       "    </tr>\n",
       "  </thead>\n",
       "  <tbody>\n",
       "    <tr>\n",
       "      <th>46454</th>\n",
       "      <td>(gill-attachment: free, stem-width: medium, stem-height: large, stem-color: white, does-bruise-or-bleed: yes)</td>\n",
       "      <td>(target: edible)</td>\n",
       "      <td>0.015</td>\n",
       "      <td>0.453</td>\n",
       "      <td>0.015</td>\n",
       "      <td>0.996</td>\n",
       "      <td>2.199</td>\n",
       "      <td>129.857</td>\n",
       "    </tr>\n",
       "    <tr>\n",
       "      <th>46455</th>\n",
       "      <td>(gill-spacing: none, gill-attachment: free, stem-width: medium, stem-height: large, does-bruise-or-bleed: yes)</td>\n",
       "      <td>(target: edible)</td>\n",
       "      <td>0.015</td>\n",
       "      <td>0.453</td>\n",
       "      <td>0.015</td>\n",
       "      <td>0.996</td>\n",
       "      <td>2.199</td>\n",
       "      <td>129.391</td>\n",
       "    </tr>\n",
       "    <tr>\n",
       "      <th>46456</th>\n",
       "      <td>(stem-height: large, gill-attachment: free, stem-width: medium, does-bruise-or-bleed: yes)</td>\n",
       "      <td>(target: edible)</td>\n",
       "      <td>0.015</td>\n",
       "      <td>0.453</td>\n",
       "      <td>0.015</td>\n",
       "      <td>0.996</td>\n",
       "      <td>2.199</td>\n",
       "      <td>128.234</td>\n",
       "    </tr>\n",
       "    <tr>\n",
       "      <th>46460</th>\n",
       "      <td>(gill-spacing: none, gill-attachment: free, stem-height: large, stem-color: white, does-bruise-or-bleed: yes)</td>\n",
       "      <td>(target: edible)</td>\n",
       "      <td>0.015</td>\n",
       "      <td>0.453</td>\n",
       "      <td>0.015</td>\n",
       "      <td>0.996</td>\n",
       "      <td>2.199</td>\n",
       "      <td>126.771</td>\n",
       "    </tr>\n",
       "    <tr>\n",
       "      <th>46463</th>\n",
       "      <td>(gill-attachment: free, stem-color: white, stem-height: large, does-bruise-or-bleed: yes)</td>\n",
       "      <td>(target: edible)</td>\n",
       "      <td>0.015</td>\n",
       "      <td>0.453</td>\n",
       "      <td>0.015</td>\n",
       "      <td>0.996</td>\n",
       "      <td>2.199</td>\n",
       "      <td>126.279</td>\n",
       "    </tr>\n",
       "    <tr>\n",
       "      <th>46468</th>\n",
       "      <td>(gill-spacing: none, gill-attachment: free, stem-height: large, does-bruise-or-bleed: yes)</td>\n",
       "      <td>(target: edible)</td>\n",
       "      <td>0.015</td>\n",
       "      <td>0.453</td>\n",
       "      <td>0.015</td>\n",
       "      <td>0.996</td>\n",
       "      <td>2.199</td>\n",
       "      <td>125.231</td>\n",
       "    </tr>\n",
       "    <tr>\n",
       "      <th>46474</th>\n",
       "      <td>(gill-attachment: free, stem-height: large, does-bruise-or-bleed: yes)</td>\n",
       "      <td>(target: edible)</td>\n",
       "      <td>0.015</td>\n",
       "      <td>0.453</td>\n",
       "      <td>0.015</td>\n",
       "      <td>0.996</td>\n",
       "      <td>2.198</td>\n",
       "      <td>124.158</td>\n",
       "    </tr>\n",
       "    <tr>\n",
       "      <th>46495</th>\n",
       "      <td>(cap-color: brown, gill-spacing: none, gill-attachment: free, stem-width: medium, stem-color: white, does-bruise-or-bleed: yes)</td>\n",
       "      <td>(target: edible)</td>\n",
       "      <td>0.015</td>\n",
       "      <td>0.453</td>\n",
       "      <td>0.015</td>\n",
       "      <td>0.995</td>\n",
       "      <td>2.198</td>\n",
       "      <td>118.763</td>\n",
       "    </tr>\n",
       "    <tr>\n",
       "      <th>46496</th>\n",
       "      <td>(cap-color: brown, gill-spacing: none, gill-attachment: free, stem-width: medium, does-bruise-or-bleed: yes)</td>\n",
       "      <td>(target: edible)</td>\n",
       "      <td>0.016</td>\n",
       "      <td>0.453</td>\n",
       "      <td>0.015</td>\n",
       "      <td>0.995</td>\n",
       "      <td>2.198</td>\n",
       "      <td>118.562</td>\n",
       "    </tr>\n",
       "    <tr>\n",
       "      <th>46497</th>\n",
       "      <td>(cap-color: brown, gill-attachment: free, stem-width: medium, stem-color: white, does-bruise-or-bleed: yes)</td>\n",
       "      <td>(target: edible)</td>\n",
       "      <td>0.015</td>\n",
       "      <td>0.453</td>\n",
       "      <td>0.015</td>\n",
       "      <td>0.995</td>\n",
       "      <td>2.198</td>\n",
       "      <td>118.378</td>\n",
       "    </tr>\n",
       "  </tbody>\n",
       "</table>\n",
       "</div>"
      ],
      "text/plain": [
       "                                                                                                                           antecedents  \\\n",
       "46454                    (gill-attachment: free, stem-width: medium, stem-height: large, stem-color: white, does-bruise-or-bleed: yes)   \n",
       "46455                   (gill-spacing: none, gill-attachment: free, stem-width: medium, stem-height: large, does-bruise-or-bleed: yes)   \n",
       "46456                                       (stem-height: large, gill-attachment: free, stem-width: medium, does-bruise-or-bleed: yes)   \n",
       "46460                    (gill-spacing: none, gill-attachment: free, stem-height: large, stem-color: white, does-bruise-or-bleed: yes)   \n",
       "46463                                        (gill-attachment: free, stem-color: white, stem-height: large, does-bruise-or-bleed: yes)   \n",
       "46468                                       (gill-spacing: none, gill-attachment: free, stem-height: large, does-bruise-or-bleed: yes)   \n",
       "46474                                                           (gill-attachment: free, stem-height: large, does-bruise-or-bleed: yes)   \n",
       "46495  (cap-color: brown, gill-spacing: none, gill-attachment: free, stem-width: medium, stem-color: white, does-bruise-or-bleed: yes)   \n",
       "46496                     (cap-color: brown, gill-spacing: none, gill-attachment: free, stem-width: medium, does-bruise-or-bleed: yes)   \n",
       "46497                      (cap-color: brown, gill-attachment: free, stem-width: medium, stem-color: white, does-bruise-or-bleed: yes)   \n",
       "\n",
       "            consequents  antecedent support  consequent support  support  \\\n",
       "46454  (target: edible)               0.015               0.453    0.015   \n",
       "46455  (target: edible)               0.015               0.453    0.015   \n",
       "46456  (target: edible)               0.015               0.453    0.015   \n",
       "46460  (target: edible)               0.015               0.453    0.015   \n",
       "46463  (target: edible)               0.015               0.453    0.015   \n",
       "46468  (target: edible)               0.015               0.453    0.015   \n",
       "46474  (target: edible)               0.015               0.453    0.015   \n",
       "46495  (target: edible)               0.015               0.453    0.015   \n",
       "46496  (target: edible)               0.016               0.453    0.015   \n",
       "46497  (target: edible)               0.015               0.453    0.015   \n",
       "\n",
       "       confidence   lift  conviction  \n",
       "46454       0.996  2.199     129.857  \n",
       "46455       0.996  2.199     129.391  \n",
       "46456       0.996  2.199     128.234  \n",
       "46460       0.996  2.199     126.771  \n",
       "46463       0.996  2.199     126.279  \n",
       "46468       0.996  2.199     125.231  \n",
       "46474       0.996  2.198     124.158  \n",
       "46495       0.995  2.198     118.763  \n",
       "46496       0.995  2.198     118.562  \n",
       "46497       0.995  2.198     118.378  "
      ]
     },
     "execution_count": 11,
     "metadata": {},
     "output_type": "execute_result"
    }
   ],
   "source": [
    "rules_with_edible = rules[\n",
    "    (rules[\"consequents\"].apply(len) == 1)\n",
    "    & rules[\"consequents\"].apply(lambda x: next(iter(x)) == \"target: edible\")\n",
    "    & (rules[\"support\"] >= 0.015)\n",
    "    & (rules[\"confidence\"] >= 0.995)\n",
    "    & (rules[\"lift\"] >= 1.00)\n",
    "    & (rules[\"conviction\"] >= 1.00)\n",
    "].sort_values(by=\"confidence\", ascending=False)\n",
    "\n",
    "print(\"Número de regras encontradas:\", len(rules_with_edible))\n",
    "rules_with_edible.head(10)"
   ]
  },
  {
   "cell_type": "markdown",
   "id": "c358917a",
   "metadata": {},
   "source": [
    "Seja $A \\rightarrow B =$ $\\{$`does-bruise-or-bleed: yes`, `gill-attachment: free`, `stem-color: white`, `stem-height: large`, `stem-width: medium`$\\}$ $\\rightarrow$\t$\\{$`target: edible`$\\}$\n",
    "\n",
    "Os valores de *antecedent support* e *consequent support* nos mostram a porcentagem da ocorrência dos *itemsets* $A$ e $B$, respectivamente, no dataset.\n",
    "\n",
    "Um suporte de $0.015$, significa que essa regra está presente em aproximadamente $1,5\\%$ das instâncias, com uma confiança de $0.996$, ou seja, mais de $99\\%$ de todas as instâncias onde $A$ ocorre, os cogumelos são comestíveis.\n",
    "\n",
    "A elevação (*lift*) de $2.199$ nos indica a proporção em que a presença de $A$ aumenta a chance do cogumelo ser comestível em aproximadamente $120\\%$ em relação a uma ocorrência aleatória, onde $A$ não influencia o cogumelo a ser comestível.\n",
    "\n",
    "A convicção (*conviction*) de $129.857$ revela que, se essa regra fosse falsa, ou seja, o cogumelo não fosse comestível mesmo tendo essas características, isso aconteceria aproximadamente $130$ vezes menos frequentemente do que se não houvesse nenhuma relação entre o antecedente $A$ e ser comestível (consequente).\n",
    "\n",
    "Concluindo:\n",
    "\n",
    " - A regra é relativamente rara (com baixo suporte), em relação ao total de instâncias.\n",
    " - É altamente confiável quando ocorre, com $cf \\geq 99\\%$.\n",
    " - Com $lf > 1$, confirmamos uma associação positiva entre $A$ e o cogumelo ser comestível.\n",
    " - Com o alto valor de $cv$, podemos dizer que as exceções à regra são extremamente raras e que o antecedente $A$ é um bom indicador preditivo de que o cogumelo será comestível.\n",
    " - Também é importante notar a importância do alto valor para confiança na predição se um cogumelo é comestível."
   ]
  },
  {
   "cell_type": "code",
   "execution_count": 12,
   "id": "f673e36f",
   "metadata": {},
   "outputs": [
    {
     "name": "stdout",
     "output_type": "stream",
     "text": [
      "['does-bruise-or-bleed: yes', 'gill-attachment: free', 'stem-color: white', 'stem-height: large', 'stem-width: medium'] -> ['target: edible']\n"
     ]
    },
    {
     "data": {
      "text/html": [
       "<div>\n",
       "<style scoped>\n",
       "    .dataframe tbody tr th:only-of-type {\n",
       "        vertical-align: middle;\n",
       "    }\n",
       "\n",
       "    .dataframe tbody tr th {\n",
       "        vertical-align: top;\n",
       "    }\n",
       "\n",
       "    .dataframe thead th {\n",
       "        text-align: right;\n",
       "    }\n",
       "</style>\n",
       "<table border=\"1\" class=\"dataframe\">\n",
       "  <thead>\n",
       "    <tr style=\"text-align: right;\">\n",
       "      <th></th>\n",
       "      <th>46454</th>\n",
       "    </tr>\n",
       "  </thead>\n",
       "  <tbody>\n",
       "    <tr>\n",
       "      <th>antecedents</th>\n",
       "      <td>(gill-attachment: free, stem-width: medium, stem-height: large, stem-color: white, does-bruise-or-bleed: yes)</td>\n",
       "    </tr>\n",
       "    <tr>\n",
       "      <th>consequents</th>\n",
       "      <td>(target: edible)</td>\n",
       "    </tr>\n",
       "    <tr>\n",
       "      <th>antecedent support</th>\n",
       "      <td>0.015</td>\n",
       "    </tr>\n",
       "    <tr>\n",
       "      <th>consequent support</th>\n",
       "      <td>0.453</td>\n",
       "    </tr>\n",
       "    <tr>\n",
       "      <th>support</th>\n",
       "      <td>0.015</td>\n",
       "    </tr>\n",
       "    <tr>\n",
       "      <th>confidence</th>\n",
       "      <td>0.996</td>\n",
       "    </tr>\n",
       "    <tr>\n",
       "      <th>lift</th>\n",
       "      <td>2.199</td>\n",
       "    </tr>\n",
       "    <tr>\n",
       "      <th>conviction</th>\n",
       "      <td>129.857</td>\n",
       "    </tr>\n",
       "  </tbody>\n",
       "</table>\n",
       "</div>"
      ],
      "text/plain": [
       "                                                                                                                            46454\n",
       "antecedents         (gill-attachment: free, stem-width: medium, stem-height: large, stem-color: white, does-bruise-or-bleed: yes)\n",
       "consequents                                                                                                      (target: edible)\n",
       "antecedent support                                                                                                          0.015\n",
       "consequent support                                                                                                          0.453\n",
       "support                                                                                                                     0.015\n",
       "confidence                                                                                                                  0.996\n",
       "lift                                                                                                                        2.199\n",
       "conviction                                                                                                                129.857"
      ]
     },
     "execution_count": 12,
     "metadata": {},
     "output_type": "execute_result"
    }
   ],
   "source": [
    "print(sorted(rules_with_edible.loc[46454, \"antecedents\"]), \"->\", list(rules_with_edible.loc[46454, \"consequents\"]))\n",
    "pd.DataFrame(rules_with_edible.loc[46454])"
   ]
  },
  {
   "cell_type": "markdown",
   "id": "31c5f049",
   "metadata": {},
   "source": [
    "## Padrões Sequenciais"
   ]
  },
  {
   "cell_type": "markdown",
   "id": "2cf48823",
   "metadata": {},
   "source": [
    "Para criar uma sequência com o dataset, utilizamos características de tamanho dos cogumelos. Como temos três catacterísticas que nos dão uma ideia da grandeza do cogumelo em um espaço tridimensional, calculamos seu volume estimado a partir dessas grandezas."
   ]
  },
  {
   "cell_type": "markdown",
   "id": "98288596",
   "metadata": {},
   "source": [
    "### Estimativa do volume\n",
    "\n",
    "Calculamos uma estimativa do volume dos cogumelos com base nos valores de `cap-diameter`, `stem-height` e `stem-width`, e criamos um novo atributo `volume`.\n"
   ]
  },
  {
   "cell_type": "code",
   "execution_count": 13,
   "id": "cbe3ed4e",
   "metadata": {},
   "outputs": [
    {
     "data": {
      "text/html": [
       "<div>\n",
       "<style scoped>\n",
       "    .dataframe tbody tr th:only-of-type {\n",
       "        vertical-align: middle;\n",
       "    }\n",
       "\n",
       "    .dataframe tbody tr th {\n",
       "        vertical-align: top;\n",
       "    }\n",
       "\n",
       "    .dataframe thead th {\n",
       "        text-align: right;\n",
       "    }\n",
       "</style>\n",
       "<table border=\"1\" class=\"dataframe\">\n",
       "  <thead>\n",
       "    <tr style=\"text-align: right;\">\n",
       "      <th></th>\n",
       "      <th>cap-diameter</th>\n",
       "      <th>cap-shape</th>\n",
       "      <th>cap-surface</th>\n",
       "      <th>cap-color</th>\n",
       "      <th>does-bruise-or-bleed</th>\n",
       "      <th>gill-attachment</th>\n",
       "      <th>gill-spacing</th>\n",
       "      <th>gill-color</th>\n",
       "      <th>stem-height</th>\n",
       "      <th>stem-width</th>\n",
       "      <th>stem-color</th>\n",
       "      <th>ring-type</th>\n",
       "      <th>habitat</th>\n",
       "      <th>season</th>\n",
       "      <th>veil-type</th>\n",
       "      <th>target</th>\n",
       "      <th>volume</th>\n",
       "    </tr>\n",
       "  </thead>\n",
       "  <tbody>\n",
       "    <tr>\n",
       "      <th>0</th>\n",
       "      <td>8.80</td>\n",
       "      <td>flat</td>\n",
       "      <td>smooth</td>\n",
       "      <td>purple</td>\n",
       "      <td>no</td>\n",
       "      <td>adnate</td>\n",
       "      <td>close</td>\n",
       "      <td>white</td>\n",
       "      <td>4.51</td>\n",
       "      <td>15.39</td>\n",
       "      <td>white</td>\n",
       "      <td>none</td>\n",
       "      <td>woods</td>\n",
       "      <td>autumn</td>\n",
       "      <td>partial</td>\n",
       "      <td>edible</td>\n",
       "      <td>186.799</td>\n",
       "    </tr>\n",
       "    <tr>\n",
       "      <th>1</th>\n",
       "      <td>4.51</td>\n",
       "      <td>convex</td>\n",
       "      <td>shiny</td>\n",
       "      <td>others</td>\n",
       "      <td>no</td>\n",
       "      <td>adnate</td>\n",
       "      <td>close</td>\n",
       "      <td>brown</td>\n",
       "      <td>4.79</td>\n",
       "      <td>6.48</td>\n",
       "      <td>others</td>\n",
       "      <td>others</td>\n",
       "      <td>woods</td>\n",
       "      <td>winter</td>\n",
       "      <td>partial</td>\n",
       "      <td>poisonous</td>\n",
       "      <td>25.596</td>\n",
       "    </tr>\n",
       "    <tr>\n",
       "      <th>2</th>\n",
       "      <td>6.94</td>\n",
       "      <td>flat</td>\n",
       "      <td>smooth</td>\n",
       "      <td>buff</td>\n",
       "      <td>no</td>\n",
       "      <td>adnexed</td>\n",
       "      <td>close</td>\n",
       "      <td>white</td>\n",
       "      <td>6.85</td>\n",
       "      <td>9.93</td>\n",
       "      <td>brown</td>\n",
       "      <td>none</td>\n",
       "      <td>leaves</td>\n",
       "      <td>winter</td>\n",
       "      <td>partial</td>\n",
       "      <td>edible</td>\n",
       "      <td>92.813</td>\n",
       "    </tr>\n",
       "    <tr>\n",
       "      <th>3</th>\n",
       "      <td>3.88</td>\n",
       "      <td>flat</td>\n",
       "      <td>scaly</td>\n",
       "      <td>gray</td>\n",
       "      <td>no</td>\n",
       "      <td>sinuate</td>\n",
       "      <td>none</td>\n",
       "      <td>gray</td>\n",
       "      <td>4.16</td>\n",
       "      <td>6.53</td>\n",
       "      <td>white</td>\n",
       "      <td>none</td>\n",
       "      <td>woods</td>\n",
       "      <td>summer</td>\n",
       "      <td>partial</td>\n",
       "      <td>edible</td>\n",
       "      <td>16.685</td>\n",
       "    </tr>\n",
       "    <tr>\n",
       "      <th>4</th>\n",
       "      <td>5.85</td>\n",
       "      <td>convex</td>\n",
       "      <td>leathery</td>\n",
       "      <td>white</td>\n",
       "      <td>no</td>\n",
       "      <td>decurrent</td>\n",
       "      <td>none</td>\n",
       "      <td>white</td>\n",
       "      <td>3.37</td>\n",
       "      <td>8.36</td>\n",
       "      <td>white</td>\n",
       "      <td>none</td>\n",
       "      <td>grasses</td>\n",
       "      <td>autumn</td>\n",
       "      <td>partial</td>\n",
       "      <td>edible</td>\n",
       "      <td>54.262</td>\n",
       "    </tr>\n",
       "  </tbody>\n",
       "</table>\n",
       "</div>"
      ],
      "text/plain": [
       "   cap-diameter cap-shape cap-surface cap-color does-bruise-or-bleed  \\\n",
       "0          8.80      flat      smooth    purple                   no   \n",
       "1          4.51    convex       shiny    others                   no   \n",
       "2          6.94      flat      smooth      buff                   no   \n",
       "3          3.88      flat       scaly      gray                   no   \n",
       "4          5.85    convex    leathery     white                   no   \n",
       "\n",
       "  gill-attachment gill-spacing gill-color  stem-height  stem-width stem-color  \\\n",
       "0          adnate        close      white         4.51       15.39      white   \n",
       "1          adnate        close      brown         4.79        6.48     others   \n",
       "2         adnexed        close      white         6.85        9.93      brown   \n",
       "3         sinuate         none       gray         4.16        6.53      white   \n",
       "4       decurrent         none      white         3.37        8.36      white   \n",
       "\n",
       "  ring-type  habitat  season veil-type     target   volume  \n",
       "0      none    woods  autumn   partial     edible  186.799  \n",
       "1    others    woods  winter   partial  poisonous   25.596  \n",
       "2      none   leaves  winter   partial     edible   92.813  \n",
       "3      none    woods  summer   partial     edible   16.685  \n",
       "4      none  grasses  autumn   partial     edible   54.262  "
      ]
     },
     "execution_count": 13,
     "metadata": {},
     "output_type": "execute_result"
    }
   ],
   "source": [
    "def estimate_mushroom_volume(cap_diameter_cm, stem_height_cm, stem_width_mm):\n",
    "    # convert stem width from mm to cm and calculate radius\n",
    "    stem_radius_cm = stem_width_mm / 2 * 10\n",
    "    # cap is a hemisphere: V = (2/3) * π * r³\n",
    "    cap_radius_cm = cap_diameter_cm / 2\n",
    "    cap_volume = (2 / 3) * np.pi * (cap_radius_cm**3)\n",
    "    # stem is a cylinder: V = π * r² * h\n",
    "    stem_volume = np.pi * (stem_radius_cm**2) * stem_height_cm\n",
    "    return cap_volume + stem_volume\n",
    "\n",
    "\n",
    "if os.path.exists(\"./utils/train_df_volume.pkl\"):\n",
    "    train_df_volume = pickle.load(open(\"./utils/train_df_volume.pkl\", \"rb\"))\n",
    "else:\n",
    "    train_df_volume = train_df.copy()\n",
    "    train_df_volume.head()\n",
    "    train_df_volume[\"volume\"] = train_df.apply(\n",
    "        lambda row: estimate_mushroom_volume(row[\"cap-diameter\"], row[\"stem-height\"], row[\"stem-width\"]), axis=1\n",
    "    )\n",
    "    pickle.dump(train_df_volume, open(\"./utils/train_df_volume.pkl\", \"wb\"))\n",
    "\n",
    "train_df_volume.head()"
   ]
  },
  {
   "cell_type": "markdown",
   "id": "b457ad30",
   "metadata": {},
   "source": [
    "### Definição das sequências"
   ]
  },
  {
   "cell_type": "markdown",
   "id": "2e4ae9e9",
   "metadata": {},
   "source": [
    "Para este experimento, vamos observar a presença de padrões de sequência a partir das características do formato do chápeu do cogumelo, como `cap-surface` e `cap-shape`. Para isso iremos agrupar os cogumelos com as demais características de formato, e ordenar por volume."
   ]
  },
  {
   "cell_type": "code",
   "execution_count": 14,
   "id": "cd4df096",
   "metadata": {},
   "outputs": [
    {
     "name": "stdout",
     "output_type": "stream",
     "text": [
      "Número de instâncias: 2178129\n",
      "Número de IDs: 2377\n"
     ]
    },
    {
     "data": {
      "text/html": [
       "<div>\n",
       "<style scoped>\n",
       "    .dataframe tbody tr th:only-of-type {\n",
       "        vertical-align: middle;\n",
       "    }\n",
       "\n",
       "    .dataframe tbody tr th {\n",
       "        vertical-align: top;\n",
       "    }\n",
       "\n",
       "    .dataframe thead th {\n",
       "        text-align: right;\n",
       "    }\n",
       "</style>\n",
       "<table border=\"1\" class=\"dataframe\">\n",
       "  <thead>\n",
       "    <tr style=\"text-align: right;\">\n",
       "      <th></th>\n",
       "      <th>id</th>\n",
       "      <th>target</th>\n",
       "      <th>series</th>\n",
       "    </tr>\n",
       "  </thead>\n",
       "  <tbody>\n",
       "    <tr>\n",
       "      <th>0</th>\n",
       "      <td>gill-spacing: close; gill-attachment: adnate; season: autumn; habitat: woods; ring-type: none; veil-type: partial; target: edible; does-bruise-or-bleed: no</td>\n",
       "      <td>cap-surface: smooth; cap-shape: flat</td>\n",
       "      <td>186.799</td>\n",
       "    </tr>\n",
       "    <tr>\n",
       "      <th>1</th>\n",
       "      <td>gill-spacing: close; gill-attachment: adnate; season: winter; habitat: woods; ring-type: others; veil-type: partial; target: poisonous; does-bruise-or-bleed: no</td>\n",
       "      <td>cap-surface: shiny; cap-shape: convex</td>\n",
       "      <td>25.596</td>\n",
       "    </tr>\n",
       "    <tr>\n",
       "      <th>2</th>\n",
       "      <td>gill-spacing: close; gill-attachment: adnexed; season: winter; habitat: leaves; ring-type: none; veil-type: partial; target: edible; does-bruise-or-bleed: no</td>\n",
       "      <td>cap-surface: smooth; cap-shape: flat</td>\n",
       "      <td>92.813</td>\n",
       "    </tr>\n",
       "    <tr>\n",
       "      <th>3</th>\n",
       "      <td>gill-spacing: none; gill-attachment: sinuate; season: summer; habitat: woods; ring-type: none; veil-type: partial; target: edible; does-bruise-or-bleed: no</td>\n",
       "      <td>cap-surface: scaly; cap-shape: flat</td>\n",
       "      <td>16.685</td>\n",
       "    </tr>\n",
       "    <tr>\n",
       "      <th>4</th>\n",
       "      <td>gill-spacing: none; gill-attachment: decurrent; season: autumn; habitat: grasses; ring-type: none; veil-type: partial; target: edible; does-bruise-or-bleed: no</td>\n",
       "      <td>cap-surface: leathery; cap-shape: convex</td>\n",
       "      <td>54.262</td>\n",
       "    </tr>\n",
       "  </tbody>\n",
       "</table>\n",
       "</div>"
      ],
      "text/plain": [
       "                                                                                                                                                                 id  \\\n",
       "0       gill-spacing: close; gill-attachment: adnate; season: autumn; habitat: woods; ring-type: none; veil-type: partial; target: edible; does-bruise-or-bleed: no   \n",
       "1  gill-spacing: close; gill-attachment: adnate; season: winter; habitat: woods; ring-type: others; veil-type: partial; target: poisonous; does-bruise-or-bleed: no   \n",
       "2     gill-spacing: close; gill-attachment: adnexed; season: winter; habitat: leaves; ring-type: none; veil-type: partial; target: edible; does-bruise-or-bleed: no   \n",
       "3       gill-spacing: none; gill-attachment: sinuate; season: summer; habitat: woods; ring-type: none; veil-type: partial; target: edible; does-bruise-or-bleed: no   \n",
       "4   gill-spacing: none; gill-attachment: decurrent; season: autumn; habitat: grasses; ring-type: none; veil-type: partial; target: edible; does-bruise-or-bleed: no   \n",
       "\n",
       "                                     target   series  \n",
       "0      cap-surface: smooth; cap-shape: flat  186.799  \n",
       "1     cap-surface: shiny; cap-shape: convex   25.596  \n",
       "2      cap-surface: smooth; cap-shape: flat   92.813  \n",
       "3       cap-surface: scaly; cap-shape: flat   16.685  \n",
       "4  cap-surface: leathery; cap-shape: convex   54.262  "
      ]
     },
     "execution_count": 14,
     "metadata": {},
     "output_type": "execute_result"
    }
   ],
   "source": [
    "if os.path.exists(\"./utils/train_df_seq.pkl\"):\n",
    "    with open(\"./utils/train_df_seq.pkl\", \"rb\") as f:\n",
    "        train_df_seq = pickle.load(f)\n",
    "else:\n",
    "    train_df_seq = train_df_volume.copy()\n",
    "\n",
    "    series_feature = \"volume\"\n",
    "    target_features = [\"cap-surface\", \"cap-shape\"]\n",
    "    group_features = [\n",
    "        \"gill-spacing\",\n",
    "        \"gill-attachment\",\n",
    "        \"ring-type\",\n",
    "        \"veil-type\",\n",
    "    ]\n",
    "\n",
    "    # Criação do ID\n",
    "    train_df_seq[\"id\"] = (\n",
    "        train_df_seq[group_features]\n",
    "        .astype(str)\n",
    "        .agg(lambda x: \"; \".join(f\"{col}: {val}\" for col, val in zip(group_features, x)), axis=1)\n",
    "    )\n",
    "\n",
    "    # Criação do target\n",
    "    train_df_seq[\"target\"] = (\n",
    "        train_df_seq[target_features]\n",
    "        .astype(str)\n",
    "        .agg(lambda x: \"; \".join(f\"{col}: {val}\" for col, val in zip(target_features, x)), axis=1)\n",
    "    )\n",
    "\n",
    "    # Remover instâncias com \"others\" no target\n",
    "    train_df_seq = train_df_seq[~train_df_seq[\"target\"].str.contains(\"others\")]\n",
    "\n",
    "    # Adiciona a série\n",
    "    train_df_seq[\"series\"] = train_df_seq[series_feature]\n",
    "\n",
    "    # Seleciona colunas e remove duplicatas\n",
    "    train_df_seq = train_df_seq[[\"id\", \"target\", \"series\"]].drop_duplicates()\n",
    "\n",
    "    # Salvar no pickle\n",
    "    with open(\"./utils/train_df_seq.pkl\", \"wb\") as f:\n",
    "        pickle.dump(train_df_seq, f)\n",
    "\n",
    "# Informações de saída\n",
    "print(\"Número de instâncias:\", len(train_df_seq))\n",
    "print(\"Número de IDs:\", train_df_seq[\"id\"].nunique())\n",
    "train_df_seq[[\"id\", \"target\", \"series\"]].head()"
   ]
  },
  {
   "cell_type": "markdown",
   "id": "30c52804",
   "metadata": {},
   "source": [
    "Após o agrupamento, criamos as sequencias que serão utilizadas para a mineração de padrões de sequência."
   ]
  },
  {
   "cell_type": "code",
   "execution_count": 15,
   "id": "0da1918f",
   "metadata": {},
   "outputs": [
    {
     "data": {
      "text/plain": [
       "2833"
      ]
     },
     "execution_count": 15,
     "metadata": {},
     "output_type": "execute_result"
    }
   ],
   "source": [
    "def truncate_sequence(seq, n, m, max_attempts=100):\n",
    "    if len(seq) < n:\n",
    "        return [seq]\n",
    "    results = set()\n",
    "    attempts = 0\n",
    "    while len(results) < m and attempts < max_attempts:\n",
    "        indices = tuple(sorted(random.sample(range(len(seq)), n)))\n",
    "        results.add(indices)\n",
    "        attempts += 1\n",
    "    return [[seq[i] for i in idx] for idx in results]\n",
    "\n",
    "\n",
    "sequences = (\n",
    "    train_df_seq.sort_values(by=[\"id\", \"series\"])\n",
    "    .groupby(\"id\")[\"target\"]\n",
    "    .apply(list)\n",
    "    .apply(lambda seq: truncate_sequence(seq, 100, 2))\n",
    "    .tolist()\n",
    ")\n",
    "\n",
    "sequences = [item for sublist in sequences for item in sublist]\n",
    "\n",
    "len(sequences)"
   ]
  },
  {
   "cell_type": "markdown",
   "id": "b139fd96",
   "metadata": {},
   "source": [
    "### Mineração de padrões sequenciais"
   ]
  },
  {
   "cell_type": "markdown",
   "id": "23571c8a",
   "metadata": {},
   "source": [
    "Utilizamos o algoritmo `PrefixSpan` para minerar os padrões sequenciais, utilizando um suporte mínimo de $0.05$."
   ]
  },
  {
   "cell_type": "code",
   "execution_count": 16,
   "id": "8d4d915b",
   "metadata": {},
   "outputs": [
    {
     "data": {
      "text/html": [
       "<div>\n",
       "<style scoped>\n",
       "    .dataframe tbody tr th:only-of-type {\n",
       "        vertical-align: middle;\n",
       "    }\n",
       "\n",
       "    .dataframe tbody tr th {\n",
       "        vertical-align: top;\n",
       "    }\n",
       "\n",
       "    .dataframe thead th {\n",
       "        text-align: right;\n",
       "    }\n",
       "</style>\n",
       "<table border=\"1\" class=\"dataframe\">\n",
       "  <thead>\n",
       "    <tr style=\"text-align: right;\">\n",
       "      <th></th>\n",
       "      <th>support</th>\n",
       "      <th>pattern</th>\n",
       "    </tr>\n",
       "  </thead>\n",
       "  <tbody>\n",
       "    <tr>\n",
       "      <th>737</th>\n",
       "      <td>0.070</td>\n",
       "      <td>[cap-surface: shiny; cap-shape: convex, cap-surface: sticky; cap-shape: convex, cap-surface: smooth; cap-shape: convex]</td>\n",
       "    </tr>\n",
       "    <tr>\n",
       "      <th>762</th>\n",
       "      <td>0.070</td>\n",
       "      <td>[cap-surface: scaly; cap-shape: convex, cap-surface: smooth; cap-shape: convex, cap-surface: smooth; cap-shape: flat]</td>\n",
       "    </tr>\n",
       "    <tr>\n",
       "      <th>838</th>\n",
       "      <td>0.069</td>\n",
       "      <td>[cap-surface: scaly; cap-shape: flat, cap-surface: smooth; cap-shape: convex, cap-surface: smooth; cap-shape: flat]</td>\n",
       "    </tr>\n",
       "    <tr>\n",
       "      <th>909</th>\n",
       "      <td>0.068</td>\n",
       "      <td>[cap-surface: sticky; cap-shape: convex, cap-surface: shiny; cap-shape: convex, cap-surface: smooth; cap-shape: convex]</td>\n",
       "    </tr>\n",
       "    <tr>\n",
       "      <th>1246</th>\n",
       "      <td>0.066</td>\n",
       "      <td>[cap-surface: smooth; cap-shape: convex, cap-surface: scaly; cap-shape: convex, cap-surface: smooth; cap-shape: flat]</td>\n",
       "    </tr>\n",
       "    <tr>\n",
       "      <th>1332</th>\n",
       "      <td>0.065</td>\n",
       "      <td>[cap-surface: smooth; cap-shape: convex, cap-surface: sticky; cap-shape: convex, cap-surface: shiny; cap-shape: convex]</td>\n",
       "    </tr>\n",
       "    <tr>\n",
       "      <th>1507</th>\n",
       "      <td>0.065</td>\n",
       "      <td>[cap-surface: scaly; cap-shape: flat, cap-surface: smooth; cap-shape: flat, cap-surface: smooth; cap-shape: convex]</td>\n",
       "    </tr>\n",
       "    <tr>\n",
       "      <th>1677</th>\n",
       "      <td>0.064</td>\n",
       "      <td>[cap-surface: scaly; cap-shape: convex, cap-surface: smooth; cap-shape: flat, cap-surface: smooth; cap-shape: convex]</td>\n",
       "    </tr>\n",
       "    <tr>\n",
       "      <th>1762</th>\n",
       "      <td>0.063</td>\n",
       "      <td>[cap-surface: sticky; cap-shape: convex, cap-surface: smooth; cap-shape: convex, cap-surface: shiny; cap-shape: convex]</td>\n",
       "    </tr>\n",
       "    <tr>\n",
       "      <th>2075</th>\n",
       "      <td>0.062</td>\n",
       "      <td>[cap-surface: shiny; cap-shape: convex, cap-surface: smooth; cap-shape: convex, cap-surface: sticky; cap-shape: convex]</td>\n",
       "    </tr>\n",
       "  </tbody>\n",
       "</table>\n",
       "</div>"
      ],
      "text/plain": [
       "      support  \\\n",
       "737     0.070   \n",
       "762     0.070   \n",
       "838     0.069   \n",
       "909     0.068   \n",
       "1246    0.066   \n",
       "1332    0.065   \n",
       "1507    0.065   \n",
       "1677    0.064   \n",
       "1762    0.063   \n",
       "2075    0.062   \n",
       "\n",
       "                                                                                                                      pattern  \n",
       "737   [cap-surface: shiny; cap-shape: convex, cap-surface: sticky; cap-shape: convex, cap-surface: smooth; cap-shape: convex]  \n",
       "762     [cap-surface: scaly; cap-shape: convex, cap-surface: smooth; cap-shape: convex, cap-surface: smooth; cap-shape: flat]  \n",
       "838       [cap-surface: scaly; cap-shape: flat, cap-surface: smooth; cap-shape: convex, cap-surface: smooth; cap-shape: flat]  \n",
       "909   [cap-surface: sticky; cap-shape: convex, cap-surface: shiny; cap-shape: convex, cap-surface: smooth; cap-shape: convex]  \n",
       "1246    [cap-surface: smooth; cap-shape: convex, cap-surface: scaly; cap-shape: convex, cap-surface: smooth; cap-shape: flat]  \n",
       "1332  [cap-surface: smooth; cap-shape: convex, cap-surface: sticky; cap-shape: convex, cap-surface: shiny; cap-shape: convex]  \n",
       "1507      [cap-surface: scaly; cap-shape: flat, cap-surface: smooth; cap-shape: flat, cap-surface: smooth; cap-shape: convex]  \n",
       "1677    [cap-surface: scaly; cap-shape: convex, cap-surface: smooth; cap-shape: flat, cap-surface: smooth; cap-shape: convex]  \n",
       "1762  [cap-surface: sticky; cap-shape: convex, cap-surface: smooth; cap-shape: convex, cap-surface: shiny; cap-shape: convex]  \n",
       "2075  [cap-surface: shiny; cap-shape: convex, cap-surface: smooth; cap-shape: convex, cap-surface: sticky; cap-shape: convex]  "
      ]
     },
     "execution_count": 16,
     "metadata": {},
     "output_type": "execute_result"
    }
   ],
   "source": [
    "ps = PrefixSpan(sequences)\n",
    "\n",
    "frequent_sequences = ps.frequent(int(0.05 * len(sequences)))\n",
    "frequent_sequences = sorted(frequent_sequences, key=lambda x: x[0], reverse=True)\n",
    "frequent_sequences_df = pd.DataFrame(frequent_sequences, columns=[\"support\", \"pattern\"])\n",
    "frequent_sequences_df[\"support\"] = frequent_sequences_df[\"support\"] / len(sequences)\n",
    "\n",
    "\n",
    "def no_consecutive_repeats(pattern):\n",
    "    if len(pattern) < 2:\n",
    "        return True\n",
    "    if pattern[0] == pattern[1]:\n",
    "        return False\n",
    "    return no_consecutive_repeats(pattern[1:])\n",
    "\n",
    "\n",
    "most_frequent_sequences_df = frequent_sequences_df[\n",
    "    (frequent_sequences_df[\"pattern\"].apply(len) >= 2)\n",
    "    & (frequent_sequences_df[\"pattern\"].apply(lambda x: len(set(x))) >= 3)\n",
    "    & (frequent_sequences_df[\"pattern\"].apply(no_consecutive_repeats))\n",
    "]\n",
    "\n",
    "most_frequent_sequences_df.head(10)"
   ]
  },
  {
   "cell_type": "markdown",
   "id": "e7fc2c0b",
   "metadata": {},
   "source": [
    "Podemos observar com as padrões sequenciais minerados, que os cogumelos tendem a possuir uma superfície do chapeu (`cap-surface`) mais lisa (`smooth`) conforme seu tamanho aumenta. Já em relação ao formato do chapéu (`cap-shape`), a tendência é seu formato convexo (`convex`) se tornar mais achatado (`flat`)."
   ]
  },
  {
   "cell_type": "code",
   "execution_count": 17,
   "id": "fe30bc4f",
   "metadata": {},
   "outputs": [
    {
     "name": "stdout",
     "output_type": "stream",
     "text": [
      "Support: 0.070\n",
      "cap-surface: shiny\t|\tcap-shape: convex\n",
      "cap-surface: sticky\t|\tcap-shape: convex\n",
      "cap-surface: smooth\t|\tcap-shape: convex\n",
      "\n",
      "Support: 0.070\n",
      "cap-surface: scaly\t|\tcap-shape: convex\n",
      "cap-surface: smooth\t|\tcap-shape: convex\n",
      "cap-surface: smooth\t|\tcap-shape: flat\n",
      "\n",
      "Support: 0.069\n",
      "cap-surface: scaly\t|\tcap-shape: flat\n",
      "cap-surface: smooth\t|\tcap-shape: convex\n",
      "cap-surface: smooth\t|\tcap-shape: flat\n",
      "\n",
      "Support: 0.068\n",
      "cap-surface: sticky\t|\tcap-shape: convex\n",
      "cap-surface: shiny\t|\tcap-shape: convex\n",
      "cap-surface: smooth\t|\tcap-shape: convex\n",
      "\n",
      "Support: 0.066\n",
      "cap-surface: smooth\t|\tcap-shape: convex\n",
      "cap-surface: scaly\t|\tcap-shape: convex\n",
      "cap-surface: smooth\t|\tcap-shape: flat\n",
      "\n",
      "Support: 0.065\n",
      "cap-surface: smooth\t|\tcap-shape: convex\n",
      "cap-surface: sticky\t|\tcap-shape: convex\n",
      "cap-surface: shiny\t|\tcap-shape: convex\n",
      "\n",
      "Support: 0.065\n",
      "cap-surface: scaly\t|\tcap-shape: flat\n",
      "cap-surface: smooth\t|\tcap-shape: flat\n",
      "cap-surface: smooth\t|\tcap-shape: convex\n",
      "\n",
      "Support: 0.064\n",
      "cap-surface: scaly\t|\tcap-shape: convex\n",
      "cap-surface: smooth\t|\tcap-shape: flat\n",
      "cap-surface: smooth\t|\tcap-shape: convex\n",
      "\n",
      "Support: 0.063\n",
      "cap-surface: sticky\t|\tcap-shape: convex\n",
      "cap-surface: smooth\t|\tcap-shape: convex\n",
      "cap-surface: shiny\t|\tcap-shape: convex\n",
      "\n",
      "Support: 0.062\n",
      "cap-surface: shiny\t|\tcap-shape: convex\n",
      "cap-surface: smooth\t|\tcap-shape: convex\n",
      "cap-surface: sticky\t|\tcap-shape: convex\n",
      "\n",
      "Support: 0.062\n",
      "cap-surface: smooth\t|\tcap-shape: convex\n",
      "cap-surface: shiny\t|\tcap-shape: convex\n",
      "cap-surface: sticky\t|\tcap-shape: convex\n",
      "\n",
      "Support: 0.059\n",
      "cap-surface: scaly\t|\tcap-shape: flat\n",
      "cap-surface: scaly\t|\tcap-shape: convex\n",
      "cap-surface: smooth\t|\tcap-shape: flat\n",
      "\n",
      "Support: 0.059\n",
      "cap-surface: scaly\t|\tcap-shape: convex\n",
      "cap-surface: scaly\t|\tcap-shape: flat\n",
      "cap-surface: smooth\t|\tcap-shape: flat\n",
      "\n",
      "Support: 0.057\n",
      "cap-surface: scaly\t|\tcap-shape: flat\n",
      "cap-surface: scaly\t|\tcap-shape: convex\n",
      "cap-surface: smooth\t|\tcap-shape: convex\n",
      "\n",
      "Support: 0.057\n",
      "cap-surface: smooth\t|\tcap-shape: convex\n",
      "cap-surface: smooth\t|\tcap-shape: flat\n",
      "cap-surface: scaly\t|\tcap-shape: convex\n",
      "\n",
      "Support: 0.056\n",
      "cap-surface: smooth\t|\tcap-shape: flat\n",
      "cap-surface: scaly\t|\tcap-shape: convex\n",
      "cap-surface: smooth\t|\tcap-shape: convex\n",
      "\n",
      "Support: 0.054\n",
      "cap-surface: sticky\t|\tcap-shape: convex\n",
      "cap-surface: smooth\t|\tcap-shape: convex\n",
      "cap-surface: smooth\t|\tcap-shape: flat\n",
      "\n",
      "Support: 0.054\n",
      "cap-surface: scaly\t|\tcap-shape: convex\n",
      "cap-surface: smooth\t|\tcap-shape: convex\n",
      "cap-surface: smooth\t|\tcap-shape: flat\n",
      "cap-surface: smooth\t|\tcap-shape: convex\n",
      "\n",
      "Support: 0.054\n",
      "cap-surface: scaly\t|\tcap-shape: convex\n",
      "cap-surface: scaly\t|\tcap-shape: flat\n",
      "cap-surface: smooth\t|\tcap-shape: convex\n",
      "\n",
      "Support: 0.054\n",
      "cap-surface: shiny\t|\tcap-shape: convex\n",
      "cap-surface: smooth\t|\tcap-shape: convex\n",
      "cap-surface: smooth\t|\tcap-shape: flat\n",
      "\n",
      "Support: 0.054\n",
      "cap-surface: smooth\t|\tcap-shape: convex\n",
      "cap-surface: scaly\t|\tcap-shape: convex\n",
      "cap-surface: smooth\t|\tcap-shape: convex\n",
      "cap-surface: smooth\t|\tcap-shape: flat\n",
      "\n",
      "Support: 0.054\n",
      "cap-surface: smooth\t|\tcap-shape: convex\n",
      "cap-surface: scaly\t|\tcap-shape: flat\n",
      "cap-surface: smooth\t|\tcap-shape: flat\n",
      "\n",
      "Support: 0.054\n",
      "cap-surface: scaly\t|\tcap-shape: flat\n",
      "cap-surface: smooth\t|\tcap-shape: flat\n",
      "cap-surface: smooth\t|\tcap-shape: convex\n",
      "cap-surface: smooth\t|\tcap-shape: flat\n",
      "\n",
      "Support: 0.054\n",
      "cap-surface: sticky\t|\tcap-shape: convex\n",
      "cap-surface: shiny\t|\tcap-shape: convex\n",
      "cap-surface: sticky\t|\tcap-shape: convex\n",
      "cap-surface: smooth\t|\tcap-shape: convex\n",
      "\n",
      "Support: 0.054\n",
      "cap-surface: scaly\t|\tcap-shape: flat\n",
      "cap-surface: smooth\t|\tcap-shape: convex\n",
      "cap-surface: smooth\t|\tcap-shape: flat\n",
      "cap-surface: smooth\t|\tcap-shape: convex\n",
      "\n",
      "Support: 0.053\n",
      "cap-surface: scaly\t|\tcap-shape: flat\n",
      "cap-surface: smooth\t|\tcap-shape: convex\n",
      "cap-surface: scaly\t|\tcap-shape: convex\n",
      "\n",
      "Support: 0.053\n",
      "cap-surface: shiny\t|\tcap-shape: convex\n",
      "cap-surface: smooth\t|\tcap-shape: flat\n",
      "cap-surface: smooth\t|\tcap-shape: convex\n",
      "\n",
      "Support: 0.053\n",
      "cap-surface: scaly\t|\tcap-shape: convex\n",
      "cap-surface: smooth\t|\tcap-shape: convex\n",
      "cap-surface: scaly\t|\tcap-shape: flat\n",
      "\n",
      "Support: 0.053\n",
      "cap-surface: smooth\t|\tcap-shape: flat\n",
      "cap-surface: scaly\t|\tcap-shape: flat\n",
      "cap-surface: smooth\t|\tcap-shape: convex\n",
      "\n",
      "Support: 0.053\n",
      "cap-surface: smooth\t|\tcap-shape: convex\n",
      "cap-surface: scaly\t|\tcap-shape: convex\n",
      "cap-surface: smooth\t|\tcap-shape: flat\n",
      "cap-surface: smooth\t|\tcap-shape: convex\n",
      "\n",
      "Support: 0.052\n",
      "cap-surface: smooth\t|\tcap-shape: convex\n",
      "cap-surface: scaly\t|\tcap-shape: convex\n",
      "cap-surface: scaly\t|\tcap-shape: flat\n",
      "\n",
      "Support: 0.052\n",
      "cap-surface: scaly\t|\tcap-shape: convex\n",
      "cap-surface: smooth\t|\tcap-shape: flat\n",
      "cap-surface: smooth\t|\tcap-shape: convex\n",
      "cap-surface: smooth\t|\tcap-shape: flat\n",
      "\n",
      "Support: 0.052\n",
      "cap-surface: sticky\t|\tcap-shape: convex\n",
      "cap-surface: shiny\t|\tcap-shape: convex\n",
      "cap-surface: shiny\t|\tcap-shape: flat\n",
      "\n",
      "Support: 0.052\n",
      "cap-surface: sticky\t|\tcap-shape: convex\n",
      "cap-surface: smooth\t|\tcap-shape: convex\n",
      "cap-surface: sticky\t|\tcap-shape: convex\n",
      "cap-surface: shiny\t|\tcap-shape: convex\n",
      "\n",
      "Support: 0.052\n",
      "cap-surface: smooth\t|\tcap-shape: flat\n",
      "cap-surface: smooth\t|\tcap-shape: convex\n",
      "cap-surface: scaly\t|\tcap-shape: convex\n",
      "\n",
      "Support: 0.051\n",
      "cap-surface: smooth\t|\tcap-shape: convex\n",
      "cap-surface: smooth\t|\tcap-shape: flat\n",
      "cap-surface: scaly\t|\tcap-shape: flat\n",
      "\n",
      "Support: 0.050\n",
      "cap-surface: smooth\t|\tcap-shape: convex\n",
      "cap-surface: smooth\t|\tcap-shape: flat\n",
      "cap-surface: smooth\t|\tcap-shape: sunken\n",
      "\n",
      "Support: 0.050\n",
      "cap-surface: smooth\t|\tcap-shape: convex\n",
      "cap-surface: sticky\t|\tcap-shape: convex\n",
      "cap-surface: smooth\t|\tcap-shape: convex\n",
      "cap-surface: shiny\t|\tcap-shape: convex\n",
      "\n",
      "Support: 0.050\n",
      "cap-surface: shiny\t|\tcap-shape: convex\n",
      "cap-surface: sticky\t|\tcap-shape: convex\n",
      "cap-surface: shiny\t|\tcap-shape: convex\n",
      "cap-surface: smooth\t|\tcap-shape: convex\n",
      "\n",
      "Support: 0.050\n",
      "cap-surface: smooth\t|\tcap-shape: convex\n",
      "cap-surface: scaly\t|\tcap-shape: flat\n",
      "cap-surface: scaly\t|\tcap-shape: convex\n",
      "\n"
     ]
    }
   ],
   "source": [
    "def print_patterns_from_df(df):\n",
    "    for idx, row in df.iterrows():\n",
    "        print(f\"Support: {row['support']:.3f}\")\n",
    "        for i, item in enumerate(row[\"pattern\"], 1):\n",
    "            parts = [part.strip() for part in item.split(\";\")]\n",
    "            formatted = \"\\t|\\t\".join(parts)\n",
    "            print(formatted)\n",
    "        print()\n",
    "\n",
    "\n",
    "print_patterns_from_df(most_frequent_sequences_df)"
   ]
  },
  {
   "cell_type": "markdown",
   "id": "270f7260",
   "metadata": {},
   "source": [
    "## Referências"
   ]
  },
  {
   "cell_type": "markdown",
   "id": "b79dadf5",
   "metadata": {},
   "source": [
    "Reade W., Chow A. (2024). Kaggle. Binary Prediction of Poisonous Mushrooms. https://kaggle.com/competitions/playground-series-s4e8.\n",
    "\n",
    "Mushroom [Dataset]. (1981). UCI Machine Learning Repository. https://doi.org/10.24432/C5959T.\n",
    "\n",
    "Wagner, D., Heider, D., & Hattab, G. (2021). Secondary Mushroom [Dataset]. UCI Machine Learning Repository. https://doi.org/10.24432/C5FP5Q."
   ]
  }
 ],
 "metadata": {
  "kernelspec": {
   "display_name": "Python 3",
   "language": "python",
   "name": "python3"
  },
  "language_info": {
   "codemirror_mode": {
    "name": "ipython",
    "version": 3
   },
   "file_extension": ".py",
   "mimetype": "text/x-python",
   "name": "python",
   "nbconvert_exporter": "python",
   "pygments_lexer": "ipython3",
   "version": "3.13.3"
  }
 },
 "nbformat": 4,
 "nbformat_minor": 5
}
